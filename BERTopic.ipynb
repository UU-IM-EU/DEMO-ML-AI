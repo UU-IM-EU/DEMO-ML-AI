{
  "nbformat": 4,
  "nbformat_minor": 0,
  "metadata": {
    "colab": {
      "provenance": [],
      "gpuType": "T4",
      "include_colab_link": true
    },
    "kernelspec": {
      "name": "python3",
      "display_name": "Python 3"
    },
    "accelerator": "GPU"
  },
  "cells": [
    {
      "cell_type": "markdown",
      "metadata": {
        "id": "view-in-github",
        "colab_type": "text"
      },
      "source": [
        "<a href=\"https://colab.research.google.com/github/UU-IM-EU/DEMO-ML-AI/blob/main/BERTopic.ipynb\" target=\"_parent\"><img src=\"https://colab.research.google.com/assets/colab-badge.svg\" alt=\"Open In Colab\"/></a>"
      ]
    },
    {
      "cell_type": "markdown",
      "metadata": {
        "id": "AXHLDxJdRzBi"
      },
      "source": [
        "\n",
        "\n",
        "\n",
        "## BERTopic\n",
        "BERTopic is a topic modeling technique that leverages 🤗 transformers and a custom class-based TF-IDF to create dense clusters allowing for easily interpretable topics whilst keeping important words in the topic descriptions.\n",
        "\n",
        "<br>\n",
        "\n",
        "<img src=\"https://raw.githubusercontent.com/MaartenGr/BERTopic/master/images/logo.png\" width=\"40%\">"
      ]
    },
    {
      "cell_type": "markdown",
      "metadata": {
        "id": "130PIKarkY1_"
      },
      "source": [
        "# Starta en GPU session\n",
        "\n",
        "\n",
        "- Navigera till Edit -> Notebook Settings Navigate to Edit→Notebook Settings\n",
        "- Välj GPU från Hardware Accelerator drop-down\n",
        "\n",
        "[Reference](https://colab.research.google.com/notebooks/gpu.ipynb)"
      ]
    },
    {
      "cell_type": "markdown",
      "metadata": {
        "id": "lj2MUI9Mkdxu"
      },
      "source": [
        "# **Installera BERTopic**\n",
        "\n",
        "Först installeras BERTTopic från PyPi"
      ]
    },
    {
      "cell_type": "code",
      "metadata": {
        "id": "SNa-KtKDRnus"
      },
      "source": [
        "%%capture\n",
        "!pip install bertopic"
      ],
      "execution_count": 1,
      "outputs": []
    },
    {
      "cell_type": "markdown",
      "source": [
        "## Sätt upp åtkomst till datafil\n",
        "\n",
        "Eftersom filen är så stor så har jag sparat den på min gDrive. För att kunna excekvera notebooken och analysera data behöver ni skapa någon typ av lagringsplats där ni kan spara filen och läsa från den. Det kommer inte fungera att göra det från min gDrive."
      ],
      "metadata": {
        "id": "tyhkpA3daTTe"
      }
    },
    {
      "cell_type": "code",
      "source": [
        "from google.colab import drive\n",
        "drive.mount('/content/drive')\n"
      ],
      "metadata": {
        "id": "bs21GFeaQ5Ms",
        "outputId": "90d49861-5ed4-4d1a-efb9-3fcd4c417a1f",
        "colab": {
          "base_uri": "https://localhost:8080/"
        }
      },
      "execution_count": 2,
      "outputs": [
        {
          "output_type": "stream",
          "name": "stdout",
          "text": [
            "Mounted at /content/drive\n"
          ]
        }
      ]
    },
    {
      "cell_type": "markdown",
      "metadata": {
        "id": "0ehO3emgk96g"
      },
      "source": [
        "## Starta om Notebook\n",
        "När BERTTopic är installerad så behöver vissa andra paket också uppdateras, detta kräver en omstart.\n",
        "\n",
        "Från menyn:\n",
        "\n",
        "Körning → Starta om körning"
      ]
    },
    {
      "cell_type": "markdown",
      "source": [
        "## DATA\n",
        "\n",
        "Vi använder en kurerad datamängd från den ursprungliga datamängd som tillhandahållits av Arbetsmiljöverket. Dock verkar något fortfarande ligga i filen som jag inte ser och därför fick jag göra en workaround för att få in texten från endast en kolumn."
      ],
      "metadata": {
        "id": "ro4MJt5R3MuX"
      }
    },
    {
      "cell_type": "code",
      "source": [
        "import pandas as pd\n",
        "temp = pd.read_csv('/content/drive/MyDrive/AI_AV/Webbstat_utdrag_AI_en_kolumn.csv', nrows=100000, names = [f'col{i+1}' for i in range(2)])\n",
        "skador=temp['col1']\n",
        "skador"
      ],
      "metadata": {
        "id": "bONVLfVnW1hj",
        "outputId": "d95bee11-6cfb-4483-cdae-c63a84a48b5e",
        "colab": {
          "base_uri": "https://localhost:8080/"
        }
      },
      "execution_count": 1,
      "outputs": [
        {
          "output_type": "execute_result",
          "data": {
            "text/plain": [
              "0        Sociala och organisatoriska orsaker\n",
              "1             Ergonomiska belastningsorsaker\n",
              "2             Ergonomiska belastningsorsaker\n",
              "3             Ergonomiska belastningsorsaker\n",
              "4             Ergonomiska belastningsorsaker\n",
              "                        ...                 \n",
              "99995                                 Saknas\n",
              "99996                                 Saknas\n",
              "99997                                 Saknas\n",
              "99998                                 Saknas\n",
              "99999                                 Saknas\n",
              "Name: col1, Length: 100000, dtype: object"
            ]
          },
          "metadata": {},
          "execution_count": 1
        }
      ]
    },
    {
      "cell_type": "markdown",
      "source": [
        "Eftersom sentence transformers förväntar sig text i form av en mening i taget i en lista skapas en lista som består av alla texter."
      ],
      "metadata": {
        "id": "duKud_eHGD3D"
      }
    },
    {
      "cell_type": "code",
      "source": [
        "skador.to_list"
      ],
      "metadata": {
        "id": "K0ai_LnnVHYD",
        "outputId": "0d5c25a1-cbe4-473b-c637-d8b9bdc02bd7",
        "colab": {
          "base_uri": "https://localhost:8080/"
        }
      },
      "execution_count": 3,
      "outputs": [
        {
          "output_type": "execute_result",
          "data": {
            "text/plain": [
              "<bound method IndexOpsMixin.tolist of 0        Sociala och organisatoriska orsaker\n",
              "1             Ergonomiska belastningsorsaker\n",
              "2             Ergonomiska belastningsorsaker\n",
              "3             Ergonomiska belastningsorsaker\n",
              "4             Ergonomiska belastningsorsaker\n",
              "                        ...                 \n",
              "99995                                 Saknas\n",
              "99996                                 Saknas\n",
              "99997                                 Saknas\n",
              "99998                                 Saknas\n",
              "99999                                 Saknas\n",
              "Name: col1, Length: 100000, dtype: object>"
            ]
          },
          "metadata": {},
          "execution_count": 3
        }
      ]
    },
    {
      "cell_type": "markdown",
      "metadata": {
        "id": "SBcNmZJzSTY8"
      },
      "source": [
        "# **Temamodellering**\n",
        "\n",
        "Nedan följer ett exempel på hur en temamodell skapas utifrån den inlästa datamängden som alltså består av en lista med 100 000 meningar som lagts en och en i en lista.\n",
        "\n",
        "\n"
      ]
    },
    {
      "cell_type": "markdown",
      "metadata": {
        "id": "QI6vwelqnTL-"
      },
      "source": [
        "## Träning\n",
        "**OBS:** *Temamodellering är en oövervakad inlärningsmodell, den tränas alltså inte på märkt data utan förväntas hitta mönster på egen hand.*\n",
        "\n",
        "Vi börjar med att instansiera den sentence transformer vi vill använda och sparar den i en variabel. Därefter instansierar vi själva BERTTopic. Vi anger att vår sentence transformer från KB-lab ska användas eftersom det är svensk text vi ska analysera.  För att använda en sentence transformer som kan hantera 50+ språk (men förmodligen sämre) kan istället en parameter för språk multilingual `language=\"multilingual\"`\n",
        "\n",
        "Det är också möjligt att sätta andra parametrar, exempelvis sannolikhetsparametrar för olika teman. Vissa av dessa gör dock algoritmerna långsammare så har man mycket data är det klokt att inte slå på dessa parametrar.\n"
      ]
    },
    {
      "cell_type": "code",
      "source": [
        "#hämtar KB-lab sentence transformer och instansierar den i variabeln model_SWE\n",
        "from sentence_transformers import SentenceTransformer\n",
        "model_SWE = SentenceTransformer('KBLab/sentence-bert-swedish-cased')\n",
        "\n",
        "\n"
      ],
      "metadata": {
        "id": "GEXwZvpfSnAq"
      },
      "execution_count": 4,
      "outputs": []
    },
    {
      "cell_type": "code",
      "metadata": {
        "id": "TfhfzqkoSJ1I"
      },
      "source": [
        "#importera BERTTopic och instansiera  modellen i variablen 'topic_model'.\n",
        "from bertopic import BERTopic\n",
        "\n",
        "topic_model = BERTopic(embedding_model= model_SWE, calculate_probabilities=False)\n",
        "#träna modellen med den lista med meningar som finns i variablen 'skador' och spara resultatet i variablen 'topics'\n",
        "topics = topic_model.fit_transform(skador)"
      ],
      "execution_count": 5,
      "outputs": []
    },
    {
      "cell_type": "markdown",
      "metadata": {
        "id": "2eyImbal7lb8"
      },
      "source": [
        "# **Embedding Models**\n",
        "Parametern  `embedding_model` tar en sträng som input som pekar på en viss sentence-transformers modell, en SentenceTransformer, eller en Flair DocumentEmbedding model. Det är därmed mycket enkelt att testa olika embeddingmodeller. I grundutförandet av BERTTopic används SBERT. Här har KB:s modell 'KBLab/sentence-bert-swedish-cased' använts vilket är en sentence-transformer tränad på svensk text som publicerats på Hugginface."
      ]
    },
    {
      "cell_type": "markdown",
      "metadata": {
        "id": "A5O3KpHTnVpz"
      },
      "source": [
        "## Extrahera Teman (topics)\n",
        "När vi tränat (fitted) vår modell så kan vi titta på resultaten. Ofta vill vi titta på de teman som är vanligast eftersom de bäst representerar de texter vi analyserat. Nedan visas de fem teman som är vanligast"
      ]
    },
    {
      "cell_type": "code",
      "metadata": {
        "colab": {
          "base_uri": "https://localhost:8080/",
          "height": 206
        },
        "id": "ScBUgXn06IK6",
        "outputId": "7098824f-4118-4e87-b810-53bc1d550e23"
      },
      "source": [
        "freq = topic_model.get_topic_info(); freq.head(5)"
      ],
      "execution_count": 6,
      "outputs": [
        {
          "output_type": "execute_result",
          "data": {
            "text/plain": [
              "   Topic  Count                                       Name  \\\n",
              "0     -1  26590  -1_ergonomiska_belastningsorsaker_saknas_   \n",
              "1      0   6846      0_sociala_organisatoriska_och_orsaker   \n",
              "2      1   3760         1_kemiska_eller_biologiska_orsaker   \n",
              "3      2   2206         2_fysikaliska_orsaker_vibrationer_   \n",
              "4      3    859                                3_buller___   \n",
              "\n",
              "                                      Representation  \\\n",
              "0  [ergonomiska, belastningsorsaker, saknas, , , ...   \n",
              "1  [sociala, organisatoriska, och, orsaker, , , ,...   \n",
              "2  [kemiska, eller, biologiska, orsaker, , , , , , ]   \n",
              "3  [fysikaliska, orsaker, vibrationer, , , , , , , ]   \n",
              "4                         [buller, , , , , , , , , ]   \n",
              "\n",
              "                                 Representative_Docs  \n",
              "0  [Ergonomiska belastningsorsaker, Ergonomiska b...  \n",
              "1  [Sociala och organisatoriska orsaker, Sociala ...  \n",
              "2  [Kemiska eller biologiska orsaker, Kemiska ell...  \n",
              "3  [Fysikaliska orsaker, Fysikaliska orsaker, Fys...  \n",
              "4                           [Buller, Buller, Buller]  "
            ],
            "text/html": [
              "\n",
              "  <div id=\"df-e4f63eaa-7dd6-45f4-9e51-0566be679440\" class=\"colab-df-container\">\n",
              "    <div>\n",
              "<style scoped>\n",
              "    .dataframe tbody tr th:only-of-type {\n",
              "        vertical-align: middle;\n",
              "    }\n",
              "\n",
              "    .dataframe tbody tr th {\n",
              "        vertical-align: top;\n",
              "    }\n",
              "\n",
              "    .dataframe thead th {\n",
              "        text-align: right;\n",
              "    }\n",
              "</style>\n",
              "<table border=\"1\" class=\"dataframe\">\n",
              "  <thead>\n",
              "    <tr style=\"text-align: right;\">\n",
              "      <th></th>\n",
              "      <th>Topic</th>\n",
              "      <th>Count</th>\n",
              "      <th>Name</th>\n",
              "      <th>Representation</th>\n",
              "      <th>Representative_Docs</th>\n",
              "    </tr>\n",
              "  </thead>\n",
              "  <tbody>\n",
              "    <tr>\n",
              "      <th>0</th>\n",
              "      <td>-1</td>\n",
              "      <td>26590</td>\n",
              "      <td>-1_ergonomiska_belastningsorsaker_saknas_</td>\n",
              "      <td>[ergonomiska, belastningsorsaker, saknas, , , ...</td>\n",
              "      <td>[Ergonomiska belastningsorsaker, Ergonomiska b...</td>\n",
              "    </tr>\n",
              "    <tr>\n",
              "      <th>1</th>\n",
              "      <td>0</td>\n",
              "      <td>6846</td>\n",
              "      <td>0_sociala_organisatoriska_och_orsaker</td>\n",
              "      <td>[sociala, organisatoriska, och, orsaker, , , ,...</td>\n",
              "      <td>[Sociala och organisatoriska orsaker, Sociala ...</td>\n",
              "    </tr>\n",
              "    <tr>\n",
              "      <th>2</th>\n",
              "      <td>1</td>\n",
              "      <td>3760</td>\n",
              "      <td>1_kemiska_eller_biologiska_orsaker</td>\n",
              "      <td>[kemiska, eller, biologiska, orsaker, , , , , , ]</td>\n",
              "      <td>[Kemiska eller biologiska orsaker, Kemiska ell...</td>\n",
              "    </tr>\n",
              "    <tr>\n",
              "      <th>3</th>\n",
              "      <td>2</td>\n",
              "      <td>2206</td>\n",
              "      <td>2_fysikaliska_orsaker_vibrationer_</td>\n",
              "      <td>[fysikaliska, orsaker, vibrationer, , , , , , , ]</td>\n",
              "      <td>[Fysikaliska orsaker, Fysikaliska orsaker, Fys...</td>\n",
              "    </tr>\n",
              "    <tr>\n",
              "      <th>4</th>\n",
              "      <td>3</td>\n",
              "      <td>859</td>\n",
              "      <td>3_buller___</td>\n",
              "      <td>[buller, , , , , , , , , ]</td>\n",
              "      <td>[Buller, Buller, Buller]</td>\n",
              "    </tr>\n",
              "  </tbody>\n",
              "</table>\n",
              "</div>\n",
              "    <div class=\"colab-df-buttons\">\n",
              "\n",
              "  <div class=\"colab-df-container\">\n",
              "    <button class=\"colab-df-convert\" onclick=\"convertToInteractive('df-e4f63eaa-7dd6-45f4-9e51-0566be679440')\"\n",
              "            title=\"Convert this dataframe to an interactive table.\"\n",
              "            style=\"display:none;\">\n",
              "\n",
              "  <svg xmlns=\"http://www.w3.org/2000/svg\" height=\"24px\" viewBox=\"0 -960 960 960\">\n",
              "    <path d=\"M120-120v-720h720v720H120Zm60-500h600v-160H180v160Zm220 220h160v-160H400v160Zm0 220h160v-160H400v160ZM180-400h160v-160H180v160Zm440 0h160v-160H620v160ZM180-180h160v-160H180v160Zm440 0h160v-160H620v160Z\"/>\n",
              "  </svg>\n",
              "    </button>\n",
              "\n",
              "  <style>\n",
              "    .colab-df-container {\n",
              "      display:flex;\n",
              "      gap: 12px;\n",
              "    }\n",
              "\n",
              "    .colab-df-convert {\n",
              "      background-color: #E8F0FE;\n",
              "      border: none;\n",
              "      border-radius: 50%;\n",
              "      cursor: pointer;\n",
              "      display: none;\n",
              "      fill: #1967D2;\n",
              "      height: 32px;\n",
              "      padding: 0 0 0 0;\n",
              "      width: 32px;\n",
              "    }\n",
              "\n",
              "    .colab-df-convert:hover {\n",
              "      background-color: #E2EBFA;\n",
              "      box-shadow: 0px 1px 2px rgba(60, 64, 67, 0.3), 0px 1px 3px 1px rgba(60, 64, 67, 0.15);\n",
              "      fill: #174EA6;\n",
              "    }\n",
              "\n",
              "    .colab-df-buttons div {\n",
              "      margin-bottom: 4px;\n",
              "    }\n",
              "\n",
              "    [theme=dark] .colab-df-convert {\n",
              "      background-color: #3B4455;\n",
              "      fill: #D2E3FC;\n",
              "    }\n",
              "\n",
              "    [theme=dark] .colab-df-convert:hover {\n",
              "      background-color: #434B5C;\n",
              "      box-shadow: 0px 1px 3px 1px rgba(0, 0, 0, 0.15);\n",
              "      filter: drop-shadow(0px 1px 2px rgba(0, 0, 0, 0.3));\n",
              "      fill: #FFFFFF;\n",
              "    }\n",
              "  </style>\n",
              "\n",
              "    <script>\n",
              "      const buttonEl =\n",
              "        document.querySelector('#df-e4f63eaa-7dd6-45f4-9e51-0566be679440 button.colab-df-convert');\n",
              "      buttonEl.style.display =\n",
              "        google.colab.kernel.accessAllowed ? 'block' : 'none';\n",
              "\n",
              "      async function convertToInteractive(key) {\n",
              "        const element = document.querySelector('#df-e4f63eaa-7dd6-45f4-9e51-0566be679440');\n",
              "        const dataTable =\n",
              "          await google.colab.kernel.invokeFunction('convertToInteractive',\n",
              "                                                    [key], {});\n",
              "        if (!dataTable) return;\n",
              "\n",
              "        const docLinkHtml = 'Like what you see? Visit the ' +\n",
              "          '<a target=\"_blank\" href=https://colab.research.google.com/notebooks/data_table.ipynb>data table notebook</a>'\n",
              "          + ' to learn more about interactive tables.';\n",
              "        element.innerHTML = '';\n",
              "        dataTable['output_type'] = 'display_data';\n",
              "        await google.colab.output.renderOutput(dataTable, element);\n",
              "        const docLink = document.createElement('div');\n",
              "        docLink.innerHTML = docLinkHtml;\n",
              "        element.appendChild(docLink);\n",
              "      }\n",
              "    </script>\n",
              "  </div>\n",
              "\n",
              "\n",
              "<div id=\"df-deca5128-2b32-4977-a6d5-cac77625bf6b\">\n",
              "  <button class=\"colab-df-quickchart\" onclick=\"quickchart('df-deca5128-2b32-4977-a6d5-cac77625bf6b')\"\n",
              "            title=\"Suggest charts.\"\n",
              "            style=\"display:none;\">\n",
              "\n",
              "<svg xmlns=\"http://www.w3.org/2000/svg\" height=\"24px\"viewBox=\"0 0 24 24\"\n",
              "     width=\"24px\">\n",
              "    <g>\n",
              "        <path d=\"M19 3H5c-1.1 0-2 .9-2 2v14c0 1.1.9 2 2 2h14c1.1 0 2-.9 2-2V5c0-1.1-.9-2-2-2zM9 17H7v-7h2v7zm4 0h-2V7h2v10zm4 0h-2v-4h2v4z\"/>\n",
              "    </g>\n",
              "</svg>\n",
              "  </button>\n",
              "\n",
              "<style>\n",
              "  .colab-df-quickchart {\n",
              "    background-color: #E8F0FE;\n",
              "    border: none;\n",
              "    border-radius: 50%;\n",
              "    cursor: pointer;\n",
              "    display: none;\n",
              "    fill: #1967D2;\n",
              "    height: 32px;\n",
              "    padding: 0 0 0 0;\n",
              "    width: 32px;\n",
              "  }\n",
              "\n",
              "  .colab-df-quickchart:hover {\n",
              "    background-color: #E2EBFA;\n",
              "    box-shadow: 0px 1px 2px rgba(60, 64, 67, 0.3), 0px 1px 3px 1px rgba(60, 64, 67, 0.15);\n",
              "    fill: #174EA6;\n",
              "  }\n",
              "\n",
              "  [theme=dark] .colab-df-quickchart {\n",
              "    background-color: #3B4455;\n",
              "    fill: #D2E3FC;\n",
              "  }\n",
              "\n",
              "  [theme=dark] .colab-df-quickchart:hover {\n",
              "    background-color: #434B5C;\n",
              "    box-shadow: 0px 1px 3px 1px rgba(0, 0, 0, 0.15);\n",
              "    filter: drop-shadow(0px 1px 2px rgba(0, 0, 0, 0.3));\n",
              "    fill: #FFFFFF;\n",
              "  }\n",
              "</style>\n",
              "\n",
              "  <script>\n",
              "    async function quickchart(key) {\n",
              "      const charts = await google.colab.kernel.invokeFunction(\n",
              "          'suggestCharts', [key], {});\n",
              "    }\n",
              "    (() => {\n",
              "      let quickchartButtonEl =\n",
              "        document.querySelector('#df-deca5128-2b32-4977-a6d5-cac77625bf6b button');\n",
              "      quickchartButtonEl.style.display =\n",
              "        google.colab.kernel.accessAllowed ? 'block' : 'none';\n",
              "    })();\n",
              "  </script>\n",
              "</div>\n",
              "    </div>\n",
              "  </div>\n"
            ]
          },
          "metadata": {},
          "execution_count": 6
        }
      ]
    },
    {
      "cell_type": "markdown",
      "metadata": {
        "id": "-BtOgifV7Q-H"
      },
      "source": [
        "-1 refererar till alla avvikande värden (outliers) och ska oftast ignoreras."
      ]
    },
    {
      "cell_type": "code",
      "metadata": {
        "colab": {
          "base_uri": "https://localhost:8080/"
        },
        "id": "IVpvT4bA6KiN",
        "outputId": "2bb22718-6cf6-41be-a02f-9f76879ff3b6"
      },
      "source": [
        "topic_model.get_topic(0)  # Select the most frequent topic"
      ],
      "execution_count": 7,
      "outputs": [
        {
          "output_type": "execute_result",
          "data": {
            "text/plain": [
              "[('sociala', 0.0013475158270583939),\n",
              " ('organisatoriska', 0.0013475158270583939),\n",
              " ('och', 0.0013475158270583939),\n",
              " ('orsaker', 0.0007209950825272812),\n",
              " ('', 1e-05),\n",
              " ('', 1e-05),\n",
              " ('', 1e-05),\n",
              " ('', 1e-05),\n",
              " ('', 1e-05),\n",
              " ('', 1e-05)]"
            ]
          },
          "metadata": {},
          "execution_count": 7
        }
      ]
    },
    {
      "cell_type": "markdown",
      "metadata": {
        "id": "ixc-X2JzodrZ"
      },
      "source": [
        "**VIKTIGT**: BERTopic är en stokastisk modell vilket innebär att teman kan skilja sig mellan olika körningar. Det beror främst på att UMAP är stokastisk."
      ]
    },
    {
      "cell_type": "markdown",
      "source": [
        "## Attribut\n",
        "\n",
        "Det finns ett antal attribut som går att nå efter att din BERTTopic modell har tränats (dessa har inte översatts eftersom det är attribut):\n",
        "\n",
        "\n",
        "| Attribute | Description |\n",
        "|------------------------|---------------------------------------------------------------------------------------------|\n",
        "| topics_               | The topics that are generated for each document after training or updating the topic model. |\n",
        "| probabilities_ | The probabilities that are generated for each document if HDBSCAN is used. |\n",
        "| topic_sizes_           | The size of each topic                                                                      |\n",
        "| topic_mapper_          | A class for tracking topics and their mappings anytime they are merged/reduced.             |\n",
        "| topic_representations_ | The top *n* terms per topic and their respective c-TF-IDF values.                             |\n",
        "| c_tf_idf_              | The topic-term matrix as calculated through c-TF-IDF.                                       |\n",
        "| topic_labels_          | The default labels for each topic.                                                          |\n",
        "| custom_labels_         | Custom labels for each topic as generated through `.set_topic_labels`.                                                               |\n",
        "| topic_embeddings_      | The embeddings for each topic if `embedding_model` was used.                                                              |\n",
        "| representative_docs_   | The representative documents for each topic if HDBSCAN is used.                                                |\n",
        "\n",
        "Ett exempel nedan, hämtar förutspådda teman för de första 10 dokumenten (raderna)."
      ],
      "metadata": {
        "id": "j91cP3xBpWDM"
      }
    },
    {
      "cell_type": "code",
      "source": [
        "topic_model.topics_[:10]"
      ],
      "metadata": {
        "id": "uCMHaWVMpbo3",
        "outputId": "4490d69a-a7e3-4469-f5d5-e9b2b35f4967",
        "colab": {
          "base_uri": "https://localhost:8080/"
        }
      },
      "execution_count": 8,
      "outputs": [
        {
          "output_type": "execute_result",
          "data": {
            "text/plain": [
              "[0, -1, 1693, -1, 2355, -1, -1, 2143, -1, 1]"
            ]
          },
          "metadata": {},
          "execution_count": 8
        }
      ]
    },
    {
      "cell_type": "markdown",
      "metadata": {
        "id": "UbT2Bd9gqaJ3"
      },
      "source": [
        "# **Visualiseringar**\n",
        "\n",
        "**OBS** *Det är viktigt att installera BERTTopic och sedan starta om den virtuella maskinen eftersom visualiseringar inte kommer fungera annars på grund av att BERTTopic behöver en äldre version av ett visualiseringsbibliotek än vad som är default i Colaboratory. Startas maskinen inte om så. fungerar fortfarande analysen men flera av visualiseringarna syns inte.*\n",
        "\n",
        "Det finns flera olika möjligheter för att visualisera resultatet. Främst handlar det om att visualisera teman, sannolikheter för olika teman och teman över tid.\n",
        "\n",
        "Eftersom temagenerering är att betrakta som subjektivt kan visualiseringar hjälpa till att förstå de teman som skapats."
      ]
    },
    {
      "cell_type": "markdown",
      "metadata": {
        "id": "M8c8LenB8Zyl"
      },
      "source": [
        "## Visualisera Topics\n",
        "Efter att vi tränat `BERTopic` modellen, kan vi iterativt. gå igenom ungefär de första 100 teman som skapats för att få en förståelse för de teman som skapats. Det tar dock rätt mycket tid och det blir svårt att få en god överblick. Därför kan. man istället visualisera de teman som skapats. Visualiseringen är inspirerad av [LDAvis](https://github.com/cpsievert/LDAvis):"
      ]
    },
    {
      "cell_type": "code",
      "metadata": {
        "id": "S9qDqEHddgKq"
      },
      "source": [
        "topic_model.visualize_topics()"
      ],
      "execution_count": null,
      "outputs": []
    },
    {
      "cell_type": "markdown",
      "metadata": {
        "id": "ITB7bf6q8nWQ"
      },
      "source": [
        "## Visualisera Topic Probabilities OBS inte möjligt att utföra med nuvarande modell\n",
        "\n",
        "Vi har inte bett modellen att. beräkna `probabilities`  men hade vi gjort det kan vi använda resultatet för att undersöka hur säker modellen är på att ett visst tema finns i ett visst dokument. Då hade vi dock behövt beräkna probability när modellen skapas, vilket gör den betydligt långsammare, vilket inte var möjligt med den miljö testerna utförts i. För att beräkna probablilty ska attributet 'calculate_probabilities' sättas till True istället för False när modellen instansieras.\n",
        "\n",
        "För att skapa en sådan visualisering (givet att attributet inkluderats i träningen av modellen) används följande kod:"
      ]
    },
    {
      "cell_type": "code",
      "metadata": {
        "colab": {
          "base_uri": "https://localhost:8080/",
          "height": 617
        },
        "id": "ypfI1-KHdmcX",
        "outputId": "8abda696-a8c4-443f-9315-331c2cfefde9"
      },
      "source": [
        "topic_model.visualize_distribution(probs[200], min_probability=0.015)"
      ],
      "execution_count": null,
      "outputs": [
        {
          "output_type": "display_data",
          "data": {
            "text/html": [
              "<html>\n",
              "<head><meta charset=\"utf-8\" /></head>\n",
              "<body>\n",
              "    <div>            <script src=\"https://cdnjs.cloudflare.com/ajax/libs/mathjax/2.7.5/MathJax.js?config=TeX-AMS-MML_SVG\"></script><script type=\"text/javascript\">if (window.MathJax && window.MathJax.Hub && window.MathJax.Hub.Config) {window.MathJax.Hub.Config({SVG: {font: \"STIX-Web\"}});}</script>                <script type=\"text/javascript\">window.PlotlyConfig = {MathJaxConfig: 'local'};</script>\n",
              "        <script charset=\"utf-8\" src=\"https://cdn.plot.ly/plotly-2.24.1.min.js\"></script>                <div id=\"b99102c9-9979-4bde-919b-25aaac8582ed\" class=\"plotly-graph-div\" style=\"height:600px; width:800px;\"></div>            <script type=\"text/javascript\">                                    window.PLOTLYENV=window.PLOTLYENV || {};                                    if (document.getElementById(\"b99102c9-9979-4bde-919b-25aaac8582ed\")) {                    Plotly.newPlot(                        \"b99102c9-9979-4bde-919b-25aaac8582ed\",                        [{\"marker\":{\"color\":\"#C8D2D7\",\"line\":{\"color\":\"#6E8484\",\"width\":1}},\"orientation\":\"h\",\"x\":[0.1919199858397005,0.01681330697152774,0.02260028634166943,0.03199520547410559,0.020531363088942316,0.018048647119817733,0.01829095595796243,0.018706192682336267,0.017077361063443573,0.01882787610047238],\"y\":[\"\\u003cb\\u003eTopic 23\\u003c\\u002fb\\u003e: card_charges_debit_frau...\",\"\\u003cb\\u003eTopic 26\\u003c\\u002fb\\u003e: citi_citibank_card_clos...\",\"\\u003cb\\u003eTopic 29\\u003c\\u002fb\\u003e: merchant_dispute_engine...\",\"\\u003cb\\u003eTopic 32\\u003c\\u002fb\\u003e: america_bank_fraud_acco...\",\"\\u003cb\\u003eTopic 39\\u003c\\u002fb\\u003e: check_bank_funds_deposi...\",\"\\u003cb\\u003eTopic 70\\u003c\\u002fb\\u003e: express_american_card_s...\",\"\\u003cb\\u003eTopic 115\\u003c\\u002fb\\u003e: wire_transfer_money_ba...\",\"\\u003cb\\u003eTopic 132\\u003c\\u002fb\\u003e: rush_rushcard_funds_ca...\",\"\\u003cb\\u003eTopic 133\\u003c\\u002fb\\u003e: western_wu_union_money...\",\"\\u003cb\\u003eTopic 156\\u003c\\u002fb\\u003e: moneygram_money_gram_1...\"],\"type\":\"bar\"}],                        {\"template\":{\"data\":{\"barpolar\":[{\"marker\":{\"line\":{\"color\":\"white\",\"width\":0.5},\"pattern\":{\"fillmode\":\"overlay\",\"size\":10,\"solidity\":0.2}},\"type\":\"barpolar\"}],\"bar\":[{\"error_x\":{\"color\":\"rgb(36,36,36)\"},\"error_y\":{\"color\":\"rgb(36,36,36)\"},\"marker\":{\"line\":{\"color\":\"white\",\"width\":0.5},\"pattern\":{\"fillmode\":\"overlay\",\"size\":10,\"solidity\":0.2}},\"type\":\"bar\"}],\"carpet\":[{\"aaxis\":{\"endlinecolor\":\"rgb(36,36,36)\",\"gridcolor\":\"white\",\"linecolor\":\"white\",\"minorgridcolor\":\"white\",\"startlinecolor\":\"rgb(36,36,36)\"},\"baxis\":{\"endlinecolor\":\"rgb(36,36,36)\",\"gridcolor\":\"white\",\"linecolor\":\"white\",\"minorgridcolor\":\"white\",\"startlinecolor\":\"rgb(36,36,36)\"},\"type\":\"carpet\"}],\"choropleth\":[{\"colorbar\":{\"outlinewidth\":1,\"tickcolor\":\"rgb(36,36,36)\",\"ticks\":\"outside\"},\"type\":\"choropleth\"}],\"contourcarpet\":[{\"colorbar\":{\"outlinewidth\":1,\"tickcolor\":\"rgb(36,36,36)\",\"ticks\":\"outside\"},\"type\":\"contourcarpet\"}],\"contour\":[{\"colorbar\":{\"outlinewidth\":1,\"tickcolor\":\"rgb(36,36,36)\",\"ticks\":\"outside\"},\"colorscale\":[[0.0,\"#440154\"],[0.1111111111111111,\"#482878\"],[0.2222222222222222,\"#3e4989\"],[0.3333333333333333,\"#31688e\"],[0.4444444444444444,\"#26828e\"],[0.5555555555555556,\"#1f9e89\"],[0.6666666666666666,\"#35b779\"],[0.7777777777777778,\"#6ece58\"],[0.8888888888888888,\"#b5de2b\"],[1.0,\"#fde725\"]],\"type\":\"contour\"}],\"heatmapgl\":[{\"colorbar\":{\"outlinewidth\":1,\"tickcolor\":\"rgb(36,36,36)\",\"ticks\":\"outside\"},\"colorscale\":[[0.0,\"#440154\"],[0.1111111111111111,\"#482878\"],[0.2222222222222222,\"#3e4989\"],[0.3333333333333333,\"#31688e\"],[0.4444444444444444,\"#26828e\"],[0.5555555555555556,\"#1f9e89\"],[0.6666666666666666,\"#35b779\"],[0.7777777777777778,\"#6ece58\"],[0.8888888888888888,\"#b5de2b\"],[1.0,\"#fde725\"]],\"type\":\"heatmapgl\"}],\"heatmap\":[{\"colorbar\":{\"outlinewidth\":1,\"tickcolor\":\"rgb(36,36,36)\",\"ticks\":\"outside\"},\"colorscale\":[[0.0,\"#440154\"],[0.1111111111111111,\"#482878\"],[0.2222222222222222,\"#3e4989\"],[0.3333333333333333,\"#31688e\"],[0.4444444444444444,\"#26828e\"],[0.5555555555555556,\"#1f9e89\"],[0.6666666666666666,\"#35b779\"],[0.7777777777777778,\"#6ece58\"],[0.8888888888888888,\"#b5de2b\"],[1.0,\"#fde725\"]],\"type\":\"heatmap\"}],\"histogram2dcontour\":[{\"colorbar\":{\"outlinewidth\":1,\"tickcolor\":\"rgb(36,36,36)\",\"ticks\":\"outside\"},\"colorscale\":[[0.0,\"#440154\"],[0.1111111111111111,\"#482878\"],[0.2222222222222222,\"#3e4989\"],[0.3333333333333333,\"#31688e\"],[0.4444444444444444,\"#26828e\"],[0.5555555555555556,\"#1f9e89\"],[0.6666666666666666,\"#35b779\"],[0.7777777777777778,\"#6ece58\"],[0.8888888888888888,\"#b5de2b\"],[1.0,\"#fde725\"]],\"type\":\"histogram2dcontour\"}],\"histogram2d\":[{\"colorbar\":{\"outlinewidth\":1,\"tickcolor\":\"rgb(36,36,36)\",\"ticks\":\"outside\"},\"colorscale\":[[0.0,\"#440154\"],[0.1111111111111111,\"#482878\"],[0.2222222222222222,\"#3e4989\"],[0.3333333333333333,\"#31688e\"],[0.4444444444444444,\"#26828e\"],[0.5555555555555556,\"#1f9e89\"],[0.6666666666666666,\"#35b779\"],[0.7777777777777778,\"#6ece58\"],[0.8888888888888888,\"#b5de2b\"],[1.0,\"#fde725\"]],\"type\":\"histogram2d\"}],\"histogram\":[{\"marker\":{\"line\":{\"color\":\"white\",\"width\":0.6}},\"type\":\"histogram\"}],\"mesh3d\":[{\"colorbar\":{\"outlinewidth\":1,\"tickcolor\":\"rgb(36,36,36)\",\"ticks\":\"outside\"},\"type\":\"mesh3d\"}],\"parcoords\":[{\"line\":{\"colorbar\":{\"outlinewidth\":1,\"tickcolor\":\"rgb(36,36,36)\",\"ticks\":\"outside\"}},\"type\":\"parcoords\"}],\"pie\":[{\"automargin\":true,\"type\":\"pie\"}],\"scatter3d\":[{\"line\":{\"colorbar\":{\"outlinewidth\":1,\"tickcolor\":\"rgb(36,36,36)\",\"ticks\":\"outside\"}},\"marker\":{\"colorbar\":{\"outlinewidth\":1,\"tickcolor\":\"rgb(36,36,36)\",\"ticks\":\"outside\"}},\"type\":\"scatter3d\"}],\"scattercarpet\":[{\"marker\":{\"colorbar\":{\"outlinewidth\":1,\"tickcolor\":\"rgb(36,36,36)\",\"ticks\":\"outside\"}},\"type\":\"scattercarpet\"}],\"scattergeo\":[{\"marker\":{\"colorbar\":{\"outlinewidth\":1,\"tickcolor\":\"rgb(36,36,36)\",\"ticks\":\"outside\"}},\"type\":\"scattergeo\"}],\"scattergl\":[{\"marker\":{\"colorbar\":{\"outlinewidth\":1,\"tickcolor\":\"rgb(36,36,36)\",\"ticks\":\"outside\"}},\"type\":\"scattergl\"}],\"scattermapbox\":[{\"marker\":{\"colorbar\":{\"outlinewidth\":1,\"tickcolor\":\"rgb(36,36,36)\",\"ticks\":\"outside\"}},\"type\":\"scattermapbox\"}],\"scatterpolargl\":[{\"marker\":{\"colorbar\":{\"outlinewidth\":1,\"tickcolor\":\"rgb(36,36,36)\",\"ticks\":\"outside\"}},\"type\":\"scatterpolargl\"}],\"scatterpolar\":[{\"marker\":{\"colorbar\":{\"outlinewidth\":1,\"tickcolor\":\"rgb(36,36,36)\",\"ticks\":\"outside\"}},\"type\":\"scatterpolar\"}],\"scatter\":[{\"fillpattern\":{\"fillmode\":\"overlay\",\"size\":10,\"solidity\":0.2},\"type\":\"scatter\"}],\"scatterternary\":[{\"marker\":{\"colorbar\":{\"outlinewidth\":1,\"tickcolor\":\"rgb(36,36,36)\",\"ticks\":\"outside\"}},\"type\":\"scatterternary\"}],\"surface\":[{\"colorbar\":{\"outlinewidth\":1,\"tickcolor\":\"rgb(36,36,36)\",\"ticks\":\"outside\"},\"colorscale\":[[0.0,\"#440154\"],[0.1111111111111111,\"#482878\"],[0.2222222222222222,\"#3e4989\"],[0.3333333333333333,\"#31688e\"],[0.4444444444444444,\"#26828e\"],[0.5555555555555556,\"#1f9e89\"],[0.6666666666666666,\"#35b779\"],[0.7777777777777778,\"#6ece58\"],[0.8888888888888888,\"#b5de2b\"],[1.0,\"#fde725\"]],\"type\":\"surface\"}],\"table\":[{\"cells\":{\"fill\":{\"color\":\"rgb(237,237,237)\"},\"line\":{\"color\":\"white\"}},\"header\":{\"fill\":{\"color\":\"rgb(217,217,217)\"},\"line\":{\"color\":\"white\"}},\"type\":\"table\"}]},\"layout\":{\"annotationdefaults\":{\"arrowhead\":0,\"arrowwidth\":1},\"autotypenumbers\":\"strict\",\"coloraxis\":{\"colorbar\":{\"outlinewidth\":1,\"tickcolor\":\"rgb(36,36,36)\",\"ticks\":\"outside\"}},\"colorscale\":{\"diverging\":[[0.0,\"rgb(103,0,31)\"],[0.1,\"rgb(178,24,43)\"],[0.2,\"rgb(214,96,77)\"],[0.3,\"rgb(244,165,130)\"],[0.4,\"rgb(253,219,199)\"],[0.5,\"rgb(247,247,247)\"],[0.6,\"rgb(209,229,240)\"],[0.7,\"rgb(146,197,222)\"],[0.8,\"rgb(67,147,195)\"],[0.9,\"rgb(33,102,172)\"],[1.0,\"rgb(5,48,97)\"]],\"sequential\":[[0.0,\"#440154\"],[0.1111111111111111,\"#482878\"],[0.2222222222222222,\"#3e4989\"],[0.3333333333333333,\"#31688e\"],[0.4444444444444444,\"#26828e\"],[0.5555555555555556,\"#1f9e89\"],[0.6666666666666666,\"#35b779\"],[0.7777777777777778,\"#6ece58\"],[0.8888888888888888,\"#b5de2b\"],[1.0,\"#fde725\"]],\"sequentialminus\":[[0.0,\"#440154\"],[0.1111111111111111,\"#482878\"],[0.2222222222222222,\"#3e4989\"],[0.3333333333333333,\"#31688e\"],[0.4444444444444444,\"#26828e\"],[0.5555555555555556,\"#1f9e89\"],[0.6666666666666666,\"#35b779\"],[0.7777777777777778,\"#6ece58\"],[0.8888888888888888,\"#b5de2b\"],[1.0,\"#fde725\"]]},\"colorway\":[\"#1F77B4\",\"#FF7F0E\",\"#2CA02C\",\"#D62728\",\"#9467BD\",\"#8C564B\",\"#E377C2\",\"#7F7F7F\",\"#BCBD22\",\"#17BECF\"],\"font\":{\"color\":\"rgb(36,36,36)\"},\"geo\":{\"bgcolor\":\"white\",\"lakecolor\":\"white\",\"landcolor\":\"white\",\"showlakes\":true,\"showland\":true,\"subunitcolor\":\"white\"},\"hoverlabel\":{\"align\":\"left\"},\"hovermode\":\"closest\",\"mapbox\":{\"style\":\"light\"},\"paper_bgcolor\":\"white\",\"plot_bgcolor\":\"white\",\"polar\":{\"angularaxis\":{\"gridcolor\":\"rgb(232,232,232)\",\"linecolor\":\"rgb(36,36,36)\",\"showgrid\":false,\"showline\":true,\"ticks\":\"outside\"},\"bgcolor\":\"white\",\"radialaxis\":{\"gridcolor\":\"rgb(232,232,232)\",\"linecolor\":\"rgb(36,36,36)\",\"showgrid\":false,\"showline\":true,\"ticks\":\"outside\"}},\"scene\":{\"xaxis\":{\"backgroundcolor\":\"white\",\"gridcolor\":\"rgb(232,232,232)\",\"gridwidth\":2,\"linecolor\":\"rgb(36,36,36)\",\"showbackground\":true,\"showgrid\":false,\"showline\":true,\"ticks\":\"outside\",\"zeroline\":false,\"zerolinecolor\":\"rgb(36,36,36)\"},\"yaxis\":{\"backgroundcolor\":\"white\",\"gridcolor\":\"rgb(232,232,232)\",\"gridwidth\":2,\"linecolor\":\"rgb(36,36,36)\",\"showbackground\":true,\"showgrid\":false,\"showline\":true,\"ticks\":\"outside\",\"zeroline\":false,\"zerolinecolor\":\"rgb(36,36,36)\"},\"zaxis\":{\"backgroundcolor\":\"white\",\"gridcolor\":\"rgb(232,232,232)\",\"gridwidth\":2,\"linecolor\":\"rgb(36,36,36)\",\"showbackground\":true,\"showgrid\":false,\"showline\":true,\"ticks\":\"outside\",\"zeroline\":false,\"zerolinecolor\":\"rgb(36,36,36)\"}},\"shapedefaults\":{\"fillcolor\":\"black\",\"line\":{\"width\":0},\"opacity\":0.3},\"ternary\":{\"aaxis\":{\"gridcolor\":\"rgb(232,232,232)\",\"linecolor\":\"rgb(36,36,36)\",\"showgrid\":false,\"showline\":true,\"ticks\":\"outside\"},\"baxis\":{\"gridcolor\":\"rgb(232,232,232)\",\"linecolor\":\"rgb(36,36,36)\",\"showgrid\":false,\"showline\":true,\"ticks\":\"outside\"},\"bgcolor\":\"white\",\"caxis\":{\"gridcolor\":\"rgb(232,232,232)\",\"linecolor\":\"rgb(36,36,36)\",\"showgrid\":false,\"showline\":true,\"ticks\":\"outside\"}},\"title\":{\"x\":0.05},\"xaxis\":{\"automargin\":true,\"gridcolor\":\"rgb(232,232,232)\",\"linecolor\":\"rgb(36,36,36)\",\"showgrid\":false,\"showline\":true,\"ticks\":\"outside\",\"title\":{\"standoff\":15},\"zeroline\":false,\"zerolinecolor\":\"rgb(36,36,36)\"},\"yaxis\":{\"automargin\":true,\"gridcolor\":\"rgb(232,232,232)\",\"linecolor\":\"rgb(36,36,36)\",\"showgrid\":false,\"showline\":true,\"ticks\":\"outside\",\"title\":{\"standoff\":15},\"zeroline\":false,\"zerolinecolor\":\"rgb(36,36,36)\"}}},\"title\":{\"font\":{\"size\":22,\"color\":\"Black\"},\"text\":\"\\u003cb\\u003eTopic Probability Distribution\\u003c\\u002fb\\u003e\",\"y\":0.95,\"x\":0.5,\"xanchor\":\"center\",\"yanchor\":\"top\"},\"hoverlabel\":{\"font\":{\"size\":16,\"family\":\"Rockwell\"},\"bgcolor\":\"white\"},\"xaxis\":{\"title\":{\"text\":\"Probability\"}},\"width\":800,\"height\":600},                        {\"responsive\": true}                    ).then(function(){\n",
              "                            \n",
              "var gd = document.getElementById('b99102c9-9979-4bde-919b-25aaac8582ed');\n",
              "var x = new MutationObserver(function (mutations, observer) {{\n",
              "        var display = window.getComputedStyle(gd).display;\n",
              "        if (!display || display === 'none') {{\n",
              "            console.log([gd, 'removed!']);\n",
              "            Plotly.purge(gd);\n",
              "            observer.disconnect();\n",
              "        }}\n",
              "}});\n",
              "\n",
              "// Listen for the removal of the full notebook cells\n",
              "var notebookContainer = gd.closest('#notebook-container');\n",
              "if (notebookContainer) {{\n",
              "    x.observe(notebookContainer, {childList: true});\n",
              "}}\n",
              "\n",
              "// Listen for the clearing of the current output cell\n",
              "var outputEl = gd.closest('.output');\n",
              "if (outputEl) {{\n",
              "    x.observe(outputEl, {childList: true});\n",
              "}}\n",
              "\n",
              "                        })                };                            </script>        </div>\n",
              "</body>\n",
              "</html>"
            ]
          },
          "metadata": {}
        }
      ]
    },
    {
      "cell_type": "markdown",
      "metadata": {
        "id": "QHRTeSpl5JYB"
      },
      "source": [
        "## Visualisera hierarkier i teman\n",
        "\n",
        "De teman som skapats kan reduceras hierarkiskt. För att förstå den potentiella hierarkiska strukturen kan kluster skapas som visar hur olika teman relaterar till varandra. Det kan hjälpa när man vill minska antalet teman genom att slå samman dem."
      ]
    },
    {
      "cell_type": "code",
      "metadata": {
        "colab": {
          "base_uri": "https://localhost:8080/",
          "height": 367
        },
        "id": "ltmLFRR56a4X",
        "outputId": "704d443c-1674-4eb1-c5f1-7f9b0abcd590"
      },
      "source": [
        "topic_model.visualize_hierarchy(top_n_topics=10)"
      ],
      "execution_count": 16,
      "outputs": [
        {
          "output_type": "display_data",
          "data": {
            "text/html": [
              "<html>\n",
              "<head><meta charset=\"utf-8\" /></head>\n",
              "<body>\n",
              "    <div>            <script src=\"https://cdnjs.cloudflare.com/ajax/libs/mathjax/2.7.5/MathJax.js?config=TeX-AMS-MML_SVG\"></script><script type=\"text/javascript\">if (window.MathJax && window.MathJax.Hub && window.MathJax.Hub.Config) {window.MathJax.Hub.Config({SVG: {font: \"STIX-Web\"}});}</script>                <script type=\"text/javascript\">window.PlotlyConfig = {MathJaxConfig: 'local'};</script>\n",
              "        <script charset=\"utf-8\" src=\"https://cdn.plot.ly/plotly-2.24.1.min.js\"></script>                <div id=\"d316ea22-78a7-437c-a30e-fddb97eec419\" class=\"plotly-graph-div\" style=\"height:350px; width:1000px;\"></div>            <script type=\"text/javascript\">                                    window.PLOTLYENV=window.PLOTLYENV || {};                                    if (document.getElementById(\"d316ea22-78a7-437c-a30e-fddb97eec419\")) {                    Plotly.newPlot(                        \"d316ea22-78a7-437c-a30e-fddb97eec419\",                        [{\"hoverinfo\":\"text\",\"marker\":{\"color\":\"rgb(61,153,112)\"},\"mode\":\"lines\",\"x\":[0.0,0.0,0.0,0.0],\"xaxis\":\"x\",\"y\":[-5.0,-5.0,-15.0,-15.0],\"yaxis\":\"y\",\"type\":\"scatter\"},{\"hoverinfo\":\"text\",\"marker\":{\"color\":\"rgb(0,116,217)\"},\"mode\":\"lines\",\"x\":[0.0,1.0,1.0,0.0],\"xaxis\":\"x\",\"y\":[-45.0,-45.0,-55.0,-55.0],\"yaxis\":\"y\",\"type\":\"scatter\"},{\"hoverinfo\":\"text\",\"marker\":{\"color\":\"rgb(0,116,217)\"},\"mode\":\"lines\",\"x\":[0.0,1.0,1.0,1.0],\"xaxis\":\"x\",\"y\":[-35.0,-35.0,-50.0,-50.0],\"yaxis\":\"y\",\"type\":\"scatter\"},{\"hoverinfo\":\"text\",\"marker\":{\"color\":\"rgb(0,116,217)\"},\"mode\":\"lines\",\"x\":[1.0,1.0,1.0,0.0],\"xaxis\":\"x\",\"y\":[-42.5,-42.5,-65.0,-65.0],\"yaxis\":\"y\",\"type\":\"scatter\"},{\"hoverinfo\":\"text\",\"marker\":{\"color\":\"rgb(0,116,217)\"},\"mode\":\"lines\",\"x\":[0.0,1.0,1.0,1.0],\"xaxis\":\"x\",\"y\":[-25.0,-25.0,-53.75,-53.75],\"yaxis\":\"y\",\"type\":\"scatter\"},{\"hoverinfo\":\"text\",\"marker\":{\"color\":\"rgb(255,65,54)\"},\"mode\":\"lines\",\"x\":[0.0,0.9495674307498346,0.9495674307498346,0.0],\"xaxis\":\"x\",\"y\":[-75.0,-75.0,-85.0,-85.0],\"yaxis\":\"y\",\"type\":\"scatter\"},{\"hoverinfo\":\"text\",\"marker\":{\"color\":\"rgb(255,65,54)\"},\"mode\":\"lines\",\"x\":[0.9495674307498346,0.9647607276340621,0.9647607276340621,0.0],\"xaxis\":\"x\",\"y\":[-80.0,-80.0,-95.0,-95.0],\"yaxis\":\"y\",\"type\":\"scatter\"},{\"hoverinfo\":\"text\",\"marker\":{\"color\":\"rgb(0,116,217)\"},\"mode\":\"lines\",\"x\":[1.0,1.0510585238445787,1.0510585238445787,0.9647607276340621],\"xaxis\":\"x\",\"y\":[-39.375,-39.375,-87.5,-87.5],\"yaxis\":\"y\",\"type\":\"scatter\"},{\"hoverinfo\":\"text\",\"marker\":{\"color\":\"rgb(0,116,217)\"},\"mode\":\"lines\",\"x\":[0.0,1.3463160410786026,1.3463160410786026,1.0510585238445787],\"xaxis\":\"x\",\"y\":[-10.0,-10.0,-63.4375,-63.4375],\"yaxis\":\"y\",\"type\":\"scatter\"}],                        {\"autosize\":false,\"height\":350,\"hovermode\":\"closest\",\"showlegend\":false,\"width\":1000,\"xaxis\":{\"mirror\":\"allticks\",\"rangemode\":\"tozero\",\"showgrid\":false,\"showline\":true,\"showticklabels\":true,\"ticks\":\"outside\",\"type\":\"linear\",\"zeroline\":false},\"yaxis\":{\"mirror\":\"allticks\",\"rangemode\":\"tozero\",\"showgrid\":false,\"showline\":true,\"showticklabels\":true,\"tickmode\":\"array\",\"ticks\":\"outside\",\"ticktext\":[\"7_saknas__\",\"8_saknas__\",\"9_vibrationer__\",\"5_\\u00f6vrigt__\",\"4_buller__\",\"0_ergonomiska_belastningsor...\",\"6_smitta__\",\"3_fysikaliska_orsaker_\",\"1_sociala_organisatoriska_och\",\"2_kemiska_eller_biologiska\"],\"tickvals\":[-5,-15,-25,-35,-45,-55,-65,-75,-85,-95],\"type\":\"linear\",\"zeroline\":false,\"range\":[-100.0,0.0]},\"template\":{\"data\":{\"barpolar\":[{\"marker\":{\"line\":{\"color\":\"white\",\"width\":0.5},\"pattern\":{\"fillmode\":\"overlay\",\"size\":10,\"solidity\":0.2}},\"type\":\"barpolar\"}],\"bar\":[{\"error_x\":{\"color\":\"#2a3f5f\"},\"error_y\":{\"color\":\"#2a3f5f\"},\"marker\":{\"line\":{\"color\":\"white\",\"width\":0.5},\"pattern\":{\"fillmode\":\"overlay\",\"size\":10,\"solidity\":0.2}},\"type\":\"bar\"}],\"carpet\":[{\"aaxis\":{\"endlinecolor\":\"#2a3f5f\",\"gridcolor\":\"#C8D4E3\",\"linecolor\":\"#C8D4E3\",\"minorgridcolor\":\"#C8D4E3\",\"startlinecolor\":\"#2a3f5f\"},\"baxis\":{\"endlinecolor\":\"#2a3f5f\",\"gridcolor\":\"#C8D4E3\",\"linecolor\":\"#C8D4E3\",\"minorgridcolor\":\"#C8D4E3\",\"startlinecolor\":\"#2a3f5f\"},\"type\":\"carpet\"}],\"choropleth\":[{\"colorbar\":{\"outlinewidth\":0,\"ticks\":\"\"},\"type\":\"choropleth\"}],\"contourcarpet\":[{\"colorbar\":{\"outlinewidth\":0,\"ticks\":\"\"},\"type\":\"contourcarpet\"}],\"contour\":[{\"colorbar\":{\"outlinewidth\":0,\"ticks\":\"\"},\"colorscale\":[[0.0,\"#0d0887\"],[0.1111111111111111,\"#46039f\"],[0.2222222222222222,\"#7201a8\"],[0.3333333333333333,\"#9c179e\"],[0.4444444444444444,\"#bd3786\"],[0.5555555555555556,\"#d8576b\"],[0.6666666666666666,\"#ed7953\"],[0.7777777777777778,\"#fb9f3a\"],[0.8888888888888888,\"#fdca26\"],[1.0,\"#f0f921\"]],\"type\":\"contour\"}],\"heatmapgl\":[{\"colorbar\":{\"outlinewidth\":0,\"ticks\":\"\"},\"colorscale\":[[0.0,\"#0d0887\"],[0.1111111111111111,\"#46039f\"],[0.2222222222222222,\"#7201a8\"],[0.3333333333333333,\"#9c179e\"],[0.4444444444444444,\"#bd3786\"],[0.5555555555555556,\"#d8576b\"],[0.6666666666666666,\"#ed7953\"],[0.7777777777777778,\"#fb9f3a\"],[0.8888888888888888,\"#fdca26\"],[1.0,\"#f0f921\"]],\"type\":\"heatmapgl\"}],\"heatmap\":[{\"colorbar\":{\"outlinewidth\":0,\"ticks\":\"\"},\"colorscale\":[[0.0,\"#0d0887\"],[0.1111111111111111,\"#46039f\"],[0.2222222222222222,\"#7201a8\"],[0.3333333333333333,\"#9c179e\"],[0.4444444444444444,\"#bd3786\"],[0.5555555555555556,\"#d8576b\"],[0.6666666666666666,\"#ed7953\"],[0.7777777777777778,\"#fb9f3a\"],[0.8888888888888888,\"#fdca26\"],[1.0,\"#f0f921\"]],\"type\":\"heatmap\"}],\"histogram2dcontour\":[{\"colorbar\":{\"outlinewidth\":0,\"ticks\":\"\"},\"colorscale\":[[0.0,\"#0d0887\"],[0.1111111111111111,\"#46039f\"],[0.2222222222222222,\"#7201a8\"],[0.3333333333333333,\"#9c179e\"],[0.4444444444444444,\"#bd3786\"],[0.5555555555555556,\"#d8576b\"],[0.6666666666666666,\"#ed7953\"],[0.7777777777777778,\"#fb9f3a\"],[0.8888888888888888,\"#fdca26\"],[1.0,\"#f0f921\"]],\"type\":\"histogram2dcontour\"}],\"histogram2d\":[{\"colorbar\":{\"outlinewidth\":0,\"ticks\":\"\"},\"colorscale\":[[0.0,\"#0d0887\"],[0.1111111111111111,\"#46039f\"],[0.2222222222222222,\"#7201a8\"],[0.3333333333333333,\"#9c179e\"],[0.4444444444444444,\"#bd3786\"],[0.5555555555555556,\"#d8576b\"],[0.6666666666666666,\"#ed7953\"],[0.7777777777777778,\"#fb9f3a\"],[0.8888888888888888,\"#fdca26\"],[1.0,\"#f0f921\"]],\"type\":\"histogram2d\"}],\"histogram\":[{\"marker\":{\"pattern\":{\"fillmode\":\"overlay\",\"size\":10,\"solidity\":0.2}},\"type\":\"histogram\"}],\"mesh3d\":[{\"colorbar\":{\"outlinewidth\":0,\"ticks\":\"\"},\"type\":\"mesh3d\"}],\"parcoords\":[{\"line\":{\"colorbar\":{\"outlinewidth\":0,\"ticks\":\"\"}},\"type\":\"parcoords\"}],\"pie\":[{\"automargin\":true,\"type\":\"pie\"}],\"scatter3d\":[{\"line\":{\"colorbar\":{\"outlinewidth\":0,\"ticks\":\"\"}},\"marker\":{\"colorbar\":{\"outlinewidth\":0,\"ticks\":\"\"}},\"type\":\"scatter3d\"}],\"scattercarpet\":[{\"marker\":{\"colorbar\":{\"outlinewidth\":0,\"ticks\":\"\"}},\"type\":\"scattercarpet\"}],\"scattergeo\":[{\"marker\":{\"colorbar\":{\"outlinewidth\":0,\"ticks\":\"\"}},\"type\":\"scattergeo\"}],\"scattergl\":[{\"marker\":{\"colorbar\":{\"outlinewidth\":0,\"ticks\":\"\"}},\"type\":\"scattergl\"}],\"scattermapbox\":[{\"marker\":{\"colorbar\":{\"outlinewidth\":0,\"ticks\":\"\"}},\"type\":\"scattermapbox\"}],\"scatterpolargl\":[{\"marker\":{\"colorbar\":{\"outlinewidth\":0,\"ticks\":\"\"}},\"type\":\"scatterpolargl\"}],\"scatterpolar\":[{\"marker\":{\"colorbar\":{\"outlinewidth\":0,\"ticks\":\"\"}},\"type\":\"scatterpolar\"}],\"scatter\":[{\"fillpattern\":{\"fillmode\":\"overlay\",\"size\":10,\"solidity\":0.2},\"type\":\"scatter\"}],\"scatterternary\":[{\"marker\":{\"colorbar\":{\"outlinewidth\":0,\"ticks\":\"\"}},\"type\":\"scatterternary\"}],\"surface\":[{\"colorbar\":{\"outlinewidth\":0,\"ticks\":\"\"},\"colorscale\":[[0.0,\"#0d0887\"],[0.1111111111111111,\"#46039f\"],[0.2222222222222222,\"#7201a8\"],[0.3333333333333333,\"#9c179e\"],[0.4444444444444444,\"#bd3786\"],[0.5555555555555556,\"#d8576b\"],[0.6666666666666666,\"#ed7953\"],[0.7777777777777778,\"#fb9f3a\"],[0.8888888888888888,\"#fdca26\"],[1.0,\"#f0f921\"]],\"type\":\"surface\"}],\"table\":[{\"cells\":{\"fill\":{\"color\":\"#EBF0F8\"},\"line\":{\"color\":\"white\"}},\"header\":{\"fill\":{\"color\":\"#C8D4E3\"},\"line\":{\"color\":\"white\"}},\"type\":\"table\"}]},\"layout\":{\"annotationdefaults\":{\"arrowcolor\":\"#2a3f5f\",\"arrowhead\":0,\"arrowwidth\":1},\"autotypenumbers\":\"strict\",\"coloraxis\":{\"colorbar\":{\"outlinewidth\":0,\"ticks\":\"\"}},\"colorscale\":{\"diverging\":[[0,\"#8e0152\"],[0.1,\"#c51b7d\"],[0.2,\"#de77ae\"],[0.3,\"#f1b6da\"],[0.4,\"#fde0ef\"],[0.5,\"#f7f7f7\"],[0.6,\"#e6f5d0\"],[0.7,\"#b8e186\"],[0.8,\"#7fbc41\"],[0.9,\"#4d9221\"],[1,\"#276419\"]],\"sequential\":[[0.0,\"#0d0887\"],[0.1111111111111111,\"#46039f\"],[0.2222222222222222,\"#7201a8\"],[0.3333333333333333,\"#9c179e\"],[0.4444444444444444,\"#bd3786\"],[0.5555555555555556,\"#d8576b\"],[0.6666666666666666,\"#ed7953\"],[0.7777777777777778,\"#fb9f3a\"],[0.8888888888888888,\"#fdca26\"],[1.0,\"#f0f921\"]],\"sequentialminus\":[[0.0,\"#0d0887\"],[0.1111111111111111,\"#46039f\"],[0.2222222222222222,\"#7201a8\"],[0.3333333333333333,\"#9c179e\"],[0.4444444444444444,\"#bd3786\"],[0.5555555555555556,\"#d8576b\"],[0.6666666666666666,\"#ed7953\"],[0.7777777777777778,\"#fb9f3a\"],[0.8888888888888888,\"#fdca26\"],[1.0,\"#f0f921\"]]},\"colorway\":[\"#636efa\",\"#EF553B\",\"#00cc96\",\"#ab63fa\",\"#FFA15A\",\"#19d3f3\",\"#FF6692\",\"#B6E880\",\"#FF97FF\",\"#FECB52\"],\"font\":{\"color\":\"#2a3f5f\"},\"geo\":{\"bgcolor\":\"white\",\"lakecolor\":\"white\",\"landcolor\":\"white\",\"showlakes\":true,\"showland\":true,\"subunitcolor\":\"#C8D4E3\"},\"hoverlabel\":{\"align\":\"left\"},\"hovermode\":\"closest\",\"mapbox\":{\"style\":\"light\"},\"paper_bgcolor\":\"white\",\"plot_bgcolor\":\"white\",\"polar\":{\"angularaxis\":{\"gridcolor\":\"#EBF0F8\",\"linecolor\":\"#EBF0F8\",\"ticks\":\"\"},\"bgcolor\":\"white\",\"radialaxis\":{\"gridcolor\":\"#EBF0F8\",\"linecolor\":\"#EBF0F8\",\"ticks\":\"\"}},\"scene\":{\"xaxis\":{\"backgroundcolor\":\"white\",\"gridcolor\":\"#DFE8F3\",\"gridwidth\":2,\"linecolor\":\"#EBF0F8\",\"showbackground\":true,\"ticks\":\"\",\"zerolinecolor\":\"#EBF0F8\"},\"yaxis\":{\"backgroundcolor\":\"white\",\"gridcolor\":\"#DFE8F3\",\"gridwidth\":2,\"linecolor\":\"#EBF0F8\",\"showbackground\":true,\"ticks\":\"\",\"zerolinecolor\":\"#EBF0F8\"},\"zaxis\":{\"backgroundcolor\":\"white\",\"gridcolor\":\"#DFE8F3\",\"gridwidth\":2,\"linecolor\":\"#EBF0F8\",\"showbackground\":true,\"ticks\":\"\",\"zerolinecolor\":\"#EBF0F8\"}},\"shapedefaults\":{\"line\":{\"color\":\"#2a3f5f\"}},\"ternary\":{\"aaxis\":{\"gridcolor\":\"#DFE8F3\",\"linecolor\":\"#A2B1C6\",\"ticks\":\"\"},\"baxis\":{\"gridcolor\":\"#DFE8F3\",\"linecolor\":\"#A2B1C6\",\"ticks\":\"\"},\"bgcolor\":\"white\",\"caxis\":{\"gridcolor\":\"#DFE8F3\",\"linecolor\":\"#A2B1C6\",\"ticks\":\"\"}},\"title\":{\"x\":0.05},\"xaxis\":{\"automargin\":true,\"gridcolor\":\"#EBF0F8\",\"linecolor\":\"#EBF0F8\",\"ticks\":\"\",\"title\":{\"standoff\":15},\"zerolinecolor\":\"#EBF0F8\",\"zerolinewidth\":2},\"yaxis\":{\"automargin\":true,\"gridcolor\":\"#EBF0F8\",\"linecolor\":\"#EBF0F8\",\"ticks\":\"\",\"title\":{\"standoff\":15},\"zerolinecolor\":\"#EBF0F8\",\"zerolinewidth\":2}}},\"title\":{\"font\":{\"size\":22,\"color\":\"Black\"},\"text\":\"\\u003cb\\u003eHierarchical Clustering\\u003c\\u002fb\\u003e\",\"x\":0.5,\"xanchor\":\"center\",\"yanchor\":\"top\"},\"hoverlabel\":{\"font\":{\"size\":16,\"family\":\"Rockwell\"},\"bgcolor\":\"white\"},\"plot_bgcolor\":\"#ECEFF1\"},                        {\"responsive\": true}                    ).then(function(){\n",
              "                            \n",
              "var gd = document.getElementById('d316ea22-78a7-437c-a30e-fddb97eec419');\n",
              "var x = new MutationObserver(function (mutations, observer) {{\n",
              "        var display = window.getComputedStyle(gd).display;\n",
              "        if (!display || display === 'none') {{\n",
              "            console.log([gd, 'removed!']);\n",
              "            Plotly.purge(gd);\n",
              "            observer.disconnect();\n",
              "        }}\n",
              "}});\n",
              "\n",
              "// Listen for the removal of the full notebook cells\n",
              "var notebookContainer = gd.closest('#notebook-container');\n",
              "if (notebookContainer) {{\n",
              "    x.observe(notebookContainer, {childList: true});\n",
              "}}\n",
              "\n",
              "// Listen for the clearing of the current output cell\n",
              "var outputEl = gd.closest('.output');\n",
              "if (outputEl) {{\n",
              "    x.observe(outputEl, {childList: true});\n",
              "}}\n",
              "\n",
              "                        })                };                            </script>        </div>\n",
              "</body>\n",
              "</html>"
            ]
          },
          "metadata": {}
        }
      ]
    },
    {
      "cell_type": "markdown",
      "metadata": {
        "id": "4spXl2_C6flq"
      },
      "source": [
        "## Visualisera ord\n",
        "\n",
        "Det går också att visuellt visa de ord som valts ut av modellen för att skapa ett tema. Exempelvis kan vi visualisera några teman genom att skapa bargrafer av de c-TF-IDF poäng som genererats för varje temas representation. Detta kan generera ytterligare förståelse genom att man kan jämföra poängen mellan och inom olika teman."
      ]
    },
    {
      "cell_type": "code",
      "metadata": {
        "colab": {
          "base_uri": "https://localhost:8080/",
          "height": 767
        },
        "id": "zpm9LsKW6mi5",
        "outputId": "607b7a74-c271-407f-b642-1b85a2d66217"
      },
      "source": [
        "topic_model.visualize_barchart(top_n_topics=10)"
      ],
      "execution_count": 17,
      "outputs": [
        {
          "output_type": "display_data",
          "data": {
            "text/html": [
              "<html>\n",
              "<head><meta charset=\"utf-8\" /></head>\n",
              "<body>\n",
              "    <div>            <script src=\"https://cdnjs.cloudflare.com/ajax/libs/mathjax/2.7.5/MathJax.js?config=TeX-AMS-MML_SVG\"></script><script type=\"text/javascript\">if (window.MathJax && window.MathJax.Hub && window.MathJax.Hub.Config) {window.MathJax.Hub.Config({SVG: {font: \"STIX-Web\"}});}</script>                <script type=\"text/javascript\">window.PlotlyConfig = {MathJaxConfig: 'local'};</script>\n",
              "        <script charset=\"utf-8\" src=\"https://cdn.plot.ly/plotly-2.24.1.min.js\"></script>                <div id=\"acc5d7a6-c893-446b-aba2-e8ffa7a871b5\" class=\"plotly-graph-div\" style=\"height:750px; width:1000px;\"></div>            <script type=\"text/javascript\">                                    window.PLOTLYENV=window.PLOTLYENV || {};                                    if (document.getElementById(\"acc5d7a6-c893-446b-aba2-e8ffa7a871b5\")) {                    Plotly.newPlot(                        \"acc5d7a6-c893-446b-aba2-e8ffa7a871b5\",                        [{\"marker\":{\"color\":\"#D55E00\"},\"orientation\":\"h\",\"x\":[1e-05,1e-05,1e-05,0.0017287596096517304,0.0017287596096517304],\"y\":[\"  \",\"  \",\"  \",\"belastningsorsaker  \",\"ergonomiska  \"],\"type\":\"bar\",\"xaxis\":\"x\",\"yaxis\":\"y\"},{\"marker\":{\"color\":\"#0072B2\"},\"orientation\":\"h\",\"x\":[1e-05,0.000779363112676886,0.0014564562020846043,0.0014564562020846043,0.0014564562020846043],\"y\":[\"  \",\"orsaker  \",\"och  \",\"organisatoriska  \",\"sociala  \"],\"type\":\"bar\",\"xaxis\":\"x2\",\"yaxis\":\"y2\"},{\"marker\":{\"color\":\"#CC79A7\"},\"orientation\":\"h\",\"x\":[1e-05,0.000779363112676886,0.002645527332634252,0.002645527332634252,0.002645527332634252],\"y\":[\"  \",\"orsaker  \",\"biologiska  \",\"eller  \",\"kemiska  \"],\"type\":\"bar\",\"xaxis\":\"x3\",\"yaxis\":\"y3\"},{\"marker\":{\"color\":\"#E69F00\"},\"orientation\":\"h\",\"x\":[1e-05,1e-05,1e-05,0.001558726225353772,0.008989006147704197],\"y\":[\"  \",\"  \",\"  \",\"orsaker  \",\"fysikaliska  \"],\"type\":\"bar\",\"xaxis\":\"x4\",\"yaxis\":\"y4\"},{\"marker\":{\"color\":\"#56B4E9\"},\"orientation\":\"h\",\"x\":[1e-05,1e-05,1e-05,1e-05,0.04551411248736484],\"y\":[\"  \",\"  \",\"  \",\"  \",\"buller  \"],\"type\":\"bar\",\"xaxis\":\"x5\",\"yaxis\":\"y5\"},{\"marker\":{\"color\":\"#009E73\"},\"orientation\":\"h\",\"x\":[1e-05,1e-05,1e-05,1e-05,0.06485254217956125],\"y\":[\"  \",\"  \",\"  \",\"  \",\"\\u00f6vrigt  \"],\"type\":\"bar\",\"xaxis\":\"x6\",\"yaxis\":\"y6\"},{\"marker\":{\"color\":\"#F0E442\"},\"orientation\":\"h\",\"x\":[1e-05,1e-05,1e-05,1e-05,0.18149202543157922],\"y\":[\"  \",\"  \",\"  \",\"  \",\"smitta  \"],\"type\":\"bar\",\"xaxis\":\"x7\",\"yaxis\":\"y7\"},{\"marker\":{\"color\":\"#D55E00\"},\"orientation\":\"h\",\"x\":[1e-05,1e-05,1e-05,1e-05,0.0005410304055796508],\"y\":[\"  \",\"  \",\"  \",\"  \",\"saknas  \"],\"type\":\"bar\",\"xaxis\":\"x8\",\"yaxis\":\"y8\"},{\"marker\":{\"color\":\"#0072B2\"},\"orientation\":\"h\",\"x\":[1e-05,1e-05,1e-05,1e-05,0.0005410304055796508],\"y\":[\"  \",\"  \",\"  \",\"  \",\"saknas  \"],\"type\":\"bar\",\"xaxis\":\"x9\",\"yaxis\":\"y9\"},{\"marker\":{\"color\":\"#CC79A7\"},\"orientation\":\"h\",\"x\":[1e-05,1e-05,1e-05,1e-05,0.4519851237430572],\"y\":[\"  \",\"  \",\"  \",\"  \",\"vibrationer  \"],\"type\":\"bar\",\"xaxis\":\"x10\",\"yaxis\":\"y10\"}],                        {\"template\":{\"data\":{\"barpolar\":[{\"marker\":{\"line\":{\"color\":\"white\",\"width\":0.5},\"pattern\":{\"fillmode\":\"overlay\",\"size\":10,\"solidity\":0.2}},\"type\":\"barpolar\"}],\"bar\":[{\"error_x\":{\"color\":\"#2a3f5f\"},\"error_y\":{\"color\":\"#2a3f5f\"},\"marker\":{\"line\":{\"color\":\"white\",\"width\":0.5},\"pattern\":{\"fillmode\":\"overlay\",\"size\":10,\"solidity\":0.2}},\"type\":\"bar\"}],\"carpet\":[{\"aaxis\":{\"endlinecolor\":\"#2a3f5f\",\"gridcolor\":\"#C8D4E3\",\"linecolor\":\"#C8D4E3\",\"minorgridcolor\":\"#C8D4E3\",\"startlinecolor\":\"#2a3f5f\"},\"baxis\":{\"endlinecolor\":\"#2a3f5f\",\"gridcolor\":\"#C8D4E3\",\"linecolor\":\"#C8D4E3\",\"minorgridcolor\":\"#C8D4E3\",\"startlinecolor\":\"#2a3f5f\"},\"type\":\"carpet\"}],\"choropleth\":[{\"colorbar\":{\"outlinewidth\":0,\"ticks\":\"\"},\"type\":\"choropleth\"}],\"contourcarpet\":[{\"colorbar\":{\"outlinewidth\":0,\"ticks\":\"\"},\"type\":\"contourcarpet\"}],\"contour\":[{\"colorbar\":{\"outlinewidth\":0,\"ticks\":\"\"},\"colorscale\":[[0.0,\"#0d0887\"],[0.1111111111111111,\"#46039f\"],[0.2222222222222222,\"#7201a8\"],[0.3333333333333333,\"#9c179e\"],[0.4444444444444444,\"#bd3786\"],[0.5555555555555556,\"#d8576b\"],[0.6666666666666666,\"#ed7953\"],[0.7777777777777778,\"#fb9f3a\"],[0.8888888888888888,\"#fdca26\"],[1.0,\"#f0f921\"]],\"type\":\"contour\"}],\"heatmapgl\":[{\"colorbar\":{\"outlinewidth\":0,\"ticks\":\"\"},\"colorscale\":[[0.0,\"#0d0887\"],[0.1111111111111111,\"#46039f\"],[0.2222222222222222,\"#7201a8\"],[0.3333333333333333,\"#9c179e\"],[0.4444444444444444,\"#bd3786\"],[0.5555555555555556,\"#d8576b\"],[0.6666666666666666,\"#ed7953\"],[0.7777777777777778,\"#fb9f3a\"],[0.8888888888888888,\"#fdca26\"],[1.0,\"#f0f921\"]],\"type\":\"heatmapgl\"}],\"heatmap\":[{\"colorbar\":{\"outlinewidth\":0,\"ticks\":\"\"},\"colorscale\":[[0.0,\"#0d0887\"],[0.1111111111111111,\"#46039f\"],[0.2222222222222222,\"#7201a8\"],[0.3333333333333333,\"#9c179e\"],[0.4444444444444444,\"#bd3786\"],[0.5555555555555556,\"#d8576b\"],[0.6666666666666666,\"#ed7953\"],[0.7777777777777778,\"#fb9f3a\"],[0.8888888888888888,\"#fdca26\"],[1.0,\"#f0f921\"]],\"type\":\"heatmap\"}],\"histogram2dcontour\":[{\"colorbar\":{\"outlinewidth\":0,\"ticks\":\"\"},\"colorscale\":[[0.0,\"#0d0887\"],[0.1111111111111111,\"#46039f\"],[0.2222222222222222,\"#7201a8\"],[0.3333333333333333,\"#9c179e\"],[0.4444444444444444,\"#bd3786\"],[0.5555555555555556,\"#d8576b\"],[0.6666666666666666,\"#ed7953\"],[0.7777777777777778,\"#fb9f3a\"],[0.8888888888888888,\"#fdca26\"],[1.0,\"#f0f921\"]],\"type\":\"histogram2dcontour\"}],\"histogram2d\":[{\"colorbar\":{\"outlinewidth\":0,\"ticks\":\"\"},\"colorscale\":[[0.0,\"#0d0887\"],[0.1111111111111111,\"#46039f\"],[0.2222222222222222,\"#7201a8\"],[0.3333333333333333,\"#9c179e\"],[0.4444444444444444,\"#bd3786\"],[0.5555555555555556,\"#d8576b\"],[0.6666666666666666,\"#ed7953\"],[0.7777777777777778,\"#fb9f3a\"],[0.8888888888888888,\"#fdca26\"],[1.0,\"#f0f921\"]],\"type\":\"histogram2d\"}],\"histogram\":[{\"marker\":{\"pattern\":{\"fillmode\":\"overlay\",\"size\":10,\"solidity\":0.2}},\"type\":\"histogram\"}],\"mesh3d\":[{\"colorbar\":{\"outlinewidth\":0,\"ticks\":\"\"},\"type\":\"mesh3d\"}],\"parcoords\":[{\"line\":{\"colorbar\":{\"outlinewidth\":0,\"ticks\":\"\"}},\"type\":\"parcoords\"}],\"pie\":[{\"automargin\":true,\"type\":\"pie\"}],\"scatter3d\":[{\"line\":{\"colorbar\":{\"outlinewidth\":0,\"ticks\":\"\"}},\"marker\":{\"colorbar\":{\"outlinewidth\":0,\"ticks\":\"\"}},\"type\":\"scatter3d\"}],\"scattercarpet\":[{\"marker\":{\"colorbar\":{\"outlinewidth\":0,\"ticks\":\"\"}},\"type\":\"scattercarpet\"}],\"scattergeo\":[{\"marker\":{\"colorbar\":{\"outlinewidth\":0,\"ticks\":\"\"}},\"type\":\"scattergeo\"}],\"scattergl\":[{\"marker\":{\"colorbar\":{\"outlinewidth\":0,\"ticks\":\"\"}},\"type\":\"scattergl\"}],\"scattermapbox\":[{\"marker\":{\"colorbar\":{\"outlinewidth\":0,\"ticks\":\"\"}},\"type\":\"scattermapbox\"}],\"scatterpolargl\":[{\"marker\":{\"colorbar\":{\"outlinewidth\":0,\"ticks\":\"\"}},\"type\":\"scatterpolargl\"}],\"scatterpolar\":[{\"marker\":{\"colorbar\":{\"outlinewidth\":0,\"ticks\":\"\"}},\"type\":\"scatterpolar\"}],\"scatter\":[{\"fillpattern\":{\"fillmode\":\"overlay\",\"size\":10,\"solidity\":0.2},\"type\":\"scatter\"}],\"scatterternary\":[{\"marker\":{\"colorbar\":{\"outlinewidth\":0,\"ticks\":\"\"}},\"type\":\"scatterternary\"}],\"surface\":[{\"colorbar\":{\"outlinewidth\":0,\"ticks\":\"\"},\"colorscale\":[[0.0,\"#0d0887\"],[0.1111111111111111,\"#46039f\"],[0.2222222222222222,\"#7201a8\"],[0.3333333333333333,\"#9c179e\"],[0.4444444444444444,\"#bd3786\"],[0.5555555555555556,\"#d8576b\"],[0.6666666666666666,\"#ed7953\"],[0.7777777777777778,\"#fb9f3a\"],[0.8888888888888888,\"#fdca26\"],[1.0,\"#f0f921\"]],\"type\":\"surface\"}],\"table\":[{\"cells\":{\"fill\":{\"color\":\"#EBF0F8\"},\"line\":{\"color\":\"white\"}},\"header\":{\"fill\":{\"color\":\"#C8D4E3\"},\"line\":{\"color\":\"white\"}},\"type\":\"table\"}]},\"layout\":{\"annotationdefaults\":{\"arrowcolor\":\"#2a3f5f\",\"arrowhead\":0,\"arrowwidth\":1},\"autotypenumbers\":\"strict\",\"coloraxis\":{\"colorbar\":{\"outlinewidth\":0,\"ticks\":\"\"}},\"colorscale\":{\"diverging\":[[0,\"#8e0152\"],[0.1,\"#c51b7d\"],[0.2,\"#de77ae\"],[0.3,\"#f1b6da\"],[0.4,\"#fde0ef\"],[0.5,\"#f7f7f7\"],[0.6,\"#e6f5d0\"],[0.7,\"#b8e186\"],[0.8,\"#7fbc41\"],[0.9,\"#4d9221\"],[1,\"#276419\"]],\"sequential\":[[0.0,\"#0d0887\"],[0.1111111111111111,\"#46039f\"],[0.2222222222222222,\"#7201a8\"],[0.3333333333333333,\"#9c179e\"],[0.4444444444444444,\"#bd3786\"],[0.5555555555555556,\"#d8576b\"],[0.6666666666666666,\"#ed7953\"],[0.7777777777777778,\"#fb9f3a\"],[0.8888888888888888,\"#fdca26\"],[1.0,\"#f0f921\"]],\"sequentialminus\":[[0.0,\"#0d0887\"],[0.1111111111111111,\"#46039f\"],[0.2222222222222222,\"#7201a8\"],[0.3333333333333333,\"#9c179e\"],[0.4444444444444444,\"#bd3786\"],[0.5555555555555556,\"#d8576b\"],[0.6666666666666666,\"#ed7953\"],[0.7777777777777778,\"#fb9f3a\"],[0.8888888888888888,\"#fdca26\"],[1.0,\"#f0f921\"]]},\"colorway\":[\"#636efa\",\"#EF553B\",\"#00cc96\",\"#ab63fa\",\"#FFA15A\",\"#19d3f3\",\"#FF6692\",\"#B6E880\",\"#FF97FF\",\"#FECB52\"],\"font\":{\"color\":\"#2a3f5f\"},\"geo\":{\"bgcolor\":\"white\",\"lakecolor\":\"white\",\"landcolor\":\"white\",\"showlakes\":true,\"showland\":true,\"subunitcolor\":\"#C8D4E3\"},\"hoverlabel\":{\"align\":\"left\"},\"hovermode\":\"closest\",\"mapbox\":{\"style\":\"light\"},\"paper_bgcolor\":\"white\",\"plot_bgcolor\":\"white\",\"polar\":{\"angularaxis\":{\"gridcolor\":\"#EBF0F8\",\"linecolor\":\"#EBF0F8\",\"ticks\":\"\"},\"bgcolor\":\"white\",\"radialaxis\":{\"gridcolor\":\"#EBF0F8\",\"linecolor\":\"#EBF0F8\",\"ticks\":\"\"}},\"scene\":{\"xaxis\":{\"backgroundcolor\":\"white\",\"gridcolor\":\"#DFE8F3\",\"gridwidth\":2,\"linecolor\":\"#EBF0F8\",\"showbackground\":true,\"ticks\":\"\",\"zerolinecolor\":\"#EBF0F8\"},\"yaxis\":{\"backgroundcolor\":\"white\",\"gridcolor\":\"#DFE8F3\",\"gridwidth\":2,\"linecolor\":\"#EBF0F8\",\"showbackground\":true,\"ticks\":\"\",\"zerolinecolor\":\"#EBF0F8\"},\"zaxis\":{\"backgroundcolor\":\"white\",\"gridcolor\":\"#DFE8F3\",\"gridwidth\":2,\"linecolor\":\"#EBF0F8\",\"showbackground\":true,\"ticks\":\"\",\"zerolinecolor\":\"#EBF0F8\"}},\"shapedefaults\":{\"line\":{\"color\":\"#2a3f5f\"}},\"ternary\":{\"aaxis\":{\"gridcolor\":\"#DFE8F3\",\"linecolor\":\"#A2B1C6\",\"ticks\":\"\"},\"baxis\":{\"gridcolor\":\"#DFE8F3\",\"linecolor\":\"#A2B1C6\",\"ticks\":\"\"},\"bgcolor\":\"white\",\"caxis\":{\"gridcolor\":\"#DFE8F3\",\"linecolor\":\"#A2B1C6\",\"ticks\":\"\"}},\"title\":{\"x\":0.05},\"xaxis\":{\"automargin\":true,\"gridcolor\":\"#EBF0F8\",\"linecolor\":\"#EBF0F8\",\"ticks\":\"\",\"title\":{\"standoff\":15},\"zerolinecolor\":\"#EBF0F8\",\"zerolinewidth\":2},\"yaxis\":{\"automargin\":true,\"gridcolor\":\"#EBF0F8\",\"linecolor\":\"#EBF0F8\",\"ticks\":\"\",\"title\":{\"standoff\":15},\"zerolinecolor\":\"#EBF0F8\",\"zerolinewidth\":2}}},\"xaxis\":{\"anchor\":\"y\",\"domain\":[0.0,0.175],\"showgrid\":true},\"yaxis\":{\"anchor\":\"x\",\"domain\":[0.7555555555555555,1.0],\"showgrid\":true},\"xaxis2\":{\"anchor\":\"y2\",\"domain\":[0.275,0.45],\"showgrid\":true},\"yaxis2\":{\"anchor\":\"x2\",\"domain\":[0.7555555555555555,1.0],\"showgrid\":true},\"xaxis3\":{\"anchor\":\"y3\",\"domain\":[0.55,0.7250000000000001],\"showgrid\":true},\"yaxis3\":{\"anchor\":\"x3\",\"domain\":[0.7555555555555555,1.0],\"showgrid\":true},\"xaxis4\":{\"anchor\":\"y4\",\"domain\":[0.825,1.0],\"showgrid\":true},\"yaxis4\":{\"anchor\":\"x4\",\"domain\":[0.7555555555555555,1.0],\"showgrid\":true},\"xaxis5\":{\"anchor\":\"y5\",\"domain\":[0.0,0.175],\"showgrid\":true},\"yaxis5\":{\"anchor\":\"x5\",\"domain\":[0.37777777777777777,0.6222222222222222],\"showgrid\":true},\"xaxis6\":{\"anchor\":\"y6\",\"domain\":[0.275,0.45],\"showgrid\":true},\"yaxis6\":{\"anchor\":\"x6\",\"domain\":[0.37777777777777777,0.6222222222222222],\"showgrid\":true},\"xaxis7\":{\"anchor\":\"y7\",\"domain\":[0.55,0.7250000000000001],\"showgrid\":true},\"yaxis7\":{\"anchor\":\"x7\",\"domain\":[0.37777777777777777,0.6222222222222222],\"showgrid\":true},\"xaxis8\":{\"anchor\":\"y8\",\"domain\":[0.825,1.0],\"showgrid\":true},\"yaxis8\":{\"anchor\":\"x8\",\"domain\":[0.37777777777777777,0.6222222222222222],\"showgrid\":true},\"xaxis9\":{\"anchor\":\"y9\",\"domain\":[0.0,0.175],\"showgrid\":true},\"yaxis9\":{\"anchor\":\"x9\",\"domain\":[0.0,0.24444444444444446],\"showgrid\":true},\"xaxis10\":{\"anchor\":\"y10\",\"domain\":[0.275,0.45],\"showgrid\":true},\"yaxis10\":{\"anchor\":\"x10\",\"domain\":[0.0,0.24444444444444446],\"showgrid\":true},\"xaxis11\":{\"anchor\":\"y11\",\"domain\":[0.55,0.7250000000000001],\"showgrid\":true},\"yaxis11\":{\"anchor\":\"x11\",\"domain\":[0.0,0.24444444444444446],\"showgrid\":true},\"xaxis12\":{\"anchor\":\"y12\",\"domain\":[0.825,1.0],\"showgrid\":true},\"yaxis12\":{\"anchor\":\"x12\",\"domain\":[0.0,0.24444444444444446],\"showgrid\":true},\"annotations\":[{\"font\":{\"size\":16},\"showarrow\":false,\"text\":\"Topic 0\",\"x\":0.0875,\"xanchor\":\"center\",\"xref\":\"paper\",\"y\":1.0,\"yanchor\":\"bottom\",\"yref\":\"paper\"},{\"font\":{\"size\":16},\"showarrow\":false,\"text\":\"Topic 1\",\"x\":0.36250000000000004,\"xanchor\":\"center\",\"xref\":\"paper\",\"y\":1.0,\"yanchor\":\"bottom\",\"yref\":\"paper\"},{\"font\":{\"size\":16},\"showarrow\":false,\"text\":\"Topic 2\",\"x\":0.6375000000000001,\"xanchor\":\"center\",\"xref\":\"paper\",\"y\":1.0,\"yanchor\":\"bottom\",\"yref\":\"paper\"},{\"font\":{\"size\":16},\"showarrow\":false,\"text\":\"Topic 3\",\"x\":0.9125,\"xanchor\":\"center\",\"xref\":\"paper\",\"y\":1.0,\"yanchor\":\"bottom\",\"yref\":\"paper\"},{\"font\":{\"size\":16},\"showarrow\":false,\"text\":\"Topic 4\",\"x\":0.0875,\"xanchor\":\"center\",\"xref\":\"paper\",\"y\":0.6222222222222222,\"yanchor\":\"bottom\",\"yref\":\"paper\"},{\"font\":{\"size\":16},\"showarrow\":false,\"text\":\"Topic 5\",\"x\":0.36250000000000004,\"xanchor\":\"center\",\"xref\":\"paper\",\"y\":0.6222222222222222,\"yanchor\":\"bottom\",\"yref\":\"paper\"},{\"font\":{\"size\":16},\"showarrow\":false,\"text\":\"Topic 6\",\"x\":0.6375000000000001,\"xanchor\":\"center\",\"xref\":\"paper\",\"y\":0.6222222222222222,\"yanchor\":\"bottom\",\"yref\":\"paper\"},{\"font\":{\"size\":16},\"showarrow\":false,\"text\":\"Topic 7\",\"x\":0.9125,\"xanchor\":\"center\",\"xref\":\"paper\",\"y\":0.6222222222222222,\"yanchor\":\"bottom\",\"yref\":\"paper\"},{\"font\":{\"size\":16},\"showarrow\":false,\"text\":\"Topic 8\",\"x\":0.0875,\"xanchor\":\"center\",\"xref\":\"paper\",\"y\":0.24444444444444446,\"yanchor\":\"bottom\",\"yref\":\"paper\"},{\"font\":{\"size\":16},\"showarrow\":false,\"text\":\"Topic 9\",\"x\":0.36250000000000004,\"xanchor\":\"center\",\"xref\":\"paper\",\"y\":0.24444444444444446,\"yanchor\":\"bottom\",\"yref\":\"paper\"}],\"title\":{\"font\":{\"size\":22,\"color\":\"Black\"},\"text\":\"Topic Word Scores\",\"x\":0.5,\"xanchor\":\"center\",\"yanchor\":\"top\"},\"hoverlabel\":{\"font\":{\"size\":16,\"family\":\"Rockwell\"},\"bgcolor\":\"white\"},\"showlegend\":false,\"width\":1000,\"height\":750},                        {\"responsive\": true}                    ).then(function(){\n",
              "                            \n",
              "var gd = document.getElementById('acc5d7a6-c893-446b-aba2-e8ffa7a871b5');\n",
              "var x = new MutationObserver(function (mutations, observer) {{\n",
              "        var display = window.getComputedStyle(gd).display;\n",
              "        if (!display || display === 'none') {{\n",
              "            console.log([gd, 'removed!']);\n",
              "            Plotly.purge(gd);\n",
              "            observer.disconnect();\n",
              "        }}\n",
              "}});\n",
              "\n",
              "// Listen for the removal of the full notebook cells\n",
              "var notebookContainer = gd.closest('#notebook-container');\n",
              "if (notebookContainer) {{\n",
              "    x.observe(notebookContainer, {childList: true});\n",
              "}}\n",
              "\n",
              "// Listen for the clearing of the current output cell\n",
              "var outputEl = gd.closest('.output');\n",
              "if (outputEl) {{\n",
              "    x.observe(outputEl, {childList: true});\n",
              "}}\n",
              "\n",
              "                        })                };                            </script>        </div>\n",
              "</body>\n",
              "</html>"
            ]
          },
          "metadata": {}
        }
      ]
    },
    {
      "cell_type": "markdown",
      "metadata": {
        "id": "QCPdi6_z6sbT"
      },
      "source": [
        "## Visualisera likhet mellan teman\n",
        "När vi genererat embeddings med både c-TF-IDF and sentence_transformers, kan vi skapa en matris som visar likheten baserat på en cosinus formel. Resultatet blir då en matris som indikerar hur lika olika teman är varandra."
      ]
    },
    {
      "cell_type": "code",
      "metadata": {
        "id": "edzNhZuZ6wTr"
      },
      "source": [
        "topic_model.visualize_heatmap(n_clusters=10, width=1000, height=1000)"
      ],
      "execution_count": 21,
      "outputs": []
    },
    {
      "cell_type": "markdown",
      "metadata": {
        "id": "_ak_CLR164mx"
      },
      "source": [
        "## Visualisering av Term Score Decline\n",
        "Teman representeras av ett antal ord där det ord som bäst representerar temat presenteras först. Varje ord har en poäng som kommer från den embeddning som gjorts av c-TF-IDF algoritmen. Ju högre poäng, desto bättre representerar ett visst ord det tema det ingår i. Eftersom orden som representerar temat är rangordnade efter sin poäng så kommer varje ord i ordningen har mindre koppling till sitt tema. Vid någon punkt tillför inte längre tillagt ord något till sitt tema och är därmed inte en god representant för temat.\n",
        "\n",
        "FÖr att visualisera detta kan poängen i enlighet med c-TF-IDF för varje tema plottas.\n",
        "\n",
        "Med andra ord så plottas positionerna för varje ord i ett tema på x-axeln där det ord som har bäst poäng får rankingen 1 medan sämre rankade ord hamnar lägre, och lägre på x-axeln. Vad vi då kan se är hur poängen hela tiden minskar när fler ord läggs till i ett tema. Det kan vara till hjälp för att göra inställningar för hur många ord som optimalt ska ingå i ett tema för att temat ska vara enhetligt och förståeligt. En metod för att välja antal ord är armbågsmetoden som beskrivs såhär på wikipedia [elbow method](https://en.wikipedia.org/wiki/Elbow_method_(clustering))\n"
      ]
    },
    {
      "cell_type": "code",
      "metadata": {
        "colab": {
          "base_uri": "https://localhost:8080/",
          "height": 517
        },
        "id": "7gT3Korh6-MX",
        "outputId": "e92a79aa-d16d-4638-8b3f-afe06073d059"
      },
      "source": [
        "topic_model.visualize_term_rank()"
      ],
      "execution_count": null,
      "outputs": [
        {
          "output_type": "display_data",
          "data": {
            "text/html": [
              "<html>\n",
              "<head><meta charset=\"utf-8\" /></head>\n",
              "<body>\n",
              "    <div>            <script src=\"https://cdnjs.cloudflare.com/ajax/libs/mathjax/2.7.5/MathJax.js?config=TeX-AMS-MML_SVG\"></script><script type=\"text/javascript\">if (window.MathJax && window.MathJax.Hub && window.MathJax.Hub.Config) {window.MathJax.Hub.Config({SVG: {font: \"STIX-Web\"}});}</script>                <script type=\"text/javascript\">window.PlotlyConfig = {MathJaxConfig: 'local'};</script>\n",
              "        <script charset=\"utf-8\" src=\"https://cdn.plot.ly/plotly-2.24.1.min.js\"></script>                <div id=\"38e58f0c-ebe3-44eb-a21f-16bc8b9af188\" class=\"plotly-graph-div\" style=\"height:500px; width:800px;\"></div>            <script type=\"text/javascript\">                                    window.PLOTLYENV=window.PLOTLYENV || {};                                    if (document.getElementById(\"38e58f0c-ebe3-44eb-a21f-16bc8b9af188\")) {                    Plotly.newPlot(                        \"38e58f0c-ebe3-44eb-a21f-16bc8b9af188\",                        [{\"hovertext\":\"\\u003cb\\u003eTopic -1\\u003c\\u002fb\\u003e:xxxx_the_to_my_and_that_credit_was\",\"line\":{\"color\":\"black\",\"width\":1.5},\"mode\":\"lines+lines\",\"name\":\"\",\"opacity\":0.1,\"x\":[1,2,3,4,5,6,7,8,9,10],\"y\":[0.006006550347830563,0.00581185047958604,0.005776680904094781,0.005594510201802052,0.005592483144507855,0.005387310862029662,0.0053026781063797036,0.005265077830416556,0.005252383374297418,0.005149072589433318],\"type\":\"scatter\"},{\"hovertext\":\"\\u003cb\\u003eTopic 0\\u003c\\u002fb\\u003e:call_phone_calls_calling_number_she\",\"line\":{\"color\":\"black\",\"width\":1.5},\"mode\":\"lines+lines\",\"name\":\"\",\"opacity\":0.1,\"x\":[1,2,3,4,5,6,7,8,9,10],\"y\":[0.013610106639660781,0.011917871639500286,0.011711664780940031,0.011352160797453199,0.010690943829157593,0.010266085599982468,0.009551606257631571,0.009065803798800903,0.008932576345228534,0.008167809560283835],\"type\":\"scatter\"},{\"hovertext\":\"\\u003cb\\u003eTopic 1\\u003c\\u002fb\\u003e:mortgage_we_modification_loan_our_h\",\"line\":{\"color\":\"black\",\"width\":1.5},\"mode\":\"lines+lines\",\"name\":\"\",\"opacity\":0.1,\"x\":[1,2,3,4,5,6,7,8,9,10],\"y\":[0.011799100992719674,0.010326373526121986,0.010194527481276472,0.009770043423061035,0.008745974670140598,0.008512636075300268,0.006932687262853099,0.0066357053778089365,0.006609110030593077,0.0061424966770249586],\"type\":\"scatter\"},{\"hovertext\":\"\\u003cb\\u003eTopic 2\\u003c\\u002fb\\u003e:inquiry_inquiries_xxxxxxxx_hard_xxx\",\"line\":{\"color\":\"black\",\"width\":1.5},\"mode\":\"lines+lines\",\"name\":\"\",\"opacity\":0.1,\"x\":[1,2,3,4,5,6,7,8,9,10],\"y\":[0.05546190749468716,0.0321238726065473,0.026056374464835084,0.02175002921127652,0.02123293624904176,0.01519144003620976,0.01272535899829017,0.01146957276528952,0.011310925363165069,0.010671659014322097],\"type\":\"scatter\"},{\"hovertext\":\"\\u003cb\\u003eTopic 3\\u003c\\u002fb\\u003e:escrow_insurance_taxes_mortgage_our\",\"line\":{\"color\":\"black\",\"width\":1.5},\"mode\":\"lines+lines\",\"name\":\"\",\"opacity\":0.1,\"x\":[1,2,3,4,5,6,7,8,9,10],\"y\":[0.02364369159566706,0.019357710165033525,0.014183286157045073,0.011775923087149974,0.009100022130580131,0.009077802578237709,0.00874017550865738,0.007929736299762924,0.006821853033387185,0.006817277834912293],\"type\":\"scatter\"},{\"hovertext\":\"\\u003cb\\u003eTopic 4\\u003c\\u002fb\\u003e:debt_validation_fair_letter_act_col\",\"line\":{\"color\":\"black\",\"width\":1.5},\"mode\":\"lines+lines\",\"name\":\"\",\"opacity\":0.1,\"x\":[1,2,3,4,5,6,7,8,9,10],\"y\":[0.023395159247342645,0.023251527101404972,0.011046366455759175,0.010871937111611149,0.010112367162825485,0.0100722309458462,0.010018016187636954,0.009754165624472958,0.0091896862797815,0.00914435917120834],\"type\":\"scatter\"},{\"hovertext\":\"\\u003cb\\u003eTopic 5\\u003c\\u002fb\\u003e:bankruptcy_court_chapter_informatio\",\"line\":{\"color\":\"black\",\"width\":1.5},\"mode\":\"lines+lines\",\"name\":\"\",\"opacity\":0.1,\"x\":[1,2,3,4,5,6,7,8,9,10],\"y\":[0.047088311382939695,0.015221193428635637,0.012844874125667155,0.01186573832307498,0.01142148233284872,0.01097404398105444,0.010438592666994546,0.010412883229411462,0.010194185905431417,0.010054699572829022],\"type\":\"scatter\"},{\"hovertext\":\"\\u003cb\\u003eTopic 6\\u003c\\u002fb\\u003e:equifax_report_accounts_credit_info\",\"line\":{\"color\":\"black\",\"width\":1.5},\"mode\":\"lines+lines\",\"name\":\"\",\"opacity\":0.1,\"x\":[1,2,3,4,5,6,7,8,9,10],\"y\":[0.04407545564831489,0.009830792147375875,0.008476730105958034,0.008306101310199345,0.008238232509496303,0.008012304620406583,0.007825801217631021,0.007118722493927476,0.007107873109174268,0.006882311283387521],\"type\":\"scatter\"},{\"hovertext\":\"\\u003cb\\u003eTopic 7\\u003c\\u002fb\\u003e:experian_report_reporting_informati\",\"line\":{\"color\":\"black\",\"width\":1.5},\"mode\":\"lines+lines\",\"name\":\"\",\"opacity\":0.1,\"x\":[1,2,3,4,5,6,7,8,9,10],\"y\":[0.05079714973990078,0.011482212074889394,0.009976637509172994,0.009612015703184717,0.008496749331226093,0.00800613218386882,0.007967958567894673,0.007791324113847706,0.007549916367469922,0.00745320927859456],\"type\":\"scatter\"},{\"hovertext\":\"\\u003cb\\u003eTopic 8\\u003c\\u002fb\\u003e:collection_debt_report_collections_\",\"line\":{\"color\":\"black\",\"width\":1.5},\"mode\":\"lines+lines\",\"name\":\"\",\"opacity\":0.1,\"x\":[1,2,3,4,5,6,7,8,9,10],\"y\":[0.032490314563138195,0.015766693412068825,0.012331439678397896,0.012225846749396472,0.011473313796250039,0.011033261039903354,0.010234687264414045,0.009513569835810167,0.009280465046317434,0.008871037231611792],\"type\":\"scatter\"},{\"hovertext\":\"\\u003cb\\u003eTopic 9\\u003c\\u002fb\\u003e:transunion_report_reporting_verfica\",\"line\":{\"color\":\"black\",\"width\":1.5},\"mode\":\"lines+lines\",\"name\":\"\",\"opacity\":0.1,\"x\":[1,2,3,4,5,6,7,8,9,10],\"y\":[0.05681659240644369,0.011072655164160585,0.00895314509190021,0.008571331826242203,0.008436225543174707,0.008270993747613444,0.008037866646039308,0.007879235371459683,0.007810945034128258,0.007466752755211287],\"type\":\"scatter\"},{\"hovertext\":\"\\u003cb\\u003eTopic 10\\u003c\\u002fb\\u003e:chase_card_bank_check_account_was_\",\"line\":{\"color\":\"black\",\"width\":1.5},\"mode\":\"lines+lines\",\"name\":\"\",\"opacity\":0.1,\"x\":[1,2,3,4,5,6,7,8,9,10],\"y\":[0.04844035957469676,0.007893366917014174,0.00719748224416141,0.007066342145582021,0.006744600170356243,0.006658969569082282,0.006444073234397147,0.006200810254652701,0.006075828811839337,0.006063663241234176],\"type\":\"scatter\"},{\"hovertext\":\"\\u003cb\\u003eTopic 11\\u003c\\u002fb\\u003e:loans_navient_student_interest_loa\",\"line\":{\"color\":\"black\",\"width\":1.5},\"mode\":\"lines+lines\",\"name\":\"\",\"opacity\":0.1,\"x\":[1,2,3,4,5,6,7,8,9,10],\"y\":[0.02417936704888768,0.018350017413801503,0.016926661420060975,0.013261228933095202,0.011847671197786213,0.01056997130952543,0.009261616078948999,0.009216491642394995,0.009162097380803995,0.008877284069703983],\"type\":\"scatter\"},{\"hovertext\":\"\\u003cb\\u003eTopic 12\\u003c\\u002fb\\u003e:fargo_wells_account_wf_funds_bank_\",\"line\":{\"color\":\"black\",\"width\":1.5},\"mode\":\"lines+lines\",\"name\":\"\",\"opacity\":0.1,\"x\":[1,2,3,4,5,6,7,8,9,10],\"y\":[0.037036057296053616,0.037031974329335034,0.007568673923662393,0.007145947748219282,0.007082179453351884,0.006988461836543197,0.006462960096442344,0.006105148677380805,0.005995406063937463,0.0059641972153692034],\"type\":\"scatter\"},{\"hovertext\":\"\\u003cb\\u003eTopic 13\\u003c\\u002fb\\u003e:bill_insurance_medical_hospital_bi\",\"line\":{\"color\":\"black\",\"width\":1.5},\"mode\":\"lines+lines\",\"name\":\"\",\"opacity\":0.1,\"x\":[1,2,3,4,5,6,7,8,9,10],\"y\":[0.019300508952990254,0.017851053889868816,0.017222070575479993,0.01695470822175965,0.009679321764199398,0.008460205207553218,0.008152062511985032,0.007623627305299019,0.00689346671350412,0.006666183595359955],\"type\":\"scatter\"},{\"hovertext\":\"\\u003cb\\u003eTopic 14\\u003c\\u002fb\\u003e:capital_one_card_cards_credit_capi\",\"line\":{\"color\":\"black\",\"width\":1.5},\"mode\":\"lines+lines\",\"name\":\"\",\"opacity\":0.1,\"x\":[1,2,3,4,5,6,7,8,9,10],\"y\":[0.04717476993772134,0.028313298658304762,0.01276543906961803,0.007530931983048804,0.0065719106502833274,0.006467036637814508,0.006406832707879125,0.006319094207286391,0.006045941597319803,0.006025923679085062],\"type\":\"scatter\"},{\"hovertext\":\"\\u003cb\\u003eTopic 15\\u003c\\u002fb\\u003e:mortgage_payment_late_payments_che\",\"line\":{\"color\":\"black\",\"width\":1.5},\"mode\":\"lines+lines\",\"name\":\"\",\"opacity\":0.1,\"x\":[1,2,3,4,5,6,7,8,9,10],\"y\":[0.02018527100026548,0.01790063953320765,0.008506245988713867,0.008431746227389954,0.00737843598174551,0.006798618452169993,0.006282180254488838,0.00624527761374936,0.006174257112761147,0.0061514923661279645],\"type\":\"scatter\"},{\"hovertext\":\"\\u003cb\\u003eTopic 16\\u003c\\u002fb\\u003e:breach_equifax_data_security_perso\",\"line\":{\"color\":\"black\",\"width\":1.5},\"mode\":\"lines+lines\",\"name\":\"\",\"opacity\":0.1,\"x\":[1,2,3,4,5,6,7,8,9,10],\"y\":[0.05160851108812904,0.04991256481675215,0.031248640206343686,0.01693414639760379,0.015819792010102647,0.015593087521226125,0.015369866293362096,0.014856262947260055,0.013171655585019341,0.013046609228951882],\"type\":\"scatter\"},{\"hovertext\":\"\\u003cb\\u003eTopic 17\\u003c\\u002fb\\u003e:overdraft_fees_bank_fee_transactio\",\"line\":{\"color\":\"black\",\"width\":1.5},\"mode\":\"lines+lines\",\"name\":\"\",\"opacity\":0.1,\"x\":[1,2,3,4,5,6,7,8,9,10],\"y\":[0.04445087885461606,0.0246218798392704,0.018037045151194274,0.01397846135583004,0.012094867196012205,0.011193637143407527,0.010786489275998592,0.00902285998983058,0.008523286505854674,0.008469278432388575],\"type\":\"scatter\"},{\"hovertext\":\"\\u003cb\\u003eTopic 18\\u003c\\u002fb\\u003e:fargo_wells_modification_home_fore\",\"line\":{\"color\":\"black\",\"width\":1.5},\"mode\":\"lines+lines\",\"name\":\"\",\"opacity\":0.1,\"x\":[1,2,3,4,5,6,7,8,9,10],\"y\":[0.03998490928998685,0.039521168706064196,0.014647628937401323,0.012324572982168594,0.01198041384061048,0.011820459763437445,0.009649413835734463,0.007958220595020306,0.006142928893902097,0.0061256847350691325],\"type\":\"scatter\"},{\"hovertext\":\"\\u003cb\\u003eTopic 19\\u003c\\u002fb\\u003e:oh_address_addresses_xxxx_lived_re\",\"line\":{\"color\":\"black\",\"width\":1.5},\"mode\":\"lines+lines\",\"name\":\"\",\"opacity\":0.1,\"x\":[1,2,3,4,5,6,7,8,9,10],\"y\":[0.03673347307310131,0.03669869625539611,0.03105663399614722,0.027001965722139,0.013150772825261791,0.012078751626335886,0.011208886652091096,0.010978750641087352,0.00981672529208985,0.009557227290587873],\"type\":\"scatter\"},{\"hovertext\":\"\\u003cb\\u003eTopic 20\\u003c\\u002fb\\u003e:transunion_inquiries_inquiry_trans\",\"line\":{\"color\":\"black\",\"width\":1.5},\"mode\":\"lines+lines\",\"name\":\"\",\"opacity\":0.1,\"x\":[1,2,3,4,5,6,7,8,9,10],\"y\":[0.03981828159224246,0.030502354676079858,0.023858519601797315,0.021535105688089917,0.01674435739540144,0.014447808453642604,0.011625255749068841,0.010505845153571758,0.010496590002620567,0.009939973528570407],\"type\":\"scatter\"},{\"hovertext\":\"\\u003cb\\u003eTopic 21\\u003c\\u002fb\\u003e:limit_card_credit_score_walmart_my\",\"line\":{\"color\":\"black\",\"width\":1.5},\"mode\":\"lines+lines\",\"name\":\"\",\"opacity\":0.1,\"x\":[1,2,3,4,5,6,7,8,9,10],\"y\":[0.02645448939296073,0.014555758767638321,0.013765071560206612,0.012566850511672962,0.010387466697799696,0.009070437867667612,0.009031086041457224,0.00891809957717818,0.008384978563175537,0.007854937868056744],\"type\":\"scatter\"},{\"hovertext\":\"\\u003cb\\u003eTopic 22\\u003c\\u002fb\\u003e:paypal_account_money_transaction_f\",\"line\":{\"color\":\"black\",\"width\":1.5},\"mode\":\"lines+lines\",\"name\":\"\",\"opacity\":0.1,\"x\":[1,2,3,4,5,6,7,8,9,10],\"y\":[0.08858171874247031,0.008848127149492964,0.008717084442109682,0.008058784185736112,0.007658307219219774,0.00723955915307869,0.007100962935577325,0.006536813650135562,0.0061140063988631135,0.006100032375464719],\"type\":\"scatter\"},{\"hovertext\":\"\\u003cb\\u003eTopic 23\\u003c\\u002fb\\u003e:card_charges_debit_fraud_bank_mone\",\"line\":{\"color\":\"black\",\"width\":1.5},\"mode\":\"lines+lines\",\"name\":\"\",\"opacity\":0.1,\"x\":[1,2,3,4,5,6,7,8,9,10],\"y\":[0.015900951053547444,0.011843449334350739,0.010880719641750134,0.010370786820127638,0.009684953878376718,0.00910370407902252,0.008844603400244741,0.008273525993610687,0.007720068038363973,0.007656587757124161],\"type\":\"scatter\"},{\"hovertext\":\"\\u003cb\\u003eTopic 24\\u003c\\u002fb\\u003e:late_shocked_thought_statements_ha\",\"line\":{\"color\":\"black\",\"width\":1.5},\"mode\":\"lines+lines\",\"name\":\"\",\"opacity\":0.1,\"x\":[1,2,3,4,5,6,7,8,9,10],\"y\":[0.04917902315983963,0.03909027297287052,0.029704478928305977,0.02954685915661151,0.02732163553743872,0.026889885327390065,0.024230352107774487,0.023812739726459125,0.02309622327939627,0.02232705687407986],\"type\":\"scatter\"},{\"hovertext\":\"\\u003cb\\u003eTopic 25\\u003c\\u002fb\\u003e:theft_identity_report_fraudulent_v\",\"line\":{\"color\":\"black\",\"width\":1.5},\"mode\":\"lines+lines\",\"name\":\"\",\"opacity\":0.1,\"x\":[1,2,3,4,5,6,7,8,9,10],\"y\":[0.021148346665424193,0.020537978234686016,0.013832004586499674,0.013778733991303102,0.012592849741697925,0.012342141179994591,0.010611649269626527,0.010264605046221948,0.010259255175747384,0.009097617583284656],\"type\":\"scatter\"},{\"hovertext\":\"\\u003cb\\u003eTopic 26\\u003c\\u002fb\\u003e:citi_citibank_card_closed_charge_a\",\"line\":{\"color\":\"black\",\"width\":1.5},\"mode\":\"lines+lines\",\"name\":\"\",\"opacity\":0.1,\"x\":[1,2,3,4,5,6,7,8,9,10],\"y\":[0.03788952141732017,0.03570345374423627,0.014111769134003464,0.008530249493357,0.008450489161541898,0.008234733629759813,0.006747678423977482,0.006645886665131435,0.006310435584680826,0.006307113692685695],\"type\":\"scatter\"},{\"hovertext\":\"\\u003cb\\u003eTopic 27\\u003c\\u002fb\\u003e:portfolio_recovery_associates_debt\",\"line\":{\"color\":\"black\",\"width\":1.5},\"mode\":\"lines+lines\",\"name\":\"\",\"opacity\":0.1,\"x\":[1,2,3,4,5,6,7,8,9,10],\"y\":[0.08075570940014691,0.07161939075170755,0.028318071426122023,0.016643440079308867,0.010785657508586151,0.009136080527028896,0.008930051659303596,0.008856828651771015,0.008485883288116662,0.008393209062832504],\"type\":\"scatter\"},{\"hovertext\":\"\\u003cb\\u003eTopic 28\\u003c\\u002fb\\u003e:you_fcra_section_unverified_accoun\",\"line\":{\"color\":\"black\",\"width\":1.5},\"mode\":\"lines+lines\",\"name\":\"\",\"opacity\":0.1,\"x\":[1,2,3,4,5,6,7,8,9,10],\"y\":[0.023843641367256075,0.022563659525444046,0.022260636341674394,0.022039508576686236,0.02103540979335347,0.018981800956061237,0.018004102282111772,0.0177048319336632,0.016527399909856584,0.01611815350466043],\"type\":\"scatter\"},{\"hovertext\":\"\\u003cb\\u003eTopic 29\\u003c\\u002fb\\u003e:merchant_dispute_engine_refund_cha\",\"line\":{\"color\":\"black\",\"width\":1.5},\"mode\":\"lines+lines\",\"name\":\"\",\"opacity\":0.1,\"x\":[1,2,3,4,5,6,7,8,9,10],\"y\":[0.02756877381943623,0.014754151673718161,0.012598352977769045,0.009586916822713409,0.009267111701977738,0.008658601067012254,0.008428218790543805,0.008084675322773625,0.007445768029316586,0.007357209397017364],\"type\":\"scatter\"},{\"hovertext\":\"\\u003cb\\u003eTopic 30\\u003c\\u002fb\\u003e:interest_promotional_balance_promo\",\"line\":{\"color\":\"black\",\"width\":1.5},\"mode\":\"lines+lines\",\"name\":\"\",\"opacity\":0.1,\"x\":[1,2,3,4,5,6,7,8,9,10],\"y\":[0.03616089697312356,0.02222120663733299,0.018190740653066348,0.017143861111054436,0.012285674137622242,0.01128928308442447,0.010447846030121472,0.010173388620606126,0.010037542232908248,0.009657158861176858],\"type\":\"scatter\"},{\"hovertext\":\"\\u003cb\\u003eTopic 31\\u003c\\u002fb\\u003e:late_fee_fees_payment_due_minimum_\",\"line\":{\"color\":\"black\",\"width\":1.5},\"mode\":\"lines+lines\",\"name\":\"\",\"opacity\":0.1,\"x\":[1,2,3,4,5,6,7,8,9,10],\"y\":[0.034699608385061954,0.029160565453826358,0.021460533914724564,0.01850646064477406,0.012485189029731432,0.010916748944348674,0.009032535234230182,0.009026275909587184,0.008578586624434498,0.008461745387921717],\"type\":\"scatter\"},{\"hovertext\":\"\\u003cb\\u003eTopic 32\\u003c\\u002fb\\u003e:america_bank_fraud_account_fsb_mon\",\"line\":{\"color\":\"black\",\"width\":1.5},\"mode\":\"lines+lines\",\"name\":\"\",\"opacity\":0.1,\"x\":[1,2,3,4,5,6,7,8,9,10],\"y\":[0.02818924266934069,0.026132934854569304,0.011142687202265146,0.01068038224428918,0.009219438447799466,0.008647998212429765,0.007954915083122628,0.007929685937058811,0.007864047793414427,0.0074853667791660704],\"type\":\"scatter\"},{\"hovertext\":\"\\u003cb\\u003eTopic 33\\u003c\\u002fb\\u003e:inquiries_equifax_inquiry_hard_the\",\"line\":{\"color\":\"black\",\"width\":1.5},\"mode\":\"lines+lines\",\"name\":\"\",\"opacity\":0.1,\"x\":[1,2,3,4,5,6,7,8,9,10],\"y\":[0.046519189380170245,0.04580210234783488,0.024938525667269597,0.015849041696874924,0.014570379326288917,0.014513614913516172,0.0133649864334595,0.01236274307587026,0.012292661451312178,0.011771129388295862],\"type\":\"scatter\"},{\"hovertext\":\"\\u003cb\\u003eTopic 34\\u003c\\u002fb\\u003e:coinbase_support_bitcoin_email_fun\",\"line\":{\"color\":\"black\",\"width\":1.5},\"mode\":\"lines+lines\",\"name\":\"\",\"opacity\":0.1,\"x\":[1,2,3,4,5,6,7,8,9,10],\"y\":[0.08593223180269571,0.01875902746295403,0.01803701230695807,0.014450493105183995,0.012626256891074942,0.011516348136136698,0.010882883067494423,0.009554496991839941,0.00896357534760826,0.00879714852379798],\"type\":\"scatter\"},{\"hovertext\":\"\\u003cb\\u003eTopic 35\\u003c\\u002fb\\u003e:garnishment_garnished_wages_garnis\",\"line\":{\"color\":\"black\",\"width\":1.5},\"mode\":\"lines+lines\",\"name\":\"\",\"opacity\":0.1,\"x\":[1,2,3,4,5,6,7,8,9,10],\"y\":[0.03531821580904925,0.01845286637808151,0.01809984376202491,0.014950667583357382,0.012807222243926226,0.01257922274297501,0.010368438966961728,0.008020424944867882,0.007918944596925286,0.006795172219867294],\"type\":\"scatter\"},{\"hovertext\":\"\\u003cb\\u003eTopic 36\\u003c\\u002fb\\u003e:discover_card_consumer_the_charges\",\"line\":{\"color\":\"black\",\"width\":1.5},\"mode\":\"lines+lines\",\"name\":\"\",\"opacity\":0.1,\"x\":[1,2,3,4,5,6,7,8,9,10],\"y\":[0.0717568187810495,0.015789606898615,0.0065808832127626305,0.006314922610955905,0.006301815632691091,0.005995567844750616,0.005993414128699454,0.005897093628887667,0.005821553805968714,0.005770641178314339],\"type\":\"scatter\"},{\"hovertext\":\"\\u003cb\\u003eTopic 37\\u003c\\u002fb\\u003e:barclays_barclay_card_barclaycard_\",\"line\":{\"color\":\"black\",\"width\":1.5},\"mode\":\"lines+lines\",\"name\":\"\",\"opacity\":0.1,\"x\":[1,2,3,4,5,6,7,8,9,10],\"y\":[0.04929283214876543,0.030039241071622026,0.017279628616597965,0.010002015734397067,0.008968939254878086,0.0075933388920323645,0.007418899411146917,0.007357568098395611,0.007113988092862791,0.007008347361949458],\"type\":\"scatter\"},{\"hovertext\":\"\\u003cb\\u003eTopic 38\\u003c\\u002fb\\u003e:pnc_bank_account_card_money_charge\",\"line\":{\"color\":\"black\",\"width\":1.5},\"mode\":\"lines+lines\",\"name\":\"\",\"opacity\":0.1,\"x\":[1,2,3,4,5,6,7,8,9,10],\"y\":[0.07035902941462337,0.017282624243998145,0.010411175525337027,0.007731067732748073,0.007151505203761741,0.007124908834318859,0.007067015462995493,0.006595047363673548,0.006545520818249751,0.006381315689986471],\"type\":\"scatter\"},{\"hovertext\":\"\\u003cb\\u003eTopic 39\\u003c\\u002fb\\u003e:check_bank_funds_deposited_deposit\",\"line\":{\"color\":\"black\",\"width\":1.5},\"mode\":\"lines+lines\",\"name\":\"\",\"opacity\":0.1,\"x\":[1,2,3,4,5,6,7,8,9,10],\"y\":[0.027043722279836424,0.016978694267591802,0.014753989167091879,0.012338312238371115,0.011834832865342187,0.011798932281242111,0.010958751809516554,0.009406688508564775,0.008693676665047239,0.007530269371518591],\"type\":\"scatter\"},{\"hovertext\":\"\\u003cb\\u003eTopic 40\\u003c\\u002fb\\u003e:paidinfull_settled_paid_open_incor\",\"line\":{\"color\":\"black\",\"width\":1.5},\"mode\":\"lines+lines\",\"name\":\"\",\"opacity\":0.1,\"x\":[1,2,3,4,5,6,7,8,9,10],\"y\":[0.049421628453035375,0.04618831059102363,0.03868065111075705,0.029988381964216528,0.027548460954486407,0.025503592694842564,0.02504041038472278,0.0237200651539416,0.02214001943492257,0.021349856814983935],\"type\":\"scatter\"},{\"hovertext\":\"\\u003cb\\u003eTopic 41\\u003c\\u002fb\\u003e:bonus_deposit_checking_offer_requi\",\"line\":{\"color\":\"black\",\"width\":1.5},\"mode\":\"lines+lines\",\"name\":\"\",\"opacity\":0.1,\"x\":[1,2,3,4,5,6,7,8,9,10],\"y\":[0.07205695986386955,0.0216026306059594,0.021288554799116604,0.01854909768141429,0.01832157062127609,0.016621021227255475,0.016207165157724978,0.01559612883060518,0.015409991358625466,0.014937695039906539],\"type\":\"scatter\"},{\"hovertext\":\"\\u003cb\\u003eTopic 42\\u003c\\u002fb\\u003e:pmi_appraisal_value_ltv_home_our_7\",\"line\":{\"color\":\"black\",\"width\":1.5},\"mode\":\"lines+lines\",\"name\":\"\",\"opacity\":0.1,\"x\":[1,2,3,4,5,6,7,8,9,10],\"y\":[0.07637467570413616,0.04806806050805244,0.029343554271801794,0.014405058893227962,0.012226087453521668,0.012139780011341602,0.01197045583208368,0.011013134140602015,0.010703294359212355,0.01043922946560972],\"type\":\"scatter\"},{\"hovertext\":\"\\u003cb\\u003eTopic 43\\u003c\\u002fb\\u003e:fargo_wells_payments_dealer_paymen\",\"line\":{\"color\":\"black\",\"width\":1.5},\"mode\":\"lines+lines\",\"name\":\"\",\"opacity\":0.1,\"x\":[1,2,3,4,5,6,7,8,9,10],\"y\":[0.043370554183327234,0.04237884802415585,0.010368010801838906,0.009975029956079092,0.009723193946138473,0.007178279831925669,0.0071622872726134846,0.006323665099330516,0.006248373669769992,0.006189711547584821],\"type\":\"scatter\"},{\"hovertext\":\"\\u003cb\\u003eTopic 44\\u003c\\u002fb\\u003e:santander_vehicle_usa_car_payments\",\"line\":{\"color\":\"black\",\"width\":1.5},\"mode\":\"lines+lines\",\"name\":\"\",\"opacity\":0.1,\"x\":[1,2,3,4,5,6,7,8,9,10],\"y\":[0.07203067804198486,0.02463687368048857,0.018906308678705717,0.01535176367755995,0.008497890869913842,0.008123050459011676,0.007883205479534864,0.007444860585674106,0.006447943164898694,0.006290920185485619],\"type\":\"scatter\"},{\"hovertext\":\"\\u003cb\\u003eTopic 45\\u003c\\u002fb\\u003e:loan_interest_payday_borrowed_paid\",\"line\":{\"color\":\"black\",\"width\":1.5},\"mode\":\"lines+lines\",\"name\":\"\",\"opacity\":0.1,\"x\":[1,2,3,4,5,6,7,8,9,10],\"y\":[0.02338139864113545,0.018556521272178432,0.013113627630986618,0.012894235661413879,0.011521896075544654,0.011171936470183937,0.011147206519548702,0.009606263966618586,0.00865613123155095,0.008108385890104694],\"type\":\"scatter\"},{\"hovertext\":\"\\u003cb\\u003eTopic 46\\u003c\\u002fb\\u003e:ocwen_loan_servicing_modification_\",\"line\":{\"color\":\"black\",\"width\":1.5},\"mode\":\"lines+lines\",\"name\":\"\",\"opacity\":0.1,\"x\":[1,2,3,4,5,6,7,8,9,10],\"y\":[0.09512357546035949,0.014041936702458834,0.013865164594529186,0.01338619965365847,0.012746979313934141,0.010598830819656358,0.008422210418766778,0.007730809575841009,0.006750314389441878,0.006470148070400653],\"type\":\"scatter\"},{\"hovertext\":\"\\u003cb\\u003eTopic 47\\u003c\\u002fb\\u003e:apartment_lease_rent_eviction_dama\",\"line\":{\"color\":\"black\",\"width\":1.5},\"mode\":\"lines+lines\",\"name\":\"\",\"opacity\":0.1,\"x\":[1,2,3,4,5,6,7,8,9,10],\"y\":[0.028280173445396864,0.016082104690422004,0.016048627232704504,0.010789601401504508,0.010173671595577718,0.009608154959493933,0.008775381720793347,0.008563910519520185,0.008056652624878207,0.007690808327624768],\"type\":\"scatter\"},{\"hovertext\":\"\\u003cb\\u003eTopic 48\\u003c\\u002fb\\u003e:car_vehicle_dealership_the_was_sol\",\"line\":{\"color\":\"black\",\"width\":1.5},\"mode\":\"lines+lines\",\"name\":\"\",\"opacity\":0.1,\"x\":[1,2,3,4,5,6,7,8,9,10],\"y\":[0.041192124813664154,0.027467428721177342,0.011625798799303495,0.00793841689624676,0.007638471415498401,0.007243805912029405,0.007048974620809225,0.007042115084031382,0.006963790184471204,0.00672227397434804],\"type\":\"scatter\"},{\"hovertext\":\"\\u003cb\\u003eTopic 49\\u003c\\u002fb\\u003e:lease_car_vehicle_dealership_lease\",\"line\":{\"color\":\"black\",\"width\":1.5},\"mode\":\"lines+lines\",\"name\":\"\",\"opacity\":0.1,\"x\":[1,2,3,4,5,6,7,8,9,10],\"y\":[0.032107514452774814,0.01859171367179881,0.016697277218783387,0.012951295236327673,0.011615901365728796,0.009795630577257644,0.008251248247102605,0.008072325059920065,0.00805171326899216,0.007716655135847298],\"type\":\"scatter\"},{\"hovertext\":\"\\u003cb\\u003eTopic 50\\u003c\\u002fb\\u003e:chase_morgan_jp_mortgage_we_modifi\",\"line\":{\"color\":\"black\",\"width\":1.5},\"mode\":\"lines+lines\",\"name\":\"\",\"opacity\":0.1,\"x\":[1,2,3,4,5,6,7,8,9,10],\"y\":[0.04150669735825391,0.014894434274465521,0.014787924138475999,0.014005580051814312,0.01295026898310217,0.010400388566258459,0.010322773148378718,0.009435553780436454,0.009253383520081671,0.007829118330633733],\"type\":\"scatter\"},{\"hovertext\":\"\\u003cb\\u003eTopic 51\\u003c\\u002fb\\u003e:accounts_belong_report_account_bal\",\"line\":{\"color\":\"black\",\"width\":1.5},\"mode\":\"lines+lines\",\"name\":\"\",\"opacity\":0.1,\"x\":[1,2,3,4,5,6,7,8,9,10],\"y\":[0.037306503711076806,0.031108061246116998,0.020208097193042802,0.020087713678143486,0.017395989619638903,0.014807032797136568,0.014609482558169972,0.014183783107658093,0.012320910241012104,0.012144305185087752],\"type\":\"scatter\"},{\"hovertext\":\"\\u003cb\\u003eTopic 52\\u003c\\u002fb\\u003e:midland_funding_debt_they_llc_cred\",\"line\":{\"color\":\"black\",\"width\":1.5},\"mode\":\"lines+lines\",\"name\":\"\",\"opacity\":0.1,\"x\":[1,2,3,4,5,6,7,8,9,10],\"y\":[0.0971917080990807,0.05540375991101145,0.01653023069282363,0.009902540470893102,0.008978564221289585,0.008867603571240458,0.00868020105375402,0.008052540985126637,0.007766850943739659,0.007754057994205897],\"type\":\"scatter\"},{\"hovertext\":\"\\u003cb\\u003eTopic 53\\u003c\\u002fb\\u003e:contract_bill_cancel_service_cellu\",\"line\":{\"color\":\"black\",\"width\":1.5},\"mode\":\"lines+lines\",\"name\":\"\",\"opacity\":0.1,\"x\":[1,2,3,4,5,6,7,8,9,10],\"y\":[0.01731535821111076,0.014439250078497426,0.012568906908845528,0.012288486581560613,0.009131583370718946,0.00864963858574805,0.008464000538327453,0.008169461038437627,0.007902360016315566,0.007673656693838792],\"type\":\"scatter\"},{\"hovertext\":\"\\u003cb\\u003eTopic 54\\u003c\\u002fb\\u003e:conservator_status_usps_000_contro\",\"line\":{\"color\":\"black\",\"width\":1.5},\"mode\":\"lines+lines\",\"name\":\"\",\"opacity\":0.1,\"x\":[1,2,3,4,5,6,7,8,9,10],\"y\":[0.02242159912039194,0.01657014732983861,0.012888894755762277,0.011955578344062214,0.011646143513461328,0.011617220811131515,0.01051461204179229,0.01040386504894041,0.009306518942740686,0.009264657980888493],\"type\":\"scatter\"},{\"hovertext\":\"\\u003cb\\u003eTopic 55\\u003c\\u002fb\\u003e:balance_incorrect_status_inaccurat\",\"line\":{\"color\":\"black\",\"width\":1.5},\"mode\":\"lines+lines\",\"name\":\"\",\"opacity\":0.1,\"x\":[1,2,3,4,5,6,7,8,9,10],\"y\":[0.04581192028446848,0.03326194281715386,0.02698561928213051,0.023627247696021095,0.01947238953479452,0.01837914782686311,0.0169442632614217,0.016266518325557994,0.01546150580180748,0.0150975584060864],\"type\":\"scatter\"},{\"hovertext\":\"\\u003cb\\u003eTopic 56\\u003c\\u002fb\\u003e:cfpb_complaint_you_credit_response\",\"line\":{\"color\":\"black\",\"width\":1.5},\"mode\":\"lines+lines\",\"name\":\"\",\"opacity\":0.1,\"x\":[1,2,3,4,5,6,7,8,9,10],\"y\":[0.033038935512816774,0.01705455506488602,0.00944740078785737,0.00859228561442588,0.008139765430484995,0.0074941161047396305,0.007307115352072919,0.007272611445245143,0.006815382810314518,0.006811646658268956],\"type\":\"scatter\"},{\"hovertext\":\"\\u003cb\\u003eTopic 57\\u003c\\u002fb\\u003e:loans_student_opened_accounts_loan\",\"line\":{\"color\":\"black\",\"width\":1.5},\"mode\":\"lines+lines\",\"name\":\"\",\"opacity\":0.1,\"x\":[1,2,3,4,5,6,7,8,9,10],\"y\":[0.034112383238622195,0.031111171910177187,0.027620212739422608,0.015123634435273767,0.013688713651067082,0.013397756719862403,0.01296443835371156,0.011768666672954604,0.010879472141890239,0.010392332828847444],\"type\":\"scatter\"},{\"hovertext\":\"\\u003cb\\u003eTopic 58\\u003c\\u002fb\\u003e:experian_free_website_report_infor\",\"line\":{\"color\":\"black\",\"width\":1.5},\"mode\":\"lines+lines\",\"name\":\"\",\"opacity\":0.1,\"x\":[1,2,3,4,5,6,7,8,9,10],\"y\":[0.060792776076417476,0.017128510500788067,0.015329943620372178,0.013897817241628219,0.011915174747783393,0.011785629383266386,0.011004979951783449,0.010003141388574636,0.009931438118933563,0.009683404451359826],\"type\":\"scatter\"},{\"hovertext\":\"\\u003cb\\u003eTopic 59\\u003c\\u002fb\\u003e:lien_tax_liens_irs_state_released_\",\"line\":{\"color\":\"black\",\"width\":1.5},\"mode\":\"lines+lines\",\"name\":\"\",\"opacity\":0.1,\"x\":[1,2,3,4,5,6,7,8,9,10],\"y\":[0.07605018086068842,0.05085541847564291,0.03443047677307107,0.024592201391749877,0.024025840516078832,0.02144063716194679,0.01547261411048078,0.012179039413019153,0.011679828100228964,0.011660029613540984],\"type\":\"scatter\"},{\"hovertext\":\"\\u003cb\\u003eTopic 60\\u003c\\u002fb\\u003e:nationstar_mortgage_nsm_loan_modif\",\"line\":{\"color\":\"black\",\"width\":1.5},\"mode\":\"lines+lines\",\"name\":\"\",\"opacity\":0.1,\"x\":[1,2,3,4,5,6,7,8,9,10],\"y\":[0.060412508273282504,0.01643179823237126,0.012865736234590653,0.010557110349755741,0.009842331895539734,0.0070090259733772906,0.0067969112635359605,0.006755732667218106,0.006517757317519749,0.006512913244074968],\"type\":\"scatter\"},{\"hovertext\":\"\\u003cb\\u003eTopic 61\\u003c\\u002fb\\u003e:capital_blocking_one_external_acce\",\"line\":{\"color\":\"black\",\"width\":1.5},\"mode\":\"lines+lines\",\"name\":\"\",\"opacity\":0.1,\"x\":[1,2,3,4,5,6,7,8,9,10],\"y\":[0.09504737095856619,0.0609408571364043,0.04951671635843656,0.046807139996985846,0.046400859045100676,0.04545599454121,0.03184350446790419,0.030949289732596377,0.02863012169301773,0.025986859191778518],\"type\":\"scatter\"},{\"hovertext\":\"\\u003cb\\u003eTopic 62\\u003c\\u002fb\\u003e:identity_inquiry_unauthorized_thef\",\"line\":{\"color\":\"black\",\"width\":1.5},\"mode\":\"lines+lines\",\"name\":\"\",\"opacity\":0.1,\"x\":[1,2,3,4,5,6,7,8,9,10],\"y\":[0.02936122594269869,0.02697555335857112,0.025729105871266592,0.025326698022083403,0.025203865652432343,0.024474329361522718,0.023431443876979575,0.022225202183472532,0.019008167772278647,0.01838725441535283],\"type\":\"scatter\"},{\"hovertext\":\"\\u003cb\\u003eTopic 63\\u003c\\u002fb\\u003e:school_degree_education_college_at\",\"line\":{\"color\":\"black\",\"width\":1.5},\"mode\":\"lines+lines\",\"name\":\"\",\"opacity\":0.1,\"x\":[1,2,3,4,5,6,7,8,9,10],\"y\":[0.04050392521767093,0.017794758020410334,0.017168608484075486,0.016650047597319664,0.014806054255326837,0.014631198972313577,0.014457377378187827,0.01391660705782506,0.013178143008461884,0.009644036376567359],\"type\":\"scatter\"},{\"hovertext\":\"\\u003cb\\u003eTopic 64\\u003c\\u002fb\\u003e:theft_identity_ftc_police_filed_vi\",\"line\":{\"color\":\"black\",\"width\":1.5},\"mode\":\"lines+lines\",\"name\":\"\",\"opacity\":0.1,\"x\":[1,2,3,4,5,6,7,8,9,10],\"y\":[0.07344926391212898,0.06178420809220761,0.045828882739390835,0.04564963129267729,0.04517514253054666,0.04481313958510795,0.04273990427243767,0.04154769727211601,0.03861557566358333,0.0373586654603118],\"type\":\"scatter\"},{\"hovertext\":\"\\u003cb\\u003eTopic 65\\u003c\\u002fb\\u003e:title_lien_release_vehicle_we_bmw_\",\"line\":{\"color\":\"black\",\"width\":1.5},\"mode\":\"lines+lines\",\"name\":\"\",\"opacity\":0.1,\"x\":[1,2,3,4,5,6,7,8,9,10],\"y\":[0.030842997461981242,0.029464047503684598,0.01656511441512528,0.011855323642586282,0.011446676259666765,0.00934779900516938,0.00811116834517241,0.007647236794876081,0.007483148916758913,0.007441390880836673],\"type\":\"scatter\"},{\"hovertext\":\"\\u003cb\\u003eTopic 66\\u003c\\u002fb\\u003e:identity_victim_theft_stolen_opene\",\"line\":{\"color\":\"black\",\"width\":1.5},\"mode\":\"lines+lines\",\"name\":\"\",\"opacity\":0.1,\"x\":[1,2,3,4,5,6,7,8,9,10],\"y\":[0.0821543520561378,0.06494054977374479,0.06274259241423455,0.03817817132844467,0.028214286632186947,0.026063671119751122,0.02457783302592783,0.02432788500500522,0.02311515210042112,0.021774462164368073],\"type\":\"scatter\"},{\"hovertext\":\"\\u003cb\\u003eTopic 67\\u003c\\u002fb\\u003e:navy_nfcu_federal_union_actions_fu\",\"line\":{\"color\":\"black\",\"width\":1.5},\"mode\":\"lines+lines\",\"name\":\"\",\"opacity\":0.1,\"x\":[1,2,3,4,5,6,7,8,9,10],\"y\":[0.051395647066488505,0.0331941170496681,0.02751937899220831,0.02060900833147882,0.007529849015557183,0.007394203680890456,0.006972676733789506,0.006840723128725856,0.0068152609962656395,0.006464518927011787],\"type\":\"scatter\"},{\"hovertext\":\"\\u003cb\\u003eTopic 68\\u003c\\u002fb\\u003e:condition_opened_000_act_xxxxxxxx_\",\"line\":{\"color\":\"black\",\"width\":1.5},\"mode\":\"lines+lines\",\"name\":\"\",\"opacity\":0.1,\"x\":[1,2,3,4,5,6,7,8,9,10],\"y\":[0.04774330532660212,0.03508259089860975,0.033806838314735646,0.03327841603912344,0.03173221510551224,0.027973508285728962,0.027876902434913784,0.026245416036429974,0.02406813794423208,0.02364295932039899],\"type\":\"scatter\"},{\"hovertext\":\"\\u003cb\\u003eTopic 69\\u003c\\u002fb\\u003e:medical_hipaa_violation_debt_hippa\",\"line\":{\"color\":\"black\",\"width\":1.5},\"mode\":\"lines+lines\",\"name\":\"\",\"opacity\":0.1,\"x\":[1,2,3,4,5,6,7,8,9,10],\"y\":[0.057092298645396736,0.04596684508631547,0.019522449635411658,0.016980548741705015,0.016943236716547783,0.016451502891990613,0.01601046998368502,0.01594332722699284,0.01585208311865059,0.014794045597417498],\"type\":\"scatter\"},{\"hovertext\":\"\\u003cb\\u003eTopic 70\\u003c\\u002fb\\u003e:express_american_card_serve_sharin\",\"line\":{\"color\":\"black\",\"width\":1.5},\"mode\":\"lines+lines\",\"name\":\"\",\"opacity\":0.1,\"x\":[1,2,3,4,5,6,7,8,9,10],\"y\":[0.05049874966361568,0.04671369969579808,0.014060644812119475,0.01078133558562758,0.009675911982731012,0.009619337152097179,0.008752580389850799,0.007418757288491575,0.0072215655151151095,0.007175705915088791],\"type\":\"scatter\"},{\"hovertext\":\"\\u003cb\\u003eTopic 71\\u003c\\u002fb\\u003e:cra_violation_ftc_knowledge_inaccu\",\"line\":{\"color\":\"black\",\"width\":1.5},\"mode\":\"lines+lines\",\"name\":\"\",\"opacity\":0.1,\"x\":[1,2,3,4,5,6,7,8,9,10],\"y\":[0.15498013604445798,0.11288981645584709,0.09677552665471896,0.07486424271659663,0.07181752176528501,0.06557454600371705,0.054254099817872194,0.04297082256768323,0.042552159091505636,0.0400585754897611],\"type\":\"scatter\"},{\"hovertext\":\"\\u003cb\\u003eTopic 72\\u003c\\u002fb\\u003e:free_report_annual_annualcreditrep\",\"line\":{\"color\":\"black\",\"width\":1.5},\"mode\":\"lines+lines\",\"name\":\"\",\"opacity\":0.1,\"x\":[1,2,3,4,5,6,7,8,9,10],\"y\":[0.045982325362184315,0.026265797236503564,0.02399833731882652,0.02189825081665177,0.020144877518910566,0.017557014787452686,0.01639319314182983,0.016373968764381144,0.015516450422998259,0.013419310909263668],\"type\":\"scatter\"},{\"hovertext\":\"\\u003cb\\u003eTopic 73\\u003c\\u002fb\\u003e:late_always_stellar_successful_def\",\"line\":{\"color\":\"black\",\"width\":1.5},\"mode\":\"lines+lines\",\"name\":\"\",\"opacity\":0.1,\"x\":[1,2,3,4,5,6,7,8,9,10],\"y\":[0.07013839933788879,0.06896151263297176,0.06179817479684278,0.057542239415763606,0.05534034646004129,0.04448032990069714,0.0395706274595086,0.03736155005315467,0.0342733877207095,0.03401780419343324],\"type\":\"scatter\"},{\"hovertext\":\"\\u003cb\\u003eTopic 74\\u003c\\u002fb\\u003e:ditech_mortgage_our_payment_paymen\",\"line\":{\"color\":\"black\",\"width\":1.5},\"mode\":\"lines+lines\",\"name\":\"\",\"opacity\":0.1,\"x\":[1,2,3,4,5,6,7,8,9,10],\"y\":[0.08345286296661099,0.014096643496991627,0.012267237927080649,0.010760476435844102,0.009715890315668494,0.009478282565511443,0.009221257070830725,0.009089513350109511,0.008421138321094009,0.00786439577369288],\"type\":\"scatter\"},{\"hovertext\":\"\\u003cb\\u003eTopic 75\\u003c\\u002fb\\u003e:xxxx_experian_transunion_acct_item\",\"line\":{\"color\":\"black\",\"width\":1.5},\"mode\":\"lines+lines\",\"name\":\"\",\"opacity\":0.1,\"x\":[1,2,3,4,5,6,7,8,9,10],\"y\":[0.051240140533368825,0.05008940821627915,0.04470331023598868,0.039350017751777086,0.030349811685545406,0.028830491164672862,0.025863711574933817,0.01975513939240598,0.018940403110927154,0.017924593619250525],\"type\":\"scatter\"},{\"hovertext\":\"\\u003cb\\u003eTopic 76\\u003c\\u002fb\\u003e:diversified_consultants_collection\",\"line\":{\"color\":\"black\",\"width\":1.5},\"mode\":\"lines+lines\",\"name\":\"\",\"opacity\":0.1,\"x\":[1,2,3,4,5,6,7,8,9,10],\"y\":[0.09887354445603802,0.08422611171748984,0.020013607944462098,0.01851576112120423,0.017272321838366436,0.01022647481031388,0.009910750656563348,0.00864124613255768,0.008577327310802713,0.008564035583897784],\"type\":\"scatter\"},{\"hovertext\":\"\\u003cb\\u003eTopic 77\\u003c\\u002fb\\u003e:card_mastercard_cards_activate_exi\",\"line\":{\"color\":\"black\",\"width\":1.5},\"mode\":\"lines+lines\",\"name\":\"\",\"opacity\":0.1,\"x\":[1,2,3,4,5,6,7,8,9,10],\"y\":[0.0372841217458133,0.018697206462873997,0.014228731877151629,0.014051978771208139,0.009821976939303598,0.008681862010875266,0.00852350435403068,0.008484789136086607,0.007689988087006694,0.007539186871455322],\"type\":\"scatter\"},{\"hovertext\":\"\\u003cb\\u003eTopic 78\\u003c\\u002fb\\u003e:student_college_outsourcing_collec\",\"line\":{\"color\":\"black\",\"width\":1.5},\"mode\":\"lines+lines\",\"name\":\"\",\"opacity\":0.1,\"x\":[1,2,3,4,5,6,7,8,9,10],\"y\":[0.02351426752081664,0.022739391890745586,0.017442008586283572,0.01670973449280434,0.01664245078316383,0.015281281278862663,0.014747664198988637,0.014525738782777997,0.014058902586407164,0.01131783096563756],\"type\":\"scatter\"},{\"hovertext\":\"\\u003cb\\u003eTopic 79\\u003c\\u002fb\\u003e:pslf_qualifying_payments_loans_for\",\"line\":{\"color\":\"black\",\"width\":1.5},\"mode\":\"lines+lines\",\"name\":\"\",\"opacity\":0.1,\"x\":[1,2,3,4,5,6,7,8,9,10],\"y\":[0.04616635909084511,0.04325370776782787,0.02993007093368309,0.021507067488080928,0.021093645368690142,0.014669581416198443,0.01461931689616681,0.01425051259878353,0.012715301939670095,0.012182015117318012],\"type\":\"scatter\"},{\"hovertext\":\"\\u003cb\\u003eTopic 80\\u003c\\u002fb\\u003e:points_bonus_rewards_express_ameri\",\"line\":{\"color\":\"black\",\"width\":1.5},\"mode\":\"lines+lines\",\"name\":\"\",\"opacity\":0.1,\"x\":[1,2,3,4,5,6,7,8,9,10],\"y\":[0.06310477612810585,0.032553697040288536,0.03225670503645316,0.02642838590292394,0.025036586248006594,0.02424129905840623,0.019958737516745022,0.019867997881124297,0.01954591811158679,0.018485929098701358],\"type\":\"scatter\"},{\"hovertext\":\"\\u003cb\\u003eTopic 81\\u003c\\u002fb\\u003e:disputed_account_accounts_report_c\",\"line\":{\"color\":\"black\",\"width\":1.5},\"mode\":\"lines+lines\",\"name\":\"\",\"opacity\":0.1,\"x\":[1,2,3,4,5,6,7,8,9,10],\"y\":[0.043367304617784014,0.019824473052454,0.01807410359702789,0.017416771952070042,0.01731192353494302,0.017174245263864452,0.01635111216564034,0.015748301090748828,0.015187081935405541,0.014283385274047617],\"type\":\"scatter\"},{\"hovertext\":\"\\u003cb\\u003eTopic 82\\u003c\\u002fb\\u003e:score_points_dropped_down_credit_c\",\"line\":{\"color\":\"black\",\"width\":1.5},\"mode\":\"lines+lines\",\"name\":\"\",\"opacity\":0.1,\"x\":[1,2,3,4,5,6,7,8,9,10],\"y\":[0.08919095811392616,0.040730032196969704,0.030604541844392544,0.019736804633650025,0.0197291840494092,0.016869372681937805,0.016292282450911296,0.015433801955081082,0.01520839576322841,0.015024673683919531],\"type\":\"scatter\"},{\"hovertext\":\"\\u003cb\\u003eTopic 83\\u003c\\u002fb\\u003e:qwr_debts_each_millions_ownership_\",\"line\":{\"color\":\"black\",\"width\":1.5},\"mode\":\"lines+lines\",\"name\":\"\",\"opacity\":0.1,\"x\":[1,2,3,4,5,6,7,8,9,10],\"y\":[0.026617494531900553,0.025028318485133975,0.02370278670238259,0.023700575133041944,0.023386643931365456,0.022969390112650145,0.019542313713939757,0.019473449941595396,0.01902051260631078,0.017755565825601255],\"type\":\"scatter\"},{\"hovertext\":\"\\u003cb\\u003eTopic 84\\u003c\\u002fb\\u003e:unverified_verifying_noncompliant_\",\"line\":{\"color\":\"black\",\"width\":1.5},\"mode\":\"lines+lines\",\"name\":\"\",\"opacity\":0.1,\"x\":[1,2,3,4,5,6,7,8,9,10],\"y\":[0.11812064339909017,0.113432255352464,0.08211044492623622,0.06137609516623468,0.05988066809883745,0.05988066809883745,0.055765345268826476,0.05255242047573691,0.0507600100540737,0.04494947952703668],\"type\":\"scatter\"},{\"hovertext\":\"\\u003cb\\u003eTopic 85\\u003c\\u002fb\\u003e:investigation_30_days_results_supp\",\"line\":{\"color\":\"black\",\"width\":1.5},\"mode\":\"lines+lines\",\"name\":\"\",\"opacity\":0.1,\"x\":[1,2,3,4,5,6,7,8,9,10],\"y\":[0.06633956050847555,0.05774226880218237,0.05036387782585813,0.04271371822721643,0.042436332926521755,0.0396168860941506,0.03817239130242983,0.038066882089007624,0.03229465571750146,0.03081845005470421],\"type\":\"scatter\"},{\"hovertext\":\"\\u003cb\\u003eTopic 86\\u003c\\u002fb\\u003e:consumer_delete_you_fcra_reporting\",\"line\":{\"color\":\"black\",\"width\":1.5},\"mode\":\"lines+lines\",\"name\":\"\",\"opacity\":0.1,\"x\":[1,2,3,4,5,6,7,8,9,10],\"y\":[0.016965035182372586,0.013066540115052408,0.0124248752904225,0.01207420013220812,0.011949472096433033,0.011743293492068523,0.011582614049081303,0.010785805011802244,0.010313376147044317,0.009793678180197976],\"type\":\"scatter\"},{\"hovertext\":\"\\u003cb\\u003eTopic 87\\u003c\\u002fb\\u003e:ibr_fedloan_plan_idr_paye_servicin\",\"line\":{\"color\":\"black\",\"width\":1.5},\"mode\":\"lines+lines\",\"name\":\"\",\"opacity\":0.1,\"x\":[1,2,3,4,5,6,7,8,9,10],\"y\":[0.04299704304055256,0.022276379952941665,0.018817687394028063,0.017030790344980336,0.015982858662208593,0.013714561928143142,0.013416764172717244,0.012681323239571286,0.01214148248793071,0.011072490395855512],\"type\":\"scatter\"},{\"hovertext\":\"\\u003cb\\u003eTopic 88\\u003c\\u002fb\\u003e:closed_balance_account_status_open\",\"line\":{\"color\":\"black\",\"width\":1.5},\"mode\":\"lines+lines\",\"name\":\"\",\"opacity\":0.1,\"x\":[1,2,3,4,5,6,7,8,9,10],\"y\":[0.04656649004809811,0.030667837277765755,0.02763952922016972,0.021149223342282437,0.015031213675891246,0.013592925754202553,0.013414700232935556,0.013111511784880608,0.013035551377493461,0.012872942850519088],\"type\":\"scatter\"},{\"hovertext\":\"\\u003cb\\u003eTopic 89\\u003c\\u002fb\\u003e:settlement_debit_collector_amount_\",\"line\":{\"color\":\"black\",\"width\":1.5},\"mode\":\"lines+lines\",\"name\":\"\",\"opacity\":0.1,\"x\":[1,2,3,4,5,6,7,8,9,10],\"y\":[0.012666883563669018,0.011594851672194248,0.010877394950872438,0.010166390209089143,0.008704148296104377,0.008668934268548352,0.008444411704988908,0.008284956176856383,0.007802943846824044,0.00746484839447925],\"type\":\"scatter\"},{\"hovertext\":\"\\u003cb\\u003eTopic 90\\u003c\\u002fb\\u003e:card_fraud_credit_account_never_xx\",\"line\":{\"color\":\"black\",\"width\":1.5},\"mode\":\"lines+lines\",\"name\":\"\",\"opacity\":0.1,\"x\":[1,2,3,4,5,6,7,8,9,10],\"y\":[0.022071256307459736,0.011862522161287904,0.010707101117237307,0.009829232852905828,0.009460072345547221,0.008201857463523195,0.008174208150614409,0.007820016400043522,0.007757374458962971,0.007740841740673524],\"type\":\"scatter\"},{\"hovertext\":\"\\u003cb\\u003eTopic 91\\u003c\\u002fb\\u003e:611_experian_disputed_verify_promp\",\"line\":{\"color\":\"black\",\"width\":1.5},\"mode\":\"lines+lines\",\"name\":\"\",\"opacity\":0.1,\"x\":[1,2,3,4,5,6,7,8,9,10],\"y\":[0.040661167676081716,0.037085389196698584,0.035602509923331374,0.03334720601382035,0.02751217580968591,0.027177125774556228,0.025436547187129108,0.02459778072850931,0.023687947342556734,0.022598524608304103],\"type\":\"scatter\"},{\"hovertext\":\"\\u003cb\\u003eTopic 92\\u003c\\u002fb\\u003e:late_30_bureaus_payment_payments_d\",\"line\":{\"color\":\"black\",\"width\":1.5},\"mode\":\"lines+lines\",\"name\":\"\",\"opacity\":0.1,\"x\":[1,2,3,4,5,6,7,8,9,10],\"y\":[0.04030535707604505,0.02104962389142863,0.016130204403696207,0.015255612320034006,0.014538217342676997,0.014395809022626218,0.011481925374103483,0.011359804024390442,0.010737405913979188,0.010728874169920917],\"type\":\"scatter\"},{\"hovertext\":\"\\u003cb\\u003eTopic 93\\u003c\\u002fb\\u003e:different_accounts_reporting_dates\",\"line\":{\"color\":\"black\",\"width\":1.5},\"mode\":\"lines+lines\",\"name\":\"\",\"opacity\":0.1,\"x\":[1,2,3,4,5,6,7,8,9,10],\"y\":[0.041693131905868534,0.021393836910767704,0.01976401240682814,0.01871258675434147,0.01803879952178683,0.017381405110621494,0.01700614699193071,0.015814296650138056,0.015486272039326399,0.015301458993343718],\"type\":\"scatter\"},{\"hovertext\":\"\\u003cb\\u003eTopic 94\\u003c\\u002fb\\u003e:equifax_free_report_online_access_\",\"line\":{\"color\":\"black\",\"width\":1.5},\"mode\":\"lines+lines\",\"name\":\"\",\"opacity\":0.1,\"x\":[1,2,3,4,5,6,7,8,9,10],\"y\":[0.06177658099342504,0.02814854756724125,0.02488397258138068,0.018384648350752632,0.01671712418900395,0.01428274747002824,0.012937094068682481,0.012212220807208306,0.011827634155681825,0.011611523028397266],\"type\":\"scatter\"},{\"hovertext\":\"\\u003cb\\u003eTopic 95\\u003c\\u002fb\\u003e:macy_charge_statement_billing_bala\",\"line\":{\"color\":\"black\",\"width\":1.5},\"mode\":\"lines+lines\",\"name\":\"\",\"opacity\":0.1,\"x\":[1,2,3,4,5,6,7,8,9,10],\"y\":[0.0710631515241993,0.016021536166710978,0.013748128435437388,0.011896874806821498,0.011774476872537635,0.011707287494127281,0.011119403496863689,0.008839807618204108,0.008756740288617402,0.008611034651554345],\"type\":\"scatter\"},{\"hovertext\":\"\\u003cb\\u003eTopic 96\\u003c\\u002fb\\u003e:late_30_remove_payment_days_remove\",\"line\":{\"color\":\"black\",\"width\":1.5},\"mode\":\"lines+lines\",\"name\":\"\",\"opacity\":0.1,\"x\":[1,2,3,4,5,6,7,8,9,10],\"y\":[0.03766682520800955,0.016989144265071046,0.01660445387575888,0.015300115426762222,0.014038339011817903,0.01218728393953032,0.012102593928894697,0.010419549065132273,0.009502339569287673,0.009423969894906887],\"type\":\"scatter\"},{\"hovertext\":\"\\u003cb\\u003eTopic 97\\u003c\\u002fb\\u003e:chase_inquiry_inquiries_credit_har\",\"line\":{\"color\":\"black\",\"width\":1.5},\"mode\":\"lines+lines\",\"name\":\"\",\"opacity\":0.1,\"x\":[1,2,3,4,5,6,7,8,9,10],\"y\":[0.07327972462066902,0.038886619819467845,0.0319931748447201,0.0189212439618694,0.01839032887049308,0.015144259876985859,0.014002256749949472,0.013256504766150614,0.012697197676564723,0.010899200310612171],\"type\":\"scatter\"},{\"hovertext\":\"\\u003cb\\u003eTopic 98\\u003c\\u002fb\\u003e:penn_owed_bill_collection_collecti\",\"line\":{\"color\":\"black\",\"width\":1.5},\"mode\":\"lines+lines\",\"name\":\"\",\"opacity\":0.1,\"x\":[1,2,3,4,5,6,7,8,9,10],\"y\":[0.017694603547005888,0.01589066151968144,0.01560590512156595,0.01412725266667913,0.010412150426794506,0.010173183106295577,0.010108586906031026,0.009440997125780087,0.008827224992823488,0.008496907194089765],\"type\":\"scatter\"},{\"hovertext\":\"\\u003cb\\u003eTopic 99\\u003c\\u002fb\\u003e:ameritech_student_paying_payments_\",\"line\":{\"color\":\"black\",\"width\":1.5},\"mode\":\"lines+lines\",\"name\":\"\",\"opacity\":0.1,\"x\":[1,2,3,4,5,6,7,8,9,10],\"y\":[0.1183679643830633,0.02689037654587134,0.019751197065816697,0.01608926919293075,0.01602523282661798,0.015260951150257409,0.014095568415181302,0.013518153702153018,0.013517124634922544,0.013224124493071882],\"type\":\"scatter\"},{\"hovertext\":\"\\u003cb\\u003eTopic 100\\u003c\\u002fb\\u003e:synchrony_bank_mattress_care_card\",\"line\":{\"color\":\"black\",\"width\":1.5},\"mode\":\"lines+lines\",\"name\":\"\",\"opacity\":0.1,\"x\":[1,2,3,4,5,6,7,8,9,10],\"y\":[0.06893104106300525,0.01549912275368631,0.013861323752044718,0.011028465456560353,0.010588698158122585,0.009642707363218992,0.009521824854474661,0.009490174301437499,0.008252274505203848,0.007872727283088502],\"type\":\"scatter\"},{\"hovertext\":\"\\u003cb\\u003eTopic 101\\u003c\\u002fb\\u003e:theft_identity_dispute_major_vict\",\"line\":{\"color\":\"black\",\"width\":1.5},\"mode\":\"lines+lines\",\"name\":\"\",\"opacity\":0.1,\"x\":[1,2,3,4,5,6,7,8,9,10],\"y\":[0.04721445709497943,0.047005164078677254,0.042927673599541076,0.03931399345012162,0.039281810640502575,0.03778159592697767,0.023058796603404853,0.022873054078652238,0.02201955708706784,0.02199649251099208],\"type\":\"scatter\"},{\"hovertext\":\"\\u003cb\\u003eTopic 102\\u003c\\u002fb\\u003e:refuted_summarily_guarantees_demo\",\"line\":{\"color\":\"black\",\"width\":1.5},\"mode\":\"lines+lines\",\"name\":\"\",\"opacity\":0.1,\"x\":[1,2,3,4,5,6,7,8,9,10],\"y\":[0.11483734280488733,0.11408145802092926,0.11266369942510451,0.11266369942510451,0.11266369942510451,0.11063749831283978,0.10122859350750534,0.09926743039099307,0.09723416518197214,0.0804598248393014],\"type\":\"scatter\"},{\"hovertext\":\"\\u003cb\\u003eTopic 103\\u003c\\u002fb\\u003e:pra_alleged_debt_your_usc_act_of_\",\"line\":{\"color\":\"black\",\"width\":1.5},\"mode\":\"lines+lines\",\"name\":\"\",\"opacity\":0.1,\"x\":[1,2,3,4,5,6,7,8,9,10],\"y\":[0.02324844484595104,0.023073104134698832,0.019649587912610223,0.012217973441532125,0.011538779511080505,0.011504293405130548,0.01083920187923392,0.010807445395520717,0.010757883287036595,0.010216646175455372],\"type\":\"scatter\"},{\"hovertext\":\"\\u003cb\\u003eTopic 104\\u003c\\u002fb\\u003e:debt_reporting_bureaus_mine_dispu\",\"line\":{\"color\":\"black\",\"width\":1.5},\"mode\":\"lines+lines\",\"name\":\"\",\"opacity\":0.1,\"x\":[1,2,3,4,5,6,7,8,9,10],\"y\":[0.033684031685359564,0.02676453642756446,0.025145028920902122,0.022114984289902457,0.020275228163594818,0.019254394801011484,0.018571656636333787,0.017087865414204408,0.016694427737004563,0.015903797673562283],\"type\":\"scatter\"},{\"hovertext\":\"\\u003cb\\u003eTopic 105\\u003c\\u002fb\\u003e:amex_express_american_card_cfr_12\",\"line\":{\"color\":\"black\",\"width\":1.5},\"mode\":\"lines+lines\",\"name\":\"\",\"opacity\":0.1,\"x\":[1,2,3,4,5,6,7,8,9,10],\"y\":[0.04499466325680084,0.024184198914702904,0.022910585012303666,0.016157042322011598,0.015335246866859772,0.014965034548361887,0.007953137774764803,0.007450267504241569,0.007401757944079743,0.007308148072966249],\"type\":\"scatter\"},{\"hovertext\":\"\\u003cb\\u003eTopic 106\\u003c\\u002fb\\u003e:student_loans_equitable_consolida\",\"line\":{\"color\":\"black\",\"width\":1.5},\"mode\":\"lines+lines\",\"name\":\"\",\"opacity\":0.1,\"x\":[1,2,3,4,5,6,7,8,9,10],\"y\":[0.04402710205076396,0.019947012176530318,0.018640247738875137,0.01837685063439575,0.017544623315606484,0.01678254499003134,0.016302610975773905,0.015875252656226076,0.015856795126453337,0.014782554272901415],\"type\":\"scatter\"},{\"hovertext\":\"\\u003cb\\u003eTopic 107\\u003c\\u002fb\\u003e:fraudulent_account_attached_monit\",\"line\":{\"color\":\"black\",\"width\":1.5},\"mode\":\"lines+lines\",\"name\":\"\",\"opacity\":0.1,\"x\":[1,2,3,4,5,6,7,8,9,10],\"y\":[0.04795735547754487,0.033952418017239736,0.02525433364714982,0.022695665781579336,0.021141515611137328,0.02095264268735161,0.020259785818993934,0.01995281723288552,0.019378073695913656,0.017598789550777864],\"type\":\"scatter\"},{\"hovertext\":\"\\u003cb\\u003eTopic 108\\u003c\\u002fb\\u003e:alert_fraud_credit_runs_placed_pu\",\"line\":{\"color\":\"black\",\"width\":1.5},\"mode\":\"lines+lines\",\"name\":\"\",\"opacity\":0.1,\"x\":[1,2,3,4,5,6,7,8,9,10],\"y\":[0.09745091525225894,0.04253693694657691,0.02420478598654369,0.02326661934901797,0.02043195185231763,0.020301014606304863,0.019831934981323216,0.01926576531900725,0.018210709020321406,0.017376342478666176],\"type\":\"scatter\"},{\"hovertext\":\"\\u003cb\\u003eTopic 109\\u003c\\u002fb\\u003e:lexisnexis_lexis_nexis_record_inf\",\"line\":{\"color\":\"black\",\"width\":1.5},\"mode\":\"lines+lines\",\"name\":\"\",\"opacity\":0.1,\"x\":[1,2,3,4,5,6,7,8,9,10],\"y\":[0.09298052761490225,0.047821384289406944,0.047821384289406944,0.01740583910060254,0.016560673704218376,0.013688159881015297,0.013267800665393863,0.013229805274391125,0.012794579725101944,0.011275543271752049],\"type\":\"scatter\"},{\"hovertext\":\"\\u003cb\\u003eTopic 110\\u003c\\u002fb\\u003e:consumer_block_section_agency_sha\",\"line\":{\"color\":\"black\",\"width\":1.5},\"mode\":\"lines+lines\",\"name\":\"\",\"opacity\":0.1,\"x\":[1,2,3,4,5,6,7,8,9,10],\"y\":[0.11826183890954228,0.07632882146675249,0.055835276665495606,0.05043320239113362,0.04953612787854227,0.03965417598363905,0.035741438588077705,0.03572428343736898,0.034292170749978486,0.03376296808863993],\"type\":\"scatter\"},{\"hovertext\":\"\\u003cb\\u003eTopic 111\\u003c\\u002fb\\u003e:car_vehicle_loan_worth_dealer_dow\",\"line\":{\"color\":\"black\",\"width\":1.5},\"mode\":\"lines+lines\",\"name\":\"\",\"opacity\":0.1,\"x\":[1,2,3,4,5,6,7,8,9,10],\"y\":[0.029332864406327333,0.01893470606880554,0.013129643835567627,0.012520858719605541,0.010513736695666144,0.009300824963132455,0.008735163015065122,0.008211946924256414,0.007607014539755093,0.007503297874478132],\"type\":\"scatter\"},{\"hovertext\":\"\\u003cb\\u003eTopic 112\\u003c\\u002fb\\u003e:removed_2009_delinquency_credit_r\",\"line\":{\"color\":\"black\",\"width\":1.5},\"mode\":\"lines+lines\",\"name\":\"\",\"opacity\":0.1,\"x\":[1,2,3,4,5,6,7,8,9,10],\"y\":[0.025671017868513675,0.02147616864390778,0.017941812290014843,0.014154970140759877,0.013247957682244864,0.01285675365682293,0.012518657606744206,0.012228142509646286,0.011844782080321888,0.011177066008133254],\"type\":\"scatter\"},{\"hovertext\":\"\\u003cb\\u003eTopic 113\\u003c\\u002fb\\u003e:texas_bond_surety_sec_debt_state_\",\"line\":{\"color\":\"black\",\"width\":1.5},\"mode\":\"lines+lines\",\"name\":\"\",\"opacity\":0.1,\"x\":[1,2,3,4,5,6,7,8,9,10],\"y\":[0.08017778404938408,0.07726613747092352,0.041844199348475775,0.03522113162908454,0.03134922568708275,0.030772838866648652,0.02746589783281986,0.022498079692940938,0.022402742852463704,0.022256349890160083],\"type\":\"scatter\"},{\"hovertext\":\"\\u003cb\\u003eTopic 114\\u003c\\u002fb\\u003e:gives_bal_acc_xxxx18_company_disp\",\"line\":{\"color\":\"black\",\"width\":1.5},\"mode\":\"lines+lines\",\"name\":\"\",\"opacity\":0.1,\"x\":[1,2,3,4,5,6,7,8,9,10],\"y\":[0.029337829221813487,0.028237822505103403,0.027052802611886,0.024848881949237525,0.02475314068575538,0.02414648405989298,0.022139202384022137,0.02197314493962965,0.021401993290090203,0.02001393569473063],\"type\":\"scatter\"},{\"hovertext\":\"\\u003cb\\u003eTopic 115\\u003c\\u002fb\\u003e:wire_transfer_money_bank_hsbc_tra\",\"line\":{\"color\":\"black\",\"width\":1.5},\"mode\":\"lines+lines\",\"name\":\"\",\"opacity\":0.1,\"x\":[1,2,3,4,5,6,7,8,9,10],\"y\":[0.04794490164522136,0.027585133201534807,0.02359792560081905,0.02043756810166477,0.013040978313101644,0.012776434977937845,0.012641174392446228,0.012315966503964833,0.011827455691536332,0.011673973243054874],\"type\":\"scatter\"},{\"hovertext\":\"\\u003cb\\u003eTopic 116\\u003c\\u002fb\\u003e:criminal_looting_lying_firm_law_p\",\"line\":{\"color\":\"black\",\"width\":1.5},\"mode\":\"lines+lines\",\"name\":\"\",\"opacity\":0.1,\"x\":[1,2,3,4,5,6,7,8,9,10],\"y\":[0.046604602790789665,0.018354908333330325,0.017836846394757563,0.017601414217492294,0.01728820821771068,0.01677523892056341,0.01631876911307961,0.01553302960114487,0.014628032882638546,0.014406952766458692],\"type\":\"scatter\"},{\"hovertext\":\"\\u003cb\\u003eTopic 117\\u003c\\u002fb\\u003e:inquiry_xxxx2017_unauthorized_rem\",\"line\":{\"color\":\"black\",\"width\":1.5},\"mode\":\"lines+lines\",\"name\":\"\",\"opacity\":0.1,\"x\":[1,2,3,4,5,6,7,8,9,10],\"y\":[0.1805346660118165,0.1509022017650137,0.1291445852891808,0.07705120961066436,0.06130897184683156,0.057839560220125076,0.057810053836700216,0.04969390351208272,0.04216939878197911,0.03940520688189378],\"type\":\"scatter\"},{\"hovertext\":\"\\u003cb\\u003eTopic 118\\u003c\\u002fb\\u003e:transunion_collections_collection\",\"line\":{\"color\":\"black\",\"width\":1.5},\"mode\":\"lines+lines\",\"name\":\"\",\"opacity\":0.1,\"x\":[1,2,3,4,5,6,7,8,9,10],\"y\":[0.046018540362393195,0.021658363760198984,0.015427736964872282,0.014514492247814726,0.014190266798232428,0.01160784986735924,0.011108929783022263,0.01100203331155802,0.010748541258716647,0.01072360007222087],\"type\":\"scatter\"},{\"hovertext\":\"\\u003cb\\u003eTopic 119\\u003c\\u002fb\\u003e:ally_payment_late_auto_nt_vehicle\",\"line\":{\"color\":\"black\",\"width\":1.5},\"mode\":\"lines+lines\",\"name\":\"\",\"opacity\":0.1,\"x\":[1,2,3,4,5,6,7,8,9,10],\"y\":[0.029409967058848952,0.01319345180644856,0.010169046329305223,0.010005491615725805,0.009348835213857732,0.008887116705319888,0.0086142270848828,0.008439493598930908,0.008042069408026755,0.007735528445506941],\"type\":\"scatter\"},{\"hovertext\":\"\\u003cb\\u003eTopic 120\\u003c\\u002fb\\u003e:tcpa_fdcpa_violation_collector_ba\",\"line\":{\"color\":\"black\",\"width\":1.5},\"mode\":\"lines+lines\",\"name\":\"\",\"opacity\":0.1,\"x\":[1,2,3,4,5,6,7,8,9,10],\"y\":[0.08892663624605729,0.07297729731037307,0.060911771468982245,0.06053778945320085,0.03326874799652225,0.03278496925002529,0.027899405756258086,0.025887554222845034,0.025728801175620823,0.02446111336136551],\"type\":\"scatter\"},{\"hovertext\":\"\\u003cb\\u003eTopic 121\\u003c\\u002fb\\u003e:she_her_student_navient_cousin_da\",\"line\":{\"color\":\"black\",\"width\":1.5},\"mode\":\"lines+lines\",\"name\":\"\",\"opacity\":0.1,\"x\":[1,2,3,4,5,6,7,8,9,10],\"y\":[0.030122413078806472,0.026910093867398434,0.016664957043559737,0.01613193422099749,0.015185463249680327,0.014559002348219443,0.014277401944410961,0.013571826752058456,0.013163066856358461,0.011849390381883871],\"type\":\"scatter\"},{\"hovertext\":\"\\u003cb\\u003eTopic 122\\u003c\\u002fb\\u003e:principal_applied_extra_interest_\",\"line\":{\"color\":\"black\",\"width\":1.5},\"mode\":\"lines+lines\",\"name\":\"\",\"opacity\":0.1,\"x\":[1,2,3,4,5,6,7,8,9,10],\"y\":[0.0936865464100261,0.036302046316260314,0.028931602526825157,0.028409988371860685,0.028080520723069196,0.02059184769216216,0.02028635106210873,0.018575589057626723,0.01488203826554612,0.014697748970415701],\"type\":\"scatter\"},{\"hovertext\":\"\\u003cb\\u003eTopic 123\\u003c\\u002fb\\u003e:client_official_his_fraudulent_co\",\"line\":{\"color\":\"black\",\"width\":1.5},\"mode\":\"lines+lines\",\"name\":\"\",\"opacity\":0.1,\"x\":[1,2,3,4,5,6,7,8,9,10],\"y\":[0.05567038427680178,0.04762359254599346,0.042175165615606004,0.035008557479378886,0.03250418846073335,0.03094396963521789,0.028359649051966144,0.027885519312677094,0.024849277391907974,0.02336008361030951],\"type\":\"scatter\"},{\"hovertext\":\"\\u003cb\\u003eTopic 124\\u003c\\u002fb\\u003e:promotion_citi_requirements_citig\",\"line\":{\"color\":\"black\",\"width\":1.5},\"mode\":\"lines+lines\",\"name\":\"\",\"opacity\":0.1,\"x\":[1,2,3,4,5,6,7,8,9,10],\"y\":[0.07214490176568007,0.05028347504425269,0.04196320705402329,0.034360676421825664,0.03419375856477398,0.03342319721533345,0.025863266670715493,0.02524509591906017,0.023641711107326362,0.021474630426567554],\"type\":\"scatter\"},{\"hovertext\":\"\\u003cb\\u003eTopic 125\\u003c\\u002fb\\u003e:paid_full_update_updated_off_bala\",\"line\":{\"color\":\"black\",\"width\":1.5},\"mode\":\"lines+lines\",\"name\":\"\",\"opacity\":0.1,\"x\":[1,2,3,4,5,6,7,8,9,10],\"y\":[0.038570269387433874,0.03606595440386089,0.023181149213043605,0.022133754952858,0.021072699112339256,0.02081567697805705,0.017926388624879948,0.017390698940165747,0.014874006437782299,0.012943496349049455],\"type\":\"scatter\"},{\"hovertext\":\"\\u003cb\\u003eTopic 126\\u003c\\u002fb\\u003e:shall_repurchase_1681c2_transfer_\",\"line\":{\"color\":\"black\",\"width\":1.5},\"mode\":\"lines+lines\",\"name\":\"\",\"opacity\":0.1,\"x\":[1,2,3,4,5,6,7,8,9,10],\"y\":[0.028424686867314333,0.025477555702053428,0.024567862650073817,0.02121265418466249,0.02105848368997957,0.020826808119370915,0.020216202238930434,0.01972706863709791,0.01937175501998449,0.019348547686113042],\"type\":\"scatter\"},{\"hovertext\":\"\\u003cb\\u003eTopic 127\\u003c\\u002fb\\u003e:mortgage_edit_score_bankshares_ou\",\"line\":{\"color\":\"black\",\"width\":1.5},\"mode\":\"lines+lines\",\"name\":\"\",\"opacity\":0.1,\"x\":[1,2,3,4,5,6,7,8,9,10],\"y\":[0.032158085669232506,0.022613580909638664,0.020027721488497942,0.01663057694755341,0.016112425449909224,0.015356634533670048,0.014948002679018505,0.01465362055559263,0.014158137587873572,0.013457824352245677],\"type\":\"scatter\"},{\"hovertext\":\"\\u003cb\\u003eTopic 128\\u003c\\u002fb\\u003e:freeze_equifax_freezes_data_pdf_p\",\"line\":{\"color\":\"black\",\"width\":1.5},\"mode\":\"lines+lines\",\"name\":\"\",\"opacity\":0.1,\"x\":[1,2,3,4,5,6,7,8,9,10],\"y\":[0.07328274995590624,0.053391333705628596,0.03050527995195642,0.019483702242649743,0.018140480066269688,0.017418481439912533,0.015349111682250257,0.015087624990921871,0.014845770258449225,0.012662582122678198],\"type\":\"scatter\"},{\"hovertext\":\"\\u003cb\\u003eTopic 129\\u003c\\u002fb\\u003e:manipulate_appears_aplicacin_cred\",\"line\":{\"color\":\"black\",\"width\":1.5},\"mode\":\"lines+lines\",\"name\":\"\",\"opacity\":0.1,\"x\":[1,2,3,4,5,6,7,8,9,10],\"y\":[0.039273055929538225,0.036137481659102716,0.029184277862521257,0.027127620167950617,0.027127620167950617,0.02652207808556993,0.02589036334798193,0.02483072102867205,0.024647386483298457,0.024409133115723125],\"type\":\"scatter\"},{\"hovertext\":\"\\u003cb\\u003eTopic 130\\u003c\\u002fb\\u003e:loan_nt_payoff_breakdown_5200_fee\",\"line\":{\"color\":\"black\",\"width\":1.5},\"mode\":\"lines+lines\",\"name\":\"\",\"opacity\":0.1,\"x\":[1,2,3,4,5,6,7,8,9,10],\"y\":[0.014708350187768776,0.011948524331928653,0.010118679224737331,0.010051929037560067,0.009894929971404561,0.009792338653444777,0.009612568969750341,0.009178310141039337,0.00907870068703622,0.008562607913832197],\"type\":\"scatter\"},{\"hovertext\":\"\\u003cb\\u003eTopic 131\\u003c\\u002fb\\u003e:huntington_fee_bal_fargo_wells_ov\",\"line\":{\"color\":\"black\",\"width\":1.5},\"mode\":\"lines+lines\",\"name\":\"\",\"opacity\":0.1,\"x\":[1,2,3,4,5,6,7,8,9,10],\"y\":[0.04854287916246523,0.03432576132414802,0.03175958386743846,0.03115196640716934,0.030922818119514167,0.027337498854276575,0.02368296298382131,0.018073888867549247,0.01786184744745548,0.017665449018714464],\"type\":\"scatter\"},{\"hovertext\":\"\\u003cb\\u003eTopic 132\\u003c\\u002fb\\u003e:rush_rushcard_funds_card_money_in\",\"line\":{\"color\":\"black\",\"width\":1.5},\"mode\":\"lines+lines\",\"name\":\"\",\"opacity\":0.1,\"x\":[1,2,3,4,5,6,7,8,9,10],\"y\":[0.07646099107428322,0.0414177895656408,0.03233212851623048,0.03054296784502229,0.02450944904277128,0.021845997449795207,0.021574955173432213,0.01763364364977244,0.01679709902007614,0.014066114260568897],\"type\":\"scatter\"},{\"hovertext\":\"\\u003cb\\u003eTopic 133\\u003c\\u002fb\\u003e:western_wu_union_money_transfer_a\",\"line\":{\"color\":\"black\",\"width\":1.5},\"mode\":\"lines+lines\",\"name\":\"\",\"opacity\":0.1,\"x\":[1,2,3,4,5,6,7,8,9,10],\"y\":[0.07719842184121341,0.05133022977977529,0.04728275184393408,0.026293228301419377,0.020341866086529648,0.01788567742787862,0.016015501789995168,0.015621620952630297,0.013869314508394577,0.01366674135392187],\"type\":\"scatter\"},{\"hovertext\":\"\\u003cb\\u003eTopic 134\\u003c\\u002fb\\u003e:navient_calls_student_mae_harassm\",\"line\":{\"color\":\"black\",\"width\":1.5},\"mode\":\"lines+lines\",\"name\":\"\",\"opacity\":0.1,\"x\":[1,2,3,4,5,6,7,8,9,10],\"y\":[0.05196231422738354,0.032903971402771084,0.021206607597180224,0.019578223917884375,0.017713294131349453,0.01624819091342124,0.015885965887939345,0.014784477554898577,0.013212525593352094,0.013089999856721579],\"type\":\"scatter\"},{\"hovertext\":\"\\u003cb\\u003eTopic 135\\u003c\\u002fb\\u003e:late_79000_payment_30_cents_refer\",\"line\":{\"color\":\"black\",\"width\":1.5},\"mode\":\"lines+lines\",\"name\":\"\",\"opacity\":0.1,\"x\":[1,2,3,4,5,6,7,8,9,10],\"y\":[0.0429256375613749,0.040933014101046945,0.024965502840459605,0.017756676586349364,0.016901229216274807,0.0165283926420827,0.015962025341747083,0.014258619593795034,0.014167453659104958,0.014167453659104958],\"type\":\"scatter\"},{\"hovertext\":\"\\u003cb\\u003eTopic 136\\u003c\\u002fb\\u003e:chexsystems_chex_systems_institut\",\"line\":{\"color\":\"black\",\"width\":1.5},\"mode\":\"lines+lines\",\"name\":\"\",\"opacity\":0.1,\"x\":[1,2,3,4,5,6,7,8,9,10],\"y\":[0.08007358594449496,0.05655760664381387,0.046270964803865146,0.017360013045074323,0.014206250781838443,0.013904252081645259,0.013387481293034537,0.011439083706356424,0.011148587143803672,0.010680197685694502],\"type\":\"scatter\"},{\"hovertext\":\"\\u003cb\\u003eTopic 137\\u003c\\u002fb\\u003e:court_judgment_winn_group_served_\",\"line\":{\"color\":\"black\",\"width\":1.5},\"mode\":\"lines+lines\",\"name\":\"\",\"opacity\":0.1,\"x\":[1,2,3,4,5,6,7,8,9,10],\"y\":[0.029730037944716212,0.02879595402853013,0.025810837532933537,0.01956421284530482,0.01867866124881123,0.017195569610369624,0.01609016647350746,0.014617333614786149,0.014598116312959106,0.01368769501045823],\"type\":\"scatter\"},{\"hovertext\":\"\\u003cb\\u003eTopic 138\\u003c\\u002fb\\u003e:freeze_experian_pin_page_live_sec\",\"line\":{\"color\":\"black\",\"width\":1.5},\"mode\":\"lines+lines\",\"name\":\"\",\"opacity\":0.1,\"x\":[1,2,3,4,5,6,7,8,9,10],\"y\":[0.07728316586785106,0.042817027665910556,0.02908396107878237,0.023980953114343652,0.01882653882471956,0.017908034035079155,0.017148812238490168,0.017131348841294615,0.016918382620453296,0.016691296103091828],\"type\":\"scatter\"},{\"hovertext\":\"\\u003cb\\u003eTopic 139\\u003c\\u002fb\\u003e:freeze_data_breach_freezes_protec\",\"line\":{\"color\":\"black\",\"width\":1.5},\"mode\":\"lines+lines\",\"name\":\"\",\"opacity\":0.1,\"x\":[1,2,3,4,5,6,7,8,9,10],\"y\":[0.05059422111082658,0.02625938298569382,0.022792221285196212,0.020937604036496502,0.0194449600406459,0.017645998357406528,0.01760511241599894,0.017434693421377427,0.016780390601159424,0.016508845887712415],\"type\":\"scatter\"},{\"hovertext\":\"\\u003cb\\u003eTopic 140\\u003c\\u002fb\\u003e:lvnv_funding_resurgent_llc_debt_v\",\"line\":{\"color\":\"black\",\"width\":1.5},\"mode\":\"lines+lines\",\"name\":\"\",\"opacity\":0.1,\"x\":[1,2,3,4,5,6,7,8,9,10],\"y\":[0.15549377784456836,0.07568943823796416,0.04965040218857149,0.031541141141013,0.020786305438098892,0.020000091426375273,0.019941811755851396,0.0164804198212134,0.015127835942795289,0.015116808457203335],\"type\":\"scatter\"},{\"hovertext\":\"\\u003cb\\u003eTopic 141\\u003c\\u002fb\\u003e:name_names_provably_real_misspell\",\"line\":{\"color\":\"black\",\"width\":1.5},\"mode\":\"lines+lines\",\"name\":\"\",\"opacity\":0.1,\"x\":[1,2,3,4,5,6,7,8,9,10],\"y\":[0.059438962543940016,0.039411080324901634,0.023963323713235538,0.020022874170886124,0.02002177007081699,0.019929107142413294,0.018683619142118236,0.01820613271170393,0.01820613271170393,0.01614374113976631],\"type\":\"scatter\"},{\"hovertext\":\"\\u003cb\\u003eTopic 142\\u003c\\u002fb\\u003e:theft_identity_ive_identitytheftg\",\"line\":{\"color\":\"black\",\"width\":1.5},\"mode\":\"lines+lines\",\"name\":\"\",\"opacity\":0.1,\"x\":[1,2,3,4,5,6,7,8,9,10],\"y\":[0.039893831676717464,0.036181108582299074,0.031016875421964876,0.02979114751567327,0.027325813451844264,0.027286510966170782,0.025834599849377648,0.025137293981833883,0.02503397891087606,0.02503397891087606],\"type\":\"scatter\"},{\"hovertext\":\"\\u003cb\\u003eTopic 143\\u003c\\u002fb\\u003e:judgement_judgment_court_vacated_\",\"line\":{\"color\":\"black\",\"width\":1.5},\"mode\":\"lines+lines\",\"name\":\"\",\"opacity\":0.1,\"x\":[1,2,3,4,5,6,7,8,9,10],\"y\":[0.10388091657764974,0.03439106532410209,0.020981198495665047,0.020648703608276326,0.01829817840036565,0.017881413507768618,0.017150956445994493,0.01698782740037414,0.01669738131760145,0.016455267453147588],\"type\":\"scatter\"},{\"hovertext\":\"\\u003cb\\u003eTopic 144\\u003c\\u002fb\\u003e:bankruptcy_discharged_discharge_i\",\"line\":{\"color\":\"black\",\"width\":1.5},\"mode\":\"lines+lines\",\"name\":\"\",\"opacity\":0.1,\"x\":[1,2,3,4,5,6,7,8,9,10],\"y\":[0.06429536230327228,0.036881455034595854,0.030048911740210172,0.029690136364189747,0.028338780804920374,0.02339816551307057,0.012663085092089174,0.012497283346965092,0.011615159674981704,0.011259169869399548],\"type\":\"scatter\"},{\"hovertext\":\"\\u003cb\\u003eTopic 145\\u003c\\u002fb\\u003e:gap_toyota_insurance_we_car_vehic\",\"line\":{\"color\":\"black\",\"width\":1.5},\"mode\":\"lines+lines\",\"name\":\"\",\"opacity\":0.1,\"x\":[1,2,3,4,5,6,7,8,9,10],\"y\":[0.06493350389698682,0.03736495118960961,0.024655445009231884,0.017934995990444,0.0159457666170499,0.014904149601887427,0.013111809488618634,0.01269096087167707,0.009611348413723294,0.009609259362457693],\"type\":\"scatter\"},{\"hovertext\":\"\\u003cb\\u003eTopic 146\\u003c\\u002fb\\u003e:accounts_verified_letters_advised\",\"line\":{\"color\":\"black\",\"width\":1.5},\"mode\":\"lines+lines\",\"name\":\"\",\"opacity\":0.1,\"x\":[1,2,3,4,5,6,7,8,9,10],\"y\":[0.023074595108994886,0.017786372168580394,0.01733887839987463,0.015209696642851833,0.01337106930994492,0.012134330351975071,0.011567174281796037,0.011319858875357858,0.011131208781946298,0.01081328209013524],\"type\":\"scatter\"},{\"hovertext\":\"\\u003cb\\u003eTopic 147\\u003c\\u002fb\\u003e:deferment_loans_lates_student_lat\",\"line\":{\"color\":\"black\",\"width\":1.5},\"mode\":\"lines+lines\",\"name\":\"\",\"opacity\":0.1,\"x\":[1,2,3,4,5,6,7,8,9,10],\"y\":[0.03210305505434867,0.027654352535238586,0.026714891029172187,0.025153337483955533,0.019073860688587553,0.01484032263673928,0.013597068626744592,0.01160996129613256,0.010952964813676415,0.010546088485953776],\"type\":\"scatter\"},{\"hovertext\":\"\\u003cb\\u003eTopic 148\\u003c\\u002fb\\u003e:negative_facta_earlywarning_item_\",\"line\":{\"color\":\"black\",\"width\":1.5},\"mode\":\"lines+lines\",\"name\":\"\",\"opacity\":0.1,\"x\":[1,2,3,4,5,6,7,8,9,10],\"y\":[0.06841824769721744,0.03881002803290359,0.03016086222018892,0.028017034508468923,0.026796321281790634,0.025676898548318464,0.02265765535882058,0.021631217647830697,0.02158845158810706,0.021312678040931392],\"type\":\"scatter\"},{\"hovertext\":\"\\u003cb\\u003eTopic 149\\u003c\\u002fb\\u003e:full_paid_off_removed_negative_ma\",\"line\":{\"color\":\"black\",\"width\":1.5},\"mode\":\"lines+lines\",\"name\":\"\",\"opacity\":0.1,\"x\":[1,2,3,4,5,6,7,8,9,10],\"y\":[0.04130818064992126,0.03855403686816865,0.03167802640701081,0.023210633570019137,0.02211555469754574,0.020676530184600854,0.02026681861108025,0.01974072697925162,0.019529996063756234,0.019278275140861834],\"type\":\"scatter\"},{\"hovertext\":\"\\u003cb\\u003eTopic 150\\u003c\\u002fb\\u003e:summons_citizens_identity_alias_n\",\"line\":{\"color\":\"black\",\"width\":1.5},\"mode\":\"lines+lines\",\"name\":\"\",\"opacity\":0.1,\"x\":[1,2,3,4,5,6,7,8,9,10],\"y\":[0.018534328224015083,0.01726782762955333,0.01725953942971864,0.01679104994751026,0.01446738980843495,0.013621151842316069,0.013593304584444367,0.01314088624174838,0.012699044724642203,0.0120053107137232],\"type\":\"scatter\"},{\"hovertext\":\"\\u003cb\\u003eTopic 151\\u003c\\u002fb\\u003e:planet_closed_past_status_lending\",\"line\":{\"color\":\"black\",\"width\":1.5},\"mode\":\"lines+lines\",\"name\":\"\",\"opacity\":0.1,\"x\":[1,2,3,4,5,6,7,8,9,10],\"y\":[0.03183621352396972,0.02607270419026722,0.021599053306217746,0.01870759177919429,0.018568119765987854,0.01589571796522418,0.014855170474014922,0.013795830265270117,0.013540318492488677,0.013365043182831519],\"type\":\"scatter\"},{\"hovertext\":\"\\u003cb\\u003eTopic 152\\u003c\\u002fb\\u003e:kohl_kohls_email_late_customer_ma\",\"line\":{\"color\":\"black\",\"width\":1.5},\"mode\":\"lines+lines\",\"name\":\"\",\"opacity\":0.1,\"x\":[1,2,3,4,5,6,7,8,9,10],\"y\":[0.11761461682627025,0.0516779660196741,0.030231715050432293,0.01809990529545489,0.016229101436029375,0.01596761000938183,0.01428105190393725,0.013104199506074337,0.011697789509779283,0.010918595389342258],\"type\":\"scatter\"},{\"hovertext\":\"\\u003cb\\u003eTopic 153\\u003c\\u002fb\\u003e:repo_vehicle_car_repossession_bal\",\"line\":{\"color\":\"black\",\"width\":1.5},\"mode\":\"lines+lines\",\"name\":\"\",\"opacity\":0.1,\"x\":[1,2,3,4,5,6,7,8,9,10],\"y\":[0.05975459969182223,0.03840386532657989,0.028445416521472384,0.027028401042078362,0.02552718835096846,0.020518888615257958,0.02038486632240793,0.01974880052189016,0.019117773068094413,0.018990001952952393],\"type\":\"scatter\"},{\"hovertext\":\"\\u003cb\\u003eTopic 154\\u003c\\u002fb\\u003e:debt_derogatory_letter_this_remov\",\"line\":{\"color\":\"black\",\"width\":1.5},\"mode\":\"lines+lines\",\"name\":\"\",\"opacity\":0.1,\"x\":[1,2,3,4,5,6,7,8,9,10],\"y\":[0.015658190064667833,0.015176206942810504,0.013371275513572171,0.01297310724180348,0.01285418070206673,0.012300189741007586,0.012100860462818094,0.011790605401794293,0.010262963974879056,0.009673483081986557],\"type\":\"scatter\"},{\"hovertext\":\"\\u003cb\\u003eTopic 155\\u003c\\u002fb\\u003e:loans_navient_nco_student_netcred\",\"line\":{\"color\":\"black\",\"width\":1.5},\"mode\":\"lines+lines\",\"name\":\"\",\"opacity\":0.1,\"x\":[1,2,3,4,5,6,7,8,9,10],\"y\":[0.02721599799639867,0.026304683785730986,0.021691511668486565,0.01785333706490811,0.010294496963607295,0.010250222688133727,0.010204256788526211,0.009974703484181568,0.008890034696092612,0.00869529384307378],\"type\":\"scatter\"},{\"hovertext\":\"\\u003cb\\u003eTopic 156\\u003c\\u002fb\\u003e:moneygram_money_gram_13000_transa\",\"line\":{\"color\":\"black\",\"width\":1.5},\"mode\":\"lines+lines\",\"name\":\"\",\"opacity\":0.1,\"x\":[1,2,3,4,5,6,7,8,9,10],\"y\":[0.09714570796176153,0.02577807989546077,0.01800507962953157,0.017668771614050116,0.0159423584611063,0.014690940154059367,0.013344310273918258,0.012800723643969744,0.010630706156767377,0.009888597075824075],\"type\":\"scatter\"},{\"hovertext\":\"\\u003cb\\u003eTopic 157\\u003c\\u002fb\\u003e:bayview_servicing_2015_modificati\",\"line\":{\"color\":\"black\",\"width\":1.5},\"mode\":\"lines+lines\",\"name\":\"\",\"opacity\":0.1,\"x\":[1,2,3,4,5,6,7,8,9,10],\"y\":[0.08456152307870243,0.023771741587196627,0.018280334800364843,0.015409661087889874,0.0153180541932354,0.014770376810973738,0.013304461558042727,0.011031819553659592,0.010838999365200814,0.010077426280396738],\"type\":\"scatter\"},{\"hovertext\":\"\\u003cb\\u003eTopic 158\\u003c\\u002fb\\u003e:forbearance_xxxx18_aes_sallie_mae\",\"line\":{\"color\":\"black\",\"width\":1.5},\"mode\":\"lines+lines\",\"name\":\"\",\"opacity\":0.1,\"x\":[1,2,3,4,5,6,7,8,9,10],\"y\":[0.07746559916352014,0.02726906551414356,0.026168696293083018,0.016218574241909138,0.016021709899112453,0.015575376777248089,0.014800082677616934,0.014164682952279427,0.012194083422149773,0.011800287884753992],\"type\":\"scatter\"},{\"hovertext\":\"\\u003cb\\u003eTopic 159\\u003c\\u002fb\\u003e:navient_loan_provide_loans_detail\",\"line\":{\"color\":\"black\",\"width\":1.5},\"mode\":\"lines+lines\",\"name\":\"\",\"opacity\":0.1,\"x\":[1,2,3,4,5,6,7,8,9,10],\"y\":[0.06150946477021601,0.01764016145245489,0.016646641307715076,0.015049171691389064,0.013479646939555865,0.012748348370306558,0.012406440679325267,0.012354153776147021,0.011379796088325414,0.011263619042786138],\"type\":\"scatter\"}],                        {\"template\":{\"data\":{\"barpolar\":[{\"marker\":{\"line\":{\"color\":\"white\",\"width\":0.5},\"pattern\":{\"fillmode\":\"overlay\",\"size\":10,\"solidity\":0.2}},\"type\":\"barpolar\"}],\"bar\":[{\"error_x\":{\"color\":\"#2a3f5f\"},\"error_y\":{\"color\":\"#2a3f5f\"},\"marker\":{\"line\":{\"color\":\"white\",\"width\":0.5},\"pattern\":{\"fillmode\":\"overlay\",\"size\":10,\"solidity\":0.2}},\"type\":\"bar\"}],\"carpet\":[{\"aaxis\":{\"endlinecolor\":\"#2a3f5f\",\"gridcolor\":\"#C8D4E3\",\"linecolor\":\"#C8D4E3\",\"minorgridcolor\":\"#C8D4E3\",\"startlinecolor\":\"#2a3f5f\"},\"baxis\":{\"endlinecolor\":\"#2a3f5f\",\"gridcolor\":\"#C8D4E3\",\"linecolor\":\"#C8D4E3\",\"minorgridcolor\":\"#C8D4E3\",\"startlinecolor\":\"#2a3f5f\"},\"type\":\"carpet\"}],\"choropleth\":[{\"colorbar\":{\"outlinewidth\":0,\"ticks\":\"\"},\"type\":\"choropleth\"}],\"contourcarpet\":[{\"colorbar\":{\"outlinewidth\":0,\"ticks\":\"\"},\"type\":\"contourcarpet\"}],\"contour\":[{\"colorbar\":{\"outlinewidth\":0,\"ticks\":\"\"},\"colorscale\":[[0.0,\"#0d0887\"],[0.1111111111111111,\"#46039f\"],[0.2222222222222222,\"#7201a8\"],[0.3333333333333333,\"#9c179e\"],[0.4444444444444444,\"#bd3786\"],[0.5555555555555556,\"#d8576b\"],[0.6666666666666666,\"#ed7953\"],[0.7777777777777778,\"#fb9f3a\"],[0.8888888888888888,\"#fdca26\"],[1.0,\"#f0f921\"]],\"type\":\"contour\"}],\"heatmapgl\":[{\"colorbar\":{\"outlinewidth\":0,\"ticks\":\"\"},\"colorscale\":[[0.0,\"#0d0887\"],[0.1111111111111111,\"#46039f\"],[0.2222222222222222,\"#7201a8\"],[0.3333333333333333,\"#9c179e\"],[0.4444444444444444,\"#bd3786\"],[0.5555555555555556,\"#d8576b\"],[0.6666666666666666,\"#ed7953\"],[0.7777777777777778,\"#fb9f3a\"],[0.8888888888888888,\"#fdca26\"],[1.0,\"#f0f921\"]],\"type\":\"heatmapgl\"}],\"heatmap\":[{\"colorbar\":{\"outlinewidth\":0,\"ticks\":\"\"},\"colorscale\":[[0.0,\"#0d0887\"],[0.1111111111111111,\"#46039f\"],[0.2222222222222222,\"#7201a8\"],[0.3333333333333333,\"#9c179e\"],[0.4444444444444444,\"#bd3786\"],[0.5555555555555556,\"#d8576b\"],[0.6666666666666666,\"#ed7953\"],[0.7777777777777778,\"#fb9f3a\"],[0.8888888888888888,\"#fdca26\"],[1.0,\"#f0f921\"]],\"type\":\"heatmap\"}],\"histogram2dcontour\":[{\"colorbar\":{\"outlinewidth\":0,\"ticks\":\"\"},\"colorscale\":[[0.0,\"#0d0887\"],[0.1111111111111111,\"#46039f\"],[0.2222222222222222,\"#7201a8\"],[0.3333333333333333,\"#9c179e\"],[0.4444444444444444,\"#bd3786\"],[0.5555555555555556,\"#d8576b\"],[0.6666666666666666,\"#ed7953\"],[0.7777777777777778,\"#fb9f3a\"],[0.8888888888888888,\"#fdca26\"],[1.0,\"#f0f921\"]],\"type\":\"histogram2dcontour\"}],\"histogram2d\":[{\"colorbar\":{\"outlinewidth\":0,\"ticks\":\"\"},\"colorscale\":[[0.0,\"#0d0887\"],[0.1111111111111111,\"#46039f\"],[0.2222222222222222,\"#7201a8\"],[0.3333333333333333,\"#9c179e\"],[0.4444444444444444,\"#bd3786\"],[0.5555555555555556,\"#d8576b\"],[0.6666666666666666,\"#ed7953\"],[0.7777777777777778,\"#fb9f3a\"],[0.8888888888888888,\"#fdca26\"],[1.0,\"#f0f921\"]],\"type\":\"histogram2d\"}],\"histogram\":[{\"marker\":{\"pattern\":{\"fillmode\":\"overlay\",\"size\":10,\"solidity\":0.2}},\"type\":\"histogram\"}],\"mesh3d\":[{\"colorbar\":{\"outlinewidth\":0,\"ticks\":\"\"},\"type\":\"mesh3d\"}],\"parcoords\":[{\"line\":{\"colorbar\":{\"outlinewidth\":0,\"ticks\":\"\"}},\"type\":\"parcoords\"}],\"pie\":[{\"automargin\":true,\"type\":\"pie\"}],\"scatter3d\":[{\"line\":{\"colorbar\":{\"outlinewidth\":0,\"ticks\":\"\"}},\"marker\":{\"colorbar\":{\"outlinewidth\":0,\"ticks\":\"\"}},\"type\":\"scatter3d\"}],\"scattercarpet\":[{\"marker\":{\"colorbar\":{\"outlinewidth\":0,\"ticks\":\"\"}},\"type\":\"scattercarpet\"}],\"scattergeo\":[{\"marker\":{\"colorbar\":{\"outlinewidth\":0,\"ticks\":\"\"}},\"type\":\"scattergeo\"}],\"scattergl\":[{\"marker\":{\"colorbar\":{\"outlinewidth\":0,\"ticks\":\"\"}},\"type\":\"scattergl\"}],\"scattermapbox\":[{\"marker\":{\"colorbar\":{\"outlinewidth\":0,\"ticks\":\"\"}},\"type\":\"scattermapbox\"}],\"scatterpolargl\":[{\"marker\":{\"colorbar\":{\"outlinewidth\":0,\"ticks\":\"\"}},\"type\":\"scatterpolargl\"}],\"scatterpolar\":[{\"marker\":{\"colorbar\":{\"outlinewidth\":0,\"ticks\":\"\"}},\"type\":\"scatterpolar\"}],\"scatter\":[{\"fillpattern\":{\"fillmode\":\"overlay\",\"size\":10,\"solidity\":0.2},\"type\":\"scatter\"}],\"scatterternary\":[{\"marker\":{\"colorbar\":{\"outlinewidth\":0,\"ticks\":\"\"}},\"type\":\"scatterternary\"}],\"surface\":[{\"colorbar\":{\"outlinewidth\":0,\"ticks\":\"\"},\"colorscale\":[[0.0,\"#0d0887\"],[0.1111111111111111,\"#46039f\"],[0.2222222222222222,\"#7201a8\"],[0.3333333333333333,\"#9c179e\"],[0.4444444444444444,\"#bd3786\"],[0.5555555555555556,\"#d8576b\"],[0.6666666666666666,\"#ed7953\"],[0.7777777777777778,\"#fb9f3a\"],[0.8888888888888888,\"#fdca26\"],[1.0,\"#f0f921\"]],\"type\":\"surface\"}],\"table\":[{\"cells\":{\"fill\":{\"color\":\"#EBF0F8\"},\"line\":{\"color\":\"white\"}},\"header\":{\"fill\":{\"color\":\"#C8D4E3\"},\"line\":{\"color\":\"white\"}},\"type\":\"table\"}]},\"layout\":{\"annotationdefaults\":{\"arrowcolor\":\"#2a3f5f\",\"arrowhead\":0,\"arrowwidth\":1},\"autotypenumbers\":\"strict\",\"coloraxis\":{\"colorbar\":{\"outlinewidth\":0,\"ticks\":\"\"}},\"colorscale\":{\"diverging\":[[0,\"#8e0152\"],[0.1,\"#c51b7d\"],[0.2,\"#de77ae\"],[0.3,\"#f1b6da\"],[0.4,\"#fde0ef\"],[0.5,\"#f7f7f7\"],[0.6,\"#e6f5d0\"],[0.7,\"#b8e186\"],[0.8,\"#7fbc41\"],[0.9,\"#4d9221\"],[1,\"#276419\"]],\"sequential\":[[0.0,\"#0d0887\"],[0.1111111111111111,\"#46039f\"],[0.2222222222222222,\"#7201a8\"],[0.3333333333333333,\"#9c179e\"],[0.4444444444444444,\"#bd3786\"],[0.5555555555555556,\"#d8576b\"],[0.6666666666666666,\"#ed7953\"],[0.7777777777777778,\"#fb9f3a\"],[0.8888888888888888,\"#fdca26\"],[1.0,\"#f0f921\"]],\"sequentialminus\":[[0.0,\"#0d0887\"],[0.1111111111111111,\"#46039f\"],[0.2222222222222222,\"#7201a8\"],[0.3333333333333333,\"#9c179e\"],[0.4444444444444444,\"#bd3786\"],[0.5555555555555556,\"#d8576b\"],[0.6666666666666666,\"#ed7953\"],[0.7777777777777778,\"#fb9f3a\"],[0.8888888888888888,\"#fdca26\"],[1.0,\"#f0f921\"]]},\"colorway\":[\"#636efa\",\"#EF553B\",\"#00cc96\",\"#ab63fa\",\"#FFA15A\",\"#19d3f3\",\"#FF6692\",\"#B6E880\",\"#FF97FF\",\"#FECB52\"],\"font\":{\"color\":\"#2a3f5f\"},\"geo\":{\"bgcolor\":\"white\",\"lakecolor\":\"white\",\"landcolor\":\"white\",\"showlakes\":true,\"showland\":true,\"subunitcolor\":\"#C8D4E3\"},\"hoverlabel\":{\"align\":\"left\"},\"hovermode\":\"closest\",\"mapbox\":{\"style\":\"light\"},\"paper_bgcolor\":\"white\",\"plot_bgcolor\":\"white\",\"polar\":{\"angularaxis\":{\"gridcolor\":\"#EBF0F8\",\"linecolor\":\"#EBF0F8\",\"ticks\":\"\"},\"bgcolor\":\"white\",\"radialaxis\":{\"gridcolor\":\"#EBF0F8\",\"linecolor\":\"#EBF0F8\",\"ticks\":\"\"}},\"scene\":{\"xaxis\":{\"backgroundcolor\":\"white\",\"gridcolor\":\"#DFE8F3\",\"gridwidth\":2,\"linecolor\":\"#EBF0F8\",\"showbackground\":true,\"ticks\":\"\",\"zerolinecolor\":\"#EBF0F8\"},\"yaxis\":{\"backgroundcolor\":\"white\",\"gridcolor\":\"#DFE8F3\",\"gridwidth\":2,\"linecolor\":\"#EBF0F8\",\"showbackground\":true,\"ticks\":\"\",\"zerolinecolor\":\"#EBF0F8\"},\"zaxis\":{\"backgroundcolor\":\"white\",\"gridcolor\":\"#DFE8F3\",\"gridwidth\":2,\"linecolor\":\"#EBF0F8\",\"showbackground\":true,\"ticks\":\"\",\"zerolinecolor\":\"#EBF0F8\"}},\"shapedefaults\":{\"line\":{\"color\":\"#2a3f5f\"}},\"ternary\":{\"aaxis\":{\"gridcolor\":\"#DFE8F3\",\"linecolor\":\"#A2B1C6\",\"ticks\":\"\"},\"baxis\":{\"gridcolor\":\"#DFE8F3\",\"linecolor\":\"#A2B1C6\",\"ticks\":\"\"},\"bgcolor\":\"white\",\"caxis\":{\"gridcolor\":\"#DFE8F3\",\"linecolor\":\"#A2B1C6\",\"ticks\":\"\"}},\"title\":{\"x\":0.05},\"xaxis\":{\"automargin\":true,\"gridcolor\":\"#EBF0F8\",\"linecolor\":\"#EBF0F8\",\"ticks\":\"\",\"title\":{\"standoff\":15},\"zerolinecolor\":\"#EBF0F8\",\"zerolinewidth\":2},\"yaxis\":{\"automargin\":true,\"gridcolor\":\"#EBF0F8\",\"linecolor\":\"#EBF0F8\",\"ticks\":\"\",\"title\":{\"standoff\":15},\"zerolinecolor\":\"#EBF0F8\",\"zerolinewidth\":2}}},\"xaxis\":{\"range\":[0,10],\"tick0\":1,\"dtick\":2,\"title\":{\"text\":\"Term Rank\"}},\"title\":{\"font\":{\"size\":22,\"color\":\"Black\"},\"text\":\"\\u003cb\\u003eTerm score decline per Topic\\u003c\\u002fb\\u003e\",\"y\":0.9,\"x\":0.5,\"xanchor\":\"center\",\"yanchor\":\"top\"},\"hoverlabel\":{\"font\":{\"size\":16,\"family\":\"Rockwell\"},\"bgcolor\":\"white\"},\"showlegend\":false,\"width\":800,\"height\":500,\"yaxis\":{\"title\":{\"text\":\"c-TF-IDF score\"}}},                        {\"responsive\": true}                    ).then(function(){\n",
              "                            \n",
              "var gd = document.getElementById('38e58f0c-ebe3-44eb-a21f-16bc8b9af188');\n",
              "var x = new MutationObserver(function (mutations, observer) {{\n",
              "        var display = window.getComputedStyle(gd).display;\n",
              "        if (!display || display === 'none') {{\n",
              "            console.log([gd, 'removed!']);\n",
              "            Plotly.purge(gd);\n",
              "            observer.disconnect();\n",
              "        }}\n",
              "}});\n",
              "\n",
              "// Listen for the removal of the full notebook cells\n",
              "var notebookContainer = gd.closest('#notebook-container');\n",
              "if (notebookContainer) {{\n",
              "    x.observe(notebookContainer, {childList: true});\n",
              "}}\n",
              "\n",
              "// Listen for the clearing of the current output cell\n",
              "var outputEl = gd.closest('.output');\n",
              "if (outputEl) {{\n",
              "    x.observe(outputEl, {childList: true});\n",
              "}}\n",
              "\n",
              "                        })                };                            </script>        </div>\n",
              "</body>\n",
              "</html>"
            ]
          },
          "metadata": {}
        }
      ]
    },
    {
      "cell_type": "markdown",
      "metadata": {
        "id": "D48ienfZrfP0"
      },
      "source": [
        "# **Tema representation**\n",
        "När en modell med teman skapats kan dessa teman uppdateras för att bättre fånga en text. Därmed finjusteras modellen efter specifika önskemål.\n",
        "\n"
      ]
    },
    {
      "cell_type": "markdown",
      "metadata": {
        "id": "c4m3UMsw-Zxk"
      },
      "source": [
        "## Att uppdatera teman\n",
        "Exempel på anledningar att uppdatera teman kan vara att vissa teman inte är relevanta, kanske beroende på att de bygger på triviala ord (stoppord) som inte borde ingått i analysen. Eller av andra anledningar. FÖr att uppdatera modellen kan funktionen `update_topics` användas. Det som då går att ändra är parametrarna i `c-TF-IDF` som bestämmer vilka ord som utgör ett specifikt tema:\n"
      ]
    },
    {
      "cell_type": "code",
      "metadata": {
        "id": "KWm7B-FJ-iYW"
      },
      "source": [
        "topic_model.update_topics(sampled_corpus, n_gram_range=(1, 2))"
      ],
      "execution_count": null,
      "outputs": []
    },
    {
      "cell_type": "code",
      "metadata": {
        "colab": {
          "base_uri": "https://localhost:8080/"
        },
        "id": "wf31gQavdtfG",
        "outputId": "2c4b6427-858c-4822-f2a3-35dc24d38110"
      },
      "source": [
        "topic_model.get_topic(0)   # We select topic that we viewed before"
      ],
      "execution_count": null,
      "outputs": [
        {
          "output_type": "execute_result",
          "data": {
            "text/plain": [
              "[('call', 0.009435313911423536),\n",
              " ('phone', 0.008125493949572665),\n",
              " ('me', 0.0075528166790997655),\n",
              " ('calls', 0.007511304279367785),\n",
              " ('number', 0.007291605874965206),\n",
              " ('calling', 0.007076931103879009),\n",
              " ('she', 0.007069637205779178),\n",
              " ('they', 0.006978940636029365),\n",
              " ('he', 0.0066316271499559775),\n",
              " ('debt', 0.006513555143206685)]"
            ]
          },
          "metadata": {},
          "execution_count": 20
        }
      ]
    },
    {
      "cell_type": "markdown",
      "metadata": {
        "id": "9antKpdC91A-"
      },
      "source": [
        "## Minska antalet teman Topic Reduction\n",
        "Det är också möjligt att minska antalet teman efter att modellen tränats. Fördelen med detta är att du därmed kan välja antal teman efter att du tittat på vilka teman som skapats, istället för att gissa det mest lämpliga antalet baserat på fritexten som ingår i analysen:\n",
        "\n",
        "\n",
        "\n"
      ]
    },
    {
      "cell_type": "code",
      "metadata": {
        "id": "5m4Nd7Us-Peg",
        "colab": {
          "base_uri": "https://localhost:8080/"
        },
        "outputId": "df8323d3-dac7-471a-c737-a0577415b529"
      },
      "source": [
        "topic_model.reduce_topics(sampled_corpus, nr_topics=60)"
      ],
      "execution_count": null,
      "outputs": [
        {
          "output_type": "stream",
          "name": "stderr",
          "text": [
            "2023-08-27 19:32:27,434 - BERTopic - Reduced number of topics from 161 to 60\n"
          ]
        },
        {
          "output_type": "execute_result",
          "data": {
            "text/plain": [
              "<bertopic._bertopic.BERTopic at 0x7fee6a2cfeb0>"
            ]
          },
          "metadata": {},
          "execution_count": 22
        }
      ]
    },
    {
      "cell_type": "code",
      "source": [
        "# Access the newly updated topics with:\n",
        "print(topic_model.topics_)"
      ],
      "metadata": {
        "colab": {
          "base_uri": "https://localhost:8080/"
        },
        "id": "jVAYd7pXJ1_T",
        "outputId": "433d5607-cf1d-421d-9bee-070363f13abb"
      },
      "execution_count": null,
      "outputs": [
        {
          "output_type": "stream",
          "name": "stdout",
          "text": [
            "[0, 32, -1, -1, -1, -1, -1, 0, 0, -1, -1, -1, -1, -1, -1, 14, -1, -1, -1, 4, 6, -1, -1, 4, 0, -1, -1, -1, -1, 20, -1, 48, 5, 0, 25, 11, 24, -1, 4, -1, -1, 23, 51, -1, 0, -1, -1, 7, 1, 5, -1, -1, 48, 1, -1, 4, -1, -1, -1, -1, 0, -1, -1, -1, -1, -1, 0, -1, -1, -1, -1, 19, 35, -1, -1, -1, 0, 37, -1, 0, 54, 6, 58, 51, 30, -1, -1, 19, -1, -1, 0, 2, 45, 32, -1, -1, 21, -1, -1, -1, -1, -1, -1, 3, 2, 0, -1, -1, -1, -1, 11, -1, -1, 15, 14, -1, -1, -1, 0, 5, 5, -1, -1, -1, 9, -1, -1, 2, -1, -1, -1, -1, -1, 0, 55, 2, 21, 1, -1, -1, -1, 11, 31, -1, -1, -1, 11, 10, 0, 7, 4, 4, 55, -1, -1, -1, -1, 3, 8, 16, -1, 2, -1, -1, -1, -1, -1, -1, -1, 25, 24, -1, 28, -1, -1, -1, 0, -1, 4, 0, 6, 0, -1, -1, -1, 2, -1, 31, -1, -1, 5, -1, 2, 13, -1, -1, 14, -1, -1, 10, -1, -1, -1, -1, -1, -1, 18, -1, 53, 13, 4, 44, -1, 5, 4, -1, -1, -1, -1, 2, 0, 34, -1, 6, 1, -1, 1, 4, -1, 0, -1, -1, -1, 40, 0, -1, -1, 0, 0, -1, -1, -1, 25, 39, -1, 7, 2, 6, -1, 29, -1, -1, 40, -1, 23, -1, -1, -1, -1, -1, -1, -1, -1, -1, 32, 21, 32, -1, -1, 32, -1, -1, 2, -1, -1, -1, 14, -1, -1, -1, -1, -1, -1, 0, -1, 2, 3, -1, 24, -1, 32, -1, 22, 15, -1, -1, 7, 2, -1, 1, -1, -1, -1, 19, 54, -1, 24, -1, -1, -1, -1, -1, 13, -1, -1, -1, -1, -1, 2, 20, -1, -1, -1, 10, -1, -1, 49, 0, -1, 4, 42, -1, -1, 0, 24, 18, -1, -1, -1, -1, 10, -1, -1, -1, -1, -1, -1, 3, -1, -1, -1, -1, 56, -1, 3, -1, 0, -1, -1, 11, -1, -1, 31, -1, -1, 0, -1, -1, -1, -1, -1, 0, -1, -1, -1, 0, -1, -1, -1, -1, 1, 18, 15, -1, -1, 0, 0, 44, -1, -1, 49, -1, 6, 0, 0, -1, 58, -1, -1, 33, -1, -1, 0, -1, -1, -1, 29, 11, -1, -1, 0, 28, -1, -1, -1, -1, -1, 9, 0, -1, -1, -1, -1, -1, 9, -1, 11, 0, -1, 4, 2, 3, 0, -1, -1, -1, -1, -1, -1, -1, 12, -1, -1, -1, -1, 25, 1, -1, -1, -1, 6, 47, 31, -1, -1, -1, -1, -1, 0, 30, 0, -1, 5, 7, -1, -1, 24, -1, -1, 5, 35, -1, -1, -1, 0, 20, 46, -1, -1, 13, -1, -1, -1, -1, -1, -1, 0, -1, -1, -1, -1, -1, -1, 30, -1, 8, -1, -1, 0, -1, -1, -1, 23, 10, 4, -1, 16, 28, 1, -1, -1, -1, 45, 0, 0, 18, 7, -1, -1, -1, -1, 14, 8, -1, -1, 0, -1, 0, -1, 0, 49, -1, -1, -1, -1, 2, -1, 47, 2, -1, -1, -1, 18, 30, -1, 3, -1, -1, 2, -1, -1, -1, 14, 4, 0, -1, 0, 12, -1, 4, -1, 14, -1, 0, -1, -1, -1, -1, 15, -1, -1, 5, -1, -1, -1, -1, 0, -1, 3, 12, -1, 7, 4, 29, -1, -1, 3, -1, 0, -1, 26, -1, 3, 0, -1, -1, -1, 2, 0, 1, -1, -1, -1, -1, -1, 42, 28, 1, 7, -1, 1, -1, -1, 46, -1, -1, 1, -1, -1, 5, -1, 23, -1, -1, -1, -1, 19, -1, 15, 0, 0, 22, -1, -1, 7, 13, -1, -1, 20, -1, 7, 26, -1, -1, -1, -1, -1, 21, -1, 0, -1, -1, -1, 5, 19, -1, 58, 8, -1, 15, -1, -1, -1, 0, -1, -1, 0, -1, -1, 24, 0, 17, 29, -1, 1, -1, -1, -1, -1, 25, -1, 16, -1, -1, 12, -1, -1, -1, -1, 36, -1, 2, -1, 8, 35, 5, -1, 17, -1, -1, 48, 0, 5, -1, 40, 42, -1, 0, 3, -1, 0, 16, 54, 6, 1, 22, -1, -1, -1, 5, -1, 39, 3, -1, -1, 5, -1, -1, -1, 18, -1, 14, -1, -1, -1, 2, 14, 26, 0, 0, -1, -1, 0, 14, 0, 4, 12, 0, -1, 5, 44, -1, -1, -1, 31, 17, -1, -1, 25, 0, 2, 19, 47, 0, 10, -1, -1, -1, 32, -1, -1, 21, 7, 4, 1, 0, 0, 32, -1, 34, -1, -1, 58, -1, 8, -1, 8, -1, -1, 24, 0, -1, 0, -1, 5, -1, 48, 37, -1, 1, 51, -1, -1, 12, -1, 4, 37, 1, -1, -1, 39, 20, 2, 0, 55, 53, -1, 44, -1, 6, 0, 13, -1, -1, -1, 0, -1, 10, 0, 59, -1, 32, 2, -1, -1, -1, 1, -1, -1, -1, -1, 43, 24, 2, -1, -1, -1, 8, 35, 1, -1, -1, -1, -1, 49, 15, 0, -1, 14, -1, 0, -1, -1, 11, 57, -1, 7, 25, -1, -1, 22, 27, -1, -1, 5, -1, -1, -1, 0, 44, -1, -1, 10, -1, 2, -1, -1, -1, 3, -1, -1, -1, -1, -1, -1, -1, -1, 1, 0, -1, -1, 0, 2, -1, -1, -1, -1, 59, -1, 59, 25, -1, 21, -1, 38, -1, -1, -1, -1, -1, 37, -1, -1, -1, 41, -1, -1, -1, 1, -1, 0, 0, -1, -1, 16, -1, 0, 4, 0, -1, 17, 15, -1, 20, 7, -1, -1, -1, 57, -1, -1, 40, -1, -1, 1, -1, -1, -1, -1, 0, 9, -1, -1, 0, 15, -1, 13, 0, -1, -1, 41, -1, 0, -1, 18, -1, 0, -1, 9, 4, 0, 7, 37, 0, 2, -1, -1, -1, -1, -1, -1, -1, 0, -1, 32, 17, -1, -1, -1, -1, -1, -1, -1, 0, -1, 1, -1, 4, 3, 23, -1, 9, 20, 20, -1, 4, -1, 0, -1, -1, 3, 12, 0, 20, -1, 0, -1, 6, -1, -1, -1, -1, -1, 0, -1, -1, -1, -1, 7, 36, -1, 29, 25, 34, 41, 11, 26, 54, -1, -1, -1, -1, 55, 0, 3, 7, -1, -1, -1, -1, 27, 1, -1, 29, 1, 0, 54, -1, 0, 3, -1, -1, -1, -1, -1, -1, -1, -1, -1, -1, 11, 16, -1, -1, 2, 2, 39, -1, -1, -1, -1, -1, -1, -1, 1, 0, 9, -1, -1, -1, 4, -1, 24, 0, 16, 18, -1, -1, -1, -1, -1, -1, 2, -1, -1, -1, 0, -1, 22, 4, 0, -1, 17, -1, 16, -1, 1, 2, -1, 13, 11, 3, -1, 31, -1, 40, 16, -1, 0, 7, -1, 4, 2, -1, -1, 47, 50, -1, -1, -1, -1, 4, -1, 22, 0, -1, -1, 3, -1, -1, -1, -1, -1, 1, 22, -1, -1, -1, 5, -1, 33, -1, -1, -1, 0, -1, 0, -1, 17, 6, -1, -1, -1, -1, 34, 0, 0, 0, -1, 6, -1, 7, -1, -1, -1, 16, -1, 0, 0, -1, 2, -1, -1, 35, 1, 39, -1, 19, -1, -1, 0, -1, -1, -1, -1, 0, 5, 0, -1, -1, -1, -1, -1, -1, 4, -1, -1, 1, -1, -1, 16, -1, -1, 21, 5, -1, 14, 15, -1, 31, -1, 16, -1, 0, 56, -1, 8, 29, 37, -1, 0, 56, -1, -1, -1, 21, 17, 39, -1, 5, -1, -1, -1, -1, -1, -1, -1, -1, -1, -1, 4, 12, -1, 13, -1, 38, 0, 0, -1, -1, -1, 5, -1, 59, -1, 14, 40, -1, 0, -1, -1, -1, 0, 6, -1, -1, 6, -1, -1, -1, 51, 0, 34, 1, -1, 2, -1, -1, 0, -1, 36, -1, 13, -1, 34, 45, -1, 19, 3, -1, 2, -1, 0, -1, 6, -1, 46, -1, -1, -1, 2, 25, -1, -1, -1, -1, -1, 15, 1, -1, 7, -1, 6, 10, 9, -1, -1, -1, 59, 11, 1, 50, -1, 2, 11, 22, -1, 24, 3, 41, 20, -1, -1, -1, 22, 7, 3, -1, -1, 33, 2, -1, -1, -1, -1, -1, -1, -1, -1, 41, -1, 31, -1, -1, 33, 4, 42, 0, -1, -1, -1, -1, -1, -1, 3, 1, -1, -1, 0, -1, -1, -1, 0, -1, 46, 37, -1, 21, 14, -1, -1, 0, -1, 32, 2, 5, -1, 35, 0, 7, -1, 17, -1, 3, -1, -1, -1, -1, 3, 4, -1, 0, -1, 0, 32, 9, -1, -1, 1, -1, -1, -1, -1, 43, -1, -1, -1, 0, 2, 49, -1, 11, 1, 0, 2, 0, -1, -1, 11, 0, -1, -1, 3, -1, 20, 22, 1, 24, -1, 0, 40, 2, -1, -1, -1, 1, -1, 4, -1, -1, -1, -1, -1, 0, 30, 45, 56, -1, -1, 0, -1, 6, -1, -1, -1, -1, -1, 19, -1, -1, -1, 0, 5, -1, 27, 3, -1, -1, -1, -1, -1, 17, 23, -1, 28, -1, 36, 58, -1, -1, -1, 1, 3, -1, 4, -1, 55, 31, 7, 26, 34, 0, 1, -1, 7, 4, -1, -1, 0, 39, 25, -1, -1, 52, -1, -1, -1, 2, -1, -1, 58, 0, -1, 8, -1, -1, 12, -1, 21, -1, -1, -1, 3, -1, -1, 36, -1, -1, 17, -1, -1, -1, 16, -1, 46, -1, -1, 10, -1, 35, -1, 15, 6, -1, 0, -1, -1, -1, 6, -1, 40, 8, 15, 52, -1, -1, -1, 33, 15, 27, -1, -1, -1, -1, -1, -1, -1, -1, -1, -1, 43, -1, -1, -1, 20, 4, 3, -1, -1, -1, 51, -1, -1, -1, -1, -1, 0, -1, -1, -1, 0, 1, -1, -1, -1, -1, 0, -1, 0, -1, 35, -1, -1, 8, -1, 15, 40, 26, 32, 2, -1, -1, -1, -1, 6, -1, 0, 1, -1, -1, -1, -1, 6, -1, 1, -1, -1, 9, 11, -1, 0, 17, -1, 10, -1, 0, -1, -1, 3, -1, -1, 0, -1, -1, 0, -1, -1, -1, -1, -1, 5, 17, -1, -1, 1, -1, -1, 1, 43, 0, -1, 4, 0, 0, 10, 3, 22, 0, -1, -1, -1, -1, 5, -1, 21, 10, 3, -1, -1, -1, 1, 30, -1, 8, 2, -1, -1, -1, -1, 0, 24, 18, 1, -1, 4, 31, -1, -1, 52, -1, 0, 5, -1, 57, -1, -1, -1, -1, -1, -1, 31, -1, 0, 0, -1, 2, 44, -1, 8, -1, 0, 0, -1, -1, -1, -1, -1, 4, 4, 10, -1, 0, 3, 12, -1, 42, 10, 0, -1, 26, 49, 19, -1, 0, -1, -1, 7, -1, -1, 58, 53, -1, 26, -1, 5, -1, -1, -1, -1, -1, -1, 8, 31, 0, -1, 36, -1, -1, 7, -1, -1, -1, 1, 26, 2, -1, 29, -1, 8, -1, 15, -1, -1, 25, 3, -1, -1, 9, -1, 13, 51, -1, -1, -1, -1, 1, -1, -1, -1, -1, 1, -1, -1, 4, 6, 34, 9, -1, -1, -1, 20, -1, -1, 1, 0, -1, 0, -1, 3, 1, 3, -1, -1, -1, 2, 1, -1, 0, 8, 0, -1, 51, -1, 6, -1, 27, 51, -1, 0, -1, -1, -1, -1, -1, -1, -1, 31, 25, -1, 8, -1, 20, 15, -1, 1, 0, 12, 4, 0, 0, -1, -1, 3, -1, -1, 1, -1, 2, -1, -1, -1, 20, -1, 48, 34, -1, -1, -1, -1, -1, 11, 0, -1, 25, -1, 1, -1, -1, 10, -1, -1, 0, -1, -1, -1, -1, -1, 1, 2, 0, 43, -1, 59, 13, 0, 55, -1, 1, -1, -1, 0, 4, -1, -1, -1, -1, 13, 0, -1, -1, 8, -1, 9, -1, 1, -1, 20, 52, -1, 5, -1, -1, 7, 49, -1, 0, -1, -1, 29, -1, 40, 1, 50, -1, 55, -1, -1, -1, 2, 39, -1, -1, -1, -1, -1, 0, -1, -1, 0, -1, -1, 4, -1, 7, 1, 58, -1, -1, 14, -1, 38, 15, -1, -1, 21, 5, 0, -1, -1, -1, -1, -1, 37, 44, 12, 2, 0, -1, -1, -1, 2, -1, -1, -1, 0, -1, 0, 0, 2, -1, 0, -1, -1, 3, 3, -1, -1, 6, 0, -1, -1, 8, 0, 19, 0, 2, -1, -1, 14, 23, -1, 42, 47, 0, -1, -1, -1, -1, 59, 0, 14, 1, 48, 4, -1, -1, 0, 0, -1, -1, -1, 0, 43, 12, -1, -1, 1, -1, -1, -1, -1, -1, 40, -1, 9, -1, -1, 15, -1, 0, 4, 8, 7, -1, -1, 2, -1, -1, 28, -1, -1, 2, -1, 26, 18, 57, -1, -1, 15, -1, 3, -1, -1, 17, -1, -1, 42, -1, -1, 32, -1, -1, -1, -1, -1, -1, 17, -1, 29, -1, -1, 47, 0, -1, -1, -1, -1, 5, -1, -1, -1, 0, -1, 41, -1, 20, -1, 0, -1, 8, 2, 3, 7, -1, -1, 54, 11, 21, 1, 0, -1, -1, 2, -1, 4, -1, -1, -1, -1, -1, -1, -1, -1, -1, 18, -1, 51, 30, 1, -1, -1, -1, 3, 14, 23, 40, -1, 0, 2, -1, -1, 33, 2, -1, -1, -1, -1, -1, -1, -1, 0, 0, -1, 23, -1, 0, 1, -1, -1, 12, -1, -1, -1, 50, -1, -1, 0, -1, 5, 36, -1, 12, 5, 57, 4, -1, 43, -1, -1, 56, -1, 3, -1, 21, 0, -1, 24, 2, -1, 0, 10, -1, 30, 54, -1, -1, 0, -1, -1, -1, 33, 20, -1, -1, -1, 37, -1, 9, -1, -1, 6, 13, -1, 0, -1, -1, 32, 0, 0, -1, -1, -1, 0, 28, 3, -1, 3, 4, 2, 0, 5, -1, -1, -1, 29, -1, -1, 0, 1, -1, -1, 15, -1, -1, 0, 2, 3, 9, -1, -1, -1, -1, -1, -1, -1, 4, -1, 8, -1, -1, 1, 34, -1, 3, 34, -1, 30, -1, 0, -1, -1, -1, -1, 2, -1, 2, 24, -1, -1, 0, 5, 0, -1, -1, -1, 8, -1, 51, -1, 15, -1, -1, -1, -1, 3, -1, -1, -1, -1, 0, 0, -1, 17, -1, -1, 9, 8, -1, -1, -1, -1, 42, -1, 0, -1, -1, -1, -1, -1, -1, -1, -1, -1, -1, 14, -1, -1, -1, -1, -1, -1, -1, 1, 31, -1, -1, -1, 0, -1, -1, 19, 2, 1, -1, 4, -1, -1, -1, -1, -1, -1, -1, 1, 1, 22, 55, 10, 3, -1, -1, -1, -1, -1, 2, -1, 0, -1, -1, -1, -1, 2, 11, 0, -1, 0, -1, 19, -1, 32, 30, 0, -1, -1, 0, -1, 9, 1, 56, 3, 3, 9, -1, -1, 14, 3, -1, 7, 0, 0, -1, -1, 2, -1, -1, -1, 1, 11, 2, 3, 3, 6, -1, 2, 0, -1, 34, -1, 10, -1, 6, -1, -1, 22, -1, -1, 0, 0, -1, -1, 4, 0, 0, -1, 0, -1, -1, -1, 0, 31, 1, -1, -1, -1, 0, -1, -1, 0, 12, -1, 0, -1, 0, 8, 2, 23, -1, -1, -1, 35, 0, -1, -1, -1, -1, -1, 46, 30, -1, -1, -1, -1, 6, -1, -1, -1, -1, -1, -1, -1, -1, -1, -1, -1, -1, -1, -1, 48, 0, -1, -1, -1, -1, 1, 7, -1, 31, -1, 1, -1, 48, 43, -1, -1, -1, 52, 2, -1, 1, -1, -1, 49, -1, -1, -1, -1, 13, -1, 0, 27, 0, -1, 1, 1, -1, 2, 34, 8, 36, -1, -1, 0, 20, -1, -1, 39, -1, 14, -1, 8, 0, -1, 1, -1, 14, -1, -1, 13, -1, -1, 4, -1, -1, -1, -1, 0, -1, 4, 43, 3, 23, 17, -1, -1, -1, -1, -1, -1, -1, -1, -1, 9, -1, -1, -1, -1, 9, 0, -1, -1, 28, -1, 16, 6, -1, 0, -1, 11, -1, 0, 0, 2, -1, -1, -1, -1, -1, 6, 0, -1, 0, 3, -1, 5, -1, 0, 21, -1, 1, -1, -1, 3, -1, -1, 29, -1, 2, -1, 31, 1, 0, -1, -1, 11, 19, -1, 0, 1, 50, -1, 10, 36, 1, -1, -1, -1, 1, -1, 41, -1, -1, 0, 0, -1, 3, 0, 59, 58, 4, 0, -1, -1, -1, 9, -1, -1, -1, -1, -1, 37, 6, -1, 9, -1, -1, 45, -1, 1, 14, 0, 0, -1, 25, -1, 6, 1, -1, -1, 0, -1, -1, 3, 3, 1, 3, -1, 37, 0, 19, -1, 12, -1, 11, -1, 51, -1, -1, 1, -1, 0, -1, 30, -1, 3, -1, -1, 0, -1, 28, -1, 31, 30, -1, -1, -1, 57, -1, 0, -1, -1, -1, -1, -1, 16, 32, 1, -1, 0, 0, -1, 37, -1, -1, -1, 4, -1, 36, 31, -1, 58, -1, -1, 48, 1, 50, -1, 7, -1, 20, -1, -1, 27, 10, 2, 0, -1, -1, -1, 1, -1, 44, -1, 13, -1, 28, -1, -1, -1, 1, 9, -1, -1, 11, 3, 15, -1, -1, 22, -1, -1, -1, 47, -1, 4, -1, -1, -1, 4, -1, -1, 1, -1, -1, 42, 0, -1, 2, 3, -1, -1, -1, -1, -1, -1, 16, -1, -1, 0, 0, -1, -1, -1, -1, -1, 1, -1, 25, 6, 9, -1, -1, -1, -1, 0, -1, -1, 30, -1, 0, -1, -1, -1, -1, 45, -1, -1, 2, -1, 2, 3, -1, 1, -1, -1, -1, 9, 19, -1, 44, 15, -1, -1, 24, 0, 4, -1, 42, -1, 0, 18, 32, -1, -1, -1, 1, -1, -1, -1, 0, -1, -1, 26, 4, -1, -1, -1, -1, -1, 0, -1, -1, -1, -1, -1, -1, -1, 45, -1, -1, 2, -1, -1, -1, -1, -1, -1, -1, 5, -1, -1, 2, -1, -1, 0, -1, 2, -1, -1, 7, -1, -1, -1, 38, 4, -1, 11, 12, 24, 27, -1, -1, 1, -1, -1, -1, 53, -1, -1, -1, -1, 6, -1, 35, 35, 2, 7, -1, -1, 2, -1, -1, 14, 49, 30, -1, 5, -1, -1, -1, 0, 0, 3, -1, -1, -1, -1, -1, -1, 0, -1, 11, -1, 0, 0, -1, -1, -1, -1, 14, -1, 0, -1, -1, -1, -1, 13, 5, 53, -1, -1, 0, 15, -1, 0, -1, -1, 3, -1, -1, 56, -1, -1, 1, -1, -1, 2, -1, -1, -1, 14, -1, 0, -1, 5, 1, 5, 3, 0, 13, 0, 19, -1, 17, -1, 0, 0, 4, -1, -1, -1, -1, 17, 16, 39, -1, -1, -1, -1, -1, -1, -1, -1, -1, -1, -1, 17, -1, -1, -1, 0, 6, 12, -1, 0, -1, -1, 2, -1, -1, -1, 27, 18, 0, 2, -1, -1, -1, -1, 3, -1, -1, -1, 19, -1, -1, 38, -1, -1, 0, 0, 34, 7, -1, 0, 5, -1, -1, -1, -1, -1, -1, -1, -1, 13, 44, -1, -1, 0, -1, -1, -1, 9, 7, -1, 4, 2, 46, -1, -1, -1, 0, -1, -1, -1, -1, -1, 0, -1, 12, 42, 37, 0, -1, -1, 33, 1, -1, -1, -1, -1, -1, -1, 13, 3, -1, 53, 4, 4, -1, 4, 54, -1, 0, 0, -1, -1, 7, -1, -1, -1, -1, 0, -1, 0, -1, -1, -1, -1, 2, -1, -1, -1, -1, -1, 0, 4, -1, -1, -1, -1, 7, -1, 5, -1, -1, -1, -1, 2, -1, 2, 59, -1, 35, -1, 25, 18, 51, 0, 41, 3, -1, -1, -1, -1, -1, 0, 24, -1, 29, -1, 39, -1, 14, 0, -1, 33, -1, 13, 0, 0, 0, -1, -1, -1, 9, -1, 0, -1, -1, -1, -1, 3, 2, -1, -1, -1, -1, -1, 44, -1, -1, 5, -1, -1, -1, 22, 12, -1, 1, 0, -1, 3, -1, 22, 1, 3, -1, -1, 0, 1, 46, 1, 2, 1, 1, -1, -1, -1, -1, -1, 0, -1, -1, 1, -1, 1, -1, -1, -1, 16, 8, 29, -1, -1, -1, 45, -1, 0, -1, 25, 33, -1, -1, -1, -1, 0, 19, 10, 10, -1, -1, 4, 33, -1, 2, 31, -1, -1, 24, 4, 0, -1, 34, -1, 52, -1, 0, 7, 55, 5, 3, -1, 10, 4, 0, 0, -1, -1, 49, 0, 0, 10, -1, 19, 13, -1, -1, 58, 22, 52, -1, -1, 0, -1, 3, -1, 50, 35, -1, -1, 6, 22, -1, -1, -1, 13, -1, 8, -1, -1, 6, -1, -1, 57, -1, -1, -1, -1, -1, -1, 0, 50, 0, -1, 1, 5, 1, 19, 9, 0, -1, 58, -1, -1, -1, 0, 5, 42, 0, -1, -1, -1, 12, -1, -1, -1, -1, 0, -1, -1, -1, -1, -1, 9, -1, -1, 0, -1, -1, 57, 25, -1, 13, -1, 0, -1, 13, 10, 0, 2, 36, 4, -1, -1, -1, 33, -1, -1, -1, -1, 0, -1, -1, -1, 2, -1, -1, -1, -1, -1, -1, -1, -1, -1, 5, 0, -1, -1, 6, -1, 0, 44, -1, 7, -1, 23, 2, -1, -1, -1, -1, 15, 40, 52, 1, -1, -1, -1, 2, 3, 1, -1, -1, 12, -1, -1, -1, 0, 6, -1, 16, -1, -1, -1, -1, 0, -1, -1, 21, 5, 0, -1, -1, -1, -1, -1, 4, 23, 30, 36, 5, -1, 0, 0, 41, -1, 0, 9, 11, -1, 0, 0, -1, 26, -1, 0, -1, -1, 44, 6, 2, -1, 11, -1, 48, 0, -1, 10, 2, -1, -1, 35, -1, 4, -1, -1, -1, -1, 0, -1, -1, 7, 20, -1, -1, 42, -1, -1, 0, 0, 26, 46, 16, 4, -1, 4, -1, 46, -1, -1, -1, 0, -1, -1, 13, -1, -1, -1, -1, -1, -1, 1, 31, 22, 6, 3, 3, -1, 6, -1, 1, 1, -1, -1, -1, 22, 2, 1, 7, -1, -1, -1, -1, 5, -1, 1, -1, -1, -1, -1, -1, -1, -1, 5, -1, -1, 33, 5, 2, -1, 51, 15, -1, -1, 1, -1, -1, -1, 3, -1, 0, 4, -1, -1, 0, -1, 2, -1, 3, -1, 4, -1, -1, 3, 0, -1, 23, 26, -1, -1, 0, -1, -1, 6, 0, -1, -1, 8, -1, 0, -1, 56, -1, 10, 1, -1, 6, 0, 46, 4, -1, -1, -1, -1, -1, -1, -1, -1, 3, 6, 4, 5, 0, -1, -1, -1, 4, 19, -1, -1, -1, -1, -1, 15, 0, -1, 19, -1, 14, -1, -1, 53, -1, 3, -1, -1, -1, -1, -1, 0, 0, 0, -1, -1, -1, 21, -1, 1, 6, -1, -1, 19, 2, 23, -1, 21, 16, -1, -1, -1, 0, -1, 3, 12, -1, -1, 44, 2, -1, 7, -1, -1, 2, -1, -1, -1, 3, -1, -1, -1, 0, -1, -1, -1, 23, -1, 14, -1, 0, 16, -1, -1, -1, 47, -1, -1, -1, 22, -1, -1, 17, -1, 0, 0, 2, -1, 7, -1, 2, -1, 5, 17, 40, 15, -1, -1, 22, -1, -1, 45, -1, 38, 37, -1, -1, -1, 1, -1, -1, 50, -1, -1, 2, -1, 0, -1, 10, -1, 24, -1, -1, 0, 29, -1, -1, 16, 1, 7, 1, -1, 0, 1, -1, -1, -1, 7, -1, 0, 0, 0, -1, -1, -1, -1, 11, 54, 11, -1, 13, 4, -1, -1, -1, -1, 57, 0, 0, 0, -1, -1, -1, -1, -1, 16, -1, 0, 5, -1, -1, 35, -1, 0, -1, 2, 1, 11, 0, 1, -1, 21, -1, 3, 0, -1, -1, 9, -1, 0, -1, -1, -1, -1, 4, 17, 30, -1, 41, 18, 59, 2, 2, 4, -1, 36, 48, -1, 0, -1, -1, -1, 10, 34, 21, -1, 59, -1, 30, 19, -1, -1, -1, -1, 14, 4, 21, 5, 57, 4, 12, -1, 0, 3, 3, -1, -1, 51, 3, 3, 2, 0, 13, 0, 19, -1, -1, 34, 43, -1, 8, -1, 50, 3, 36, -1, -1, 3, -1, -1, -1, 25, -1, -1, 24, 10, 22, -1, 0, -1, 32, -1, -1, -1, 14, -1, 19, 1, 0, -1, -1, -1, -1, 7, -1, 39, 52, 42, -1, -1, -1, -1, 2, 36, -1, 19, -1, -1, -1, -1, -1, -1, 24, -1, -1, -1, -1, -1, -1, 21, 21, -1, 28, -1, 6, 2, -1, 2, -1, -1, -1, -1, 49, 13, -1, 26, -1, -1, -1, 37, -1, -1, 0, 30, -1, -1, -1, -1, 2, -1, -1, -1, 1, 0, -1, -1, 15, -1, -1, -1, -1, -1, 1, 3, -1, -1, -1, 16, 39, -1, -1, -1, -1, 12, -1, -1, 10, -1, -1, 34, 16, -1, -1, 3, -1, 0, 7, -1, -1, 18, 2, -1, 2, 0, -1, 1, 21, 36, -1, -1, 35, 3, -1, 6, 0, -1, -1, -1, 45, -1, -1, 34, 2, 37, 15, 3, -1, -1, -1, -1, -1, -1, -1, 15, 18, -1, 2, 6, 0, -1, -1, 48, 0, -1, -1, -1, -1, -1, 2, 6, 40, -1, -1, 46, -1, 13, 58, 0, 3, -1, -1, 50, -1, -1, 25, -1, -1, -1, -1, -1, 0, -1, 54, 2, -1, 26, -1, -1, 20, 25, 0, 2, -1, -1, -1, -1, -1, 9, -1, 3, 0, -1, 1, -1, -1, -1, 7, 57, -1, 0, 19, 16, -1, -1, 0, 47, -1, -1, -1, -1, 47, -1, -1, -1, 30, 3, -1, 0, 5, -1, -1, 17, 26, -1, 2, 7, -1, 52, -1, 2, -1, 0, 55, -1, -1, -1, 17, 0, 44, -1, 20, 23, -1, 3, 1, 3, 20, -1, 45, -1, -1, -1, 28, 7, -1, 9, 0, 0, -1, -1, 2, 0, -1, -1, -1, 1, -1, 52, 0, -1, 8, -1, -1, -1, -1, -1, -1, -1, 1, 3, 41, 36, 3, -1, -1, 6, 0, 7, -1, -1, -1, -1, -1, -1, -1, 1, -1, 1, -1, -1, -1, -1, 0, 26, -1, 29, 2, -1, 41, -1, 0, -1, -1, 32, -1, -1, -1, 12, 18, -1, -1, -1, 2, -1, 0, -1, -1, 41, -1, -1, 32, 1, 36, -1, 4, -1, -1, 0, 17, -1, -1, 1, 6, 8, 2, 0, -1, -1, 3, -1, 28, 21, -1, 3, -1, 3, -1, -1, -1, 0, 22, 0, 14, -1, 35, -1, -1, -1, -1, 3, -1, 1, 31, -1, -1, 10, -1, -1, -1, 0, -1, -1, -1, 2, -1, 48, -1, -1, -1, 30, 47, 2, -1, -1, -1, 0, -1, 58, -1, 12, -1, -1, -1, 0, -1, 12, 24, 3, -1, 30, 22, -1, -1, -1, 13, -1, 43, -1, -1, -1, -1, -1, -1, -1, -1, -1, -1, -1, -1, 16, 0, -1, -1, -1, -1, 6, 43, -1, -1, 0, -1, 9, 16, -1, 2, 1, 8, 0, -1, -1, -1, -1, 3, -1, 22, 9, 0, 3, 3, -1, -1, -1, 1, 4, 19, 31, -1, 55, -1, 47, 0, 36, 0, 16, 41, -1, -1, 2, 10, -1, -1, 10, -1, 9, -1, -1, -1, 4, 0, 3, 19, 0, -1, -1, -1, -1, 28, -1, 3, -1, -1, 18, -1, -1, -1, 5, 3, 12, 33, 0, 12, 8, -1, -1, -1, -1, 6, 34, 54, -1, -1, -1, -1, -1, -1, -1, 1, -1, -1, 23, -1, -1, 15, 28, 21, -1, -1, 4, -1, -1, 3, -1, 58, 35, -1, -1, -1, -1, 31, 32, -1, 41, -1, -1, 3, -1, -1, 0, 10, -1, -1, 7, 19, -1, -1, 2, -1, 10, -1, -1, -1, -1, -1, -1, 19, 10, 32, 40, -1, -1, -1, -1, -1, 0, -1, 32, -1, -1, -1, 16, -1, -1, 1, 0, 45, -1, -1, -1, -1, 0, -1, -1, 5, 0, -1, 31, -1, 2, 11, -1, 19, 40, -1, -1, -1, 36, 16, 9, 47, 50, -1, -1, 26, 0, 12, 4, 4, 30, 32, 3, 0, 8, -1, -1, 3, 0, -1, 0, -1, -1, 7, 0, -1, -1, -1, 19, -1, 20, -1, -1, 50, -1, -1, -1, -1, -1, -1, -1, -1, 21, -1, -1, 0, -1, 16, 49, -1, -1, 0, 49, 54, -1, -1, 0, -1, -1, 18, 5, -1, -1, -1, -1, 3, 57, 5, -1, 0, 3, 2, -1, -1, -1, 30, -1, 6, 0, -1, 16, -1, -1, -1, 10, -1, 1, 40, 5, 7, 11, 21, -1, -1, -1, -1, 38, -1, 21, 11, -1, -1, -1, -1, 4, 3, 0, -1, -1, -1, -1, 0, -1, 0, -1, -1, 0, -1, -1, 19, 18, 26, 0, 41, 11, 6, 22, -1, -1, -1, -1, 17, -1, 11, 3, -1, 4, 11, 8, -1, -1, 2, 50, -1, 19, -1, -1, 3, 1, 8, 1, 9, 6, -1, -1, -1, -1, 24, -1, 35, -1, -1, -1, 0, -1, -1, 4, -1, 13, -1, -1, 1, -1, -1, 4, -1, 1, -1, -1, 58, -1, 0, 0, -1, 6, -1, -1, 6, -1, -1, -1, 39, 12, -1, -1, -1, 17, -1, -1, -1, -1, -1, 1, -1, -1, 2, -1, -1, 17, -1, 38, 13, -1, -1, 0, 2, 55, 4, -1, 0, -1, 0, -1, 50, 1, 0, 27, -1, 2, 2, -1, 3, -1, 51, -1, -1, 14, -1, -1, 3, -1, 13, -1, -1, -1, 3, 20, 44, -1, -1, 4, -1, -1, -1, -1, -1, -1, 10, -1, -1, -1, -1, 16, -1, 3, -1, -1, -1, 18, 0, -1, -1, 21, -1, 13, 34, -1, 37, -1, -1, 0, -1, 0, 4, -1, 2, 0, -1, -1, -1, -1, 0, 45, 25, 24, 6, 45, -1, 2, -1, -1, 2, -1, -1, 55, -1, -1, 40, -1, 49, -1, 12, -1, -1, 0, -1, 7, -1, -1, 0, -1, 22, -1, 56, -1, -1, -1, 0, 17, 0, 15, -1, 16, -1, 1, -1, 0, -1, 21, -1, 25, -1, -1, -1, -1, -1, 7, 58, -1, -1, 4, 27, 0, 2, -1, -1, -1, -1, -1, 54, 0, 0, -1, 25, 11, 25, -1, -1, 48, 18, -1, -1, -1, -1, -1, 1, -1, -1, 0, 0, -1, 19, -1, 52, 55, 17, 5, 2, 53, -1, -1, -1, -1, 0, 23, 4, 9, -1, 2, -1, 40, -1, 6, -1, -1, -1, 0, 18, 40, 26, 0, -1, 3, 1, -1, 27, -1, -1, -1, 2, 0, -1, -1, 4, -1, -1, -1, 0, 30, 4, 2, -1, 1, -1, 32, -1, 22, 7, 16, -1, -1, 7, 15, 12, -1, -1, -1, 8, 0, 14, -1, -1, -1, 3, 26, 2, 17, -1, 0, 30, -1, 59, 0, -1, 8, -1, -1, 6, 45, 9, 8, -1, 47, 0, 3, -1, -1, -1, 23, 3, 29, 37, 37, 7, 35, 10, -1, -1, -1, 0, 1, 29, 0, 2, 7, -1, -1, 19, -1, -1, 0, -1, 50, 39, -1, -1, -1, 5, -1, 6, 3, 26, 29, 4, 3, 51, -1, 0, -1, -1, -1, 4, -1, -1, 17, -1, 24, -1, -1, 28, -1, -1, 25, 29, -1, -1, 0, -1, -1, -1, 4, -1, 2, 42, 1, -1, 0, -1, -1, 0, 0, 0, -1, -1, 0, 14, 42, 13, 2, 10, -1, 14, -1, 12, -1, 0, 0, -1, -1, 3, -1, 42, 19, 0, -1, -1, 0, -1, 6, -1, 41, -1, -1, 55, -1, -1, -1, -1, -1, -1, 41, -1, -1, 0, 5, 1, -1, 2, -1, 0, -1, 2, -1, -1, 22, -1, -1, 0, 6, -1, 9, 1, 48, -1, 42, -1, -1, -1, -1, -1, 22, 21, -1, 6, 25, 0, -1, -1, 5, 0, 11, 0, 0, -1, 19, 0, -1, -1, -1, -1, 12, 0, -1, 0, -1, 1, 6, 9, -1, -1, -1, -1, 1, 3, -1, 1, 0, 10, -1, 58, -1, 0, -1, 2, -1, -1, -1, -1, 25, 39, -1, -1, -1, 4, 0, -1, -1, -1, 58, -1, -1, 43, 8, 19, -1, -1, 5, -1, 23, -1, 38, 54, -1, -1, 2, 54, -1, -1, 0, 21, -1, -1, 16, -1, 30, -1, -1, 16, -1, -1, -1, -1, -1, 0, -1, -1, 4, 0, -1, 1, -1, -1, -1, 0, -1, -1, 0, 31, -1, 46, 54, -1, 36, 0, 0, -1, -1, -1, 8, 28, 0, -1, -1, 9, 42, -1, -1, 16, -1, 47, -1, -1, 0, 0, 4, -1, -1, -1, 5, 18, -1, -1, -1, 37, 7, 18, -1, -1, 0, -1, 0, 8, -1, 11, 22, -1, 16, -1, 14, 1, -1, 0, -1, -1, 9, -1, -1, -1, 0, -1, -1, 4, -1, 12, -1, 12, -1, -1, 22, -1, -1, 9, -1, 48, 0, 5, -1, -1, -1, -1, 3, -1, 0, 37, 37, -1, 2, -1, 34, 11, -1, 1, -1, 0, 58, -1, -1, -1, -1, -1, -1, 0, -1, 16, 0, -1, 7, -1, -1, -1, 28, -1, 3, -1, -1, -1, -1, 2, 52, -1, -1, 42, 28, 2, -1, -1, -1, 1, -1, 13, 7, -1, 2, 3, -1, 38, -1, -1, -1, 11, -1, 0, -1, -1, -1, -1, 17, -1, -1, -1, 1, -1, 50, -1, -1, -1, 4, 5, 6, 23, 13, 23, 0, -1, 22, 34, -1, -1, -1, -1, -1, 53, 0, 34, 5, -1, -1, -1, 3, 3, -1, -1, -1, 0, -1, 26, 59, -1, 0, -1, 54, 8, -1, 3, -1, 4, 4, -1, -1, -1, -1, -1, -1, -1, 51, -1, 8, 55, -1, -1, 5, 0, -1, 0, -1, -1, 4, 7, 0, 6, 4, 0, 38, -1, 9, -1, 0, 6, -1, 6, -1, 0, -1, 3, 22, 0, -1, -1, -1, 0, -1, 18, 1, 4, -1, -1, -1, 26, -1, -1, -1, -1, -1, -1, 14, -1, 35, 4, -1, 0, 25, -1, -1, 39, -1, 3, 6, -1, -1, -1, 4, -1, 0, -1, 32, 24, 0, 24, 20, -1, -1, -1, 11, -1, 2, -1, -1, -1, -1, -1, 30, -1, -1, -1, 0, -1, -1, -1, -1, -1, 17, 0, -1, 52, -1, 0, -1, -1, 13, -1, -1, -1, -1, 33, 6, -1, 7, 23, -1, -1, 1, -1, 46, 0, 54, -1, 42, -1, -1, -1, -1, -1, -1, 6, 20, 1, -1, -1, 0, -1, 0, 34, 51, 1, -1, -1, 17, -1, -1, 5, 3, 14, -1, -1, 3, -1, -1, -1, -1, -1, -1, 2, 12, 0, 1, 0, 42, 8, 0, 1, -1, 0, 4, 23, -1, -1, 13, -1, 0, -1, 38, 20, 1, -1, 51, 4, -1, 33, -1, 0, 6, 55, 17, 3, 1, -1, -1, -1, -1, -1, 33, 4, -1, -1, 0, -1, -1, -1, 48, 23, -1, 0, -1, -1, 8, -1, -1, -1, -1, 49, 4, -1, 33, 23, 5, 0, -1, -1, -1, 8, -1, 1, -1, -1, 24, 0, 41, 0, -1, -1, 57, 1, -1, -1, 8, 10, 35, 21, -1, -1, -1, 46, -1, -1, -1, 18, 45, 42, 0, -1, -1, -1, -1, 34, -1, -1, -1, -1, -1, 7, 24, 59, 4, 0, -1, 0, 0, -1, -1, 15, -1, -1, -1, 14, 0, -1, -1, -1, 3, 2, -1, -1, 3, -1, 4, -1, 6, -1, 1, 3, 33, 3, 1, 15, -1, -1, 35, -1, -1, -1, -1, -1, -1, 18, -1, 18, 7, 0, -1, -1, 9, -1, 1, 4, 0, 2, 0, -1, 0, 0, 16, -1, 11, -1, -1, -1, -1, -1, -1, 8, -1, 1, 29, -1, 7, 0, 30, -1, 38, 22, 43, -1, 18, -1, 5, -1, 0, -1, -1, 20, 39, -1, 2, 35, -1, -1, -1, -1, -1, -1, -1, 50, -1, -1, -1, -1, -1, 0, 53, 20, -1, -1, 0, 13, -1, -1, 41, -1, -1, -1, -1, -1, -1, 2, -1, 1, 38, 18, -1, 32, -1, 47, 5, -1, -1, 18, 0, 44, 42, -1, 46, -1, 16, 50, 0, -1, 53, 3, 0, 39, 3, 0, 22, -1, -1, -1, -1, -1, -1, 1, 0, -1, -1, -1, -1, 33, -1, -1, 26, 1, 12, 9, -1, 6, -1, -1, 6, 32, -1, 5, -1, 24, 3, -1, -1, 48, -1, 0, -1, 7, 22, -1, 10, 32, 6, -1, -1, 2, 6, 0, -1, 42, 0, -1, -1, -1, -1, 41, 11, 1, 3, 5, 2, 40, 14, -1, -1, 0, -1, 0, -1, 45, 15, -1, 17, 0, -1, -1, -1, -1, 1, -1, 0, 34, 16, 1, -1, 28, -1, 29, -1, 0, -1, 14, 44, 0, 3, 0, 3, 1, 13, -1, 4, -1, -1, -1, 1, 37, 14, -1, -1, 37, -1, 5, -1, -1, 0, 0, -1, -1, -1, -1, -1, -1, 55, 5, 15, 4, -1, -1, 13, -1, 38, -1, 34, -1, 4, -1, 32, 45, 0, 15, 7, 12, -1, 4, 6, 1, -1, -1, 7, -1, 3, -1, 16, -1, -1, -1, -1, -1, 9, 5, -1, 15, -1, 10, -1, -1, 20, -1, -1, 0, 7, 2, -1, -1, 0, -1, -1, -1, -1, 4, -1, 55, 3, 14, -1, -1, -1, -1, -1, 0, -1, -1, -1, -1, -1, 0, 12, -1, -1, 3, -1, -1, 2, -1, -1, 48, 16, 3, -1, 44, -1, 0, -1, -1, 4, -1, 0, 0, 7, -1, -1, -1, -1, -1, 0, -1, -1, 15, -1, -1, -1, -1, -1, -1, -1, -1, -1, 0, -1, 2, 54, 8, -1, 50, 3, 6, -1, -1, -1, -1, -1, -1, 38, 20, -1, 25, -1, 57, -1, -1, -1, -1, -1, 23, -1, -1, -1, 0, -1, -1, 0, -1, 1, 3, -1, -1, 40, -1, 24, 48, 17, 36, 1, -1, -1, 15, -1, -1, 0, -1, -1, 12, 8, -1, -1, -1, -1, 19, 0, -1, -1, -1, 0, -1, 3, -1, -1, -1, 9, 21, 7, 0, 16, -1, 0, -1, -1, -1, -1, -1, 21, 13, -1, -1, 21, -1, 0, -1, -1, 52, 26, 4, 4, 2, 12, -1, -1, 1, -1, 52, -1, -1, -1, -1, 25, -1, -1, -1, 6, -1, -1, -1, 0, 1, 21, 0, 1, 1, 51, -1, -1, -1, 1, -1, 0, -1, 37, -1, 0, 17, 0, 13, -1, 29, -1, -1, -1, -1, -1, 5, -1, 46, -1, 7, -1, -1, 18, 44, -1, 0, 28, 8, 13, 12, -1, -1, 8, 9, -1, 59, -1, -1, -1, -1, 1, -1, 0, -1, -1, 19, -1, -1, -1, -1, -1, -1, -1, 30, 0, 7, -1, 0, 1, 27, 3, -1, 45, -1, -1, 0, 3, -1, 5, 4, 1, 5, -1, 15, 45, 20, 1, -1, -1, -1, -1, -1, 2, -1, 6, 12, 0, -1, 2, -1, -1, -1, -1, -1, 0, -1, 18, 0, -1, 0, 29, -1, -1, -1, -1, -1, 41, 0, 11, 2, -1, -1, -1, 23, -1, 1, -1, -1, 4, 0, 9, 55, 12, -1, -1, -1, -1, 12, -1, -1, -1, -1, -1, 2, -1, 13, -1, 0, 28, 7, -1, -1, 0, -1, -1, 2, 0, 0, -1, 0, -1, 0, 7, -1, 0, -1, -1, -1, -1, -1, -1, 6, 37, -1, -1, 1, -1, -1, -1, -1, 28, -1, 0, -1, 0, -1, -1, -1, 14, -1, -1, -1, -1, -1, -1, 10, 14, 4, 41, -1, 3, -1, 11, 40, 21, -1, 15, -1, -1, 21, -1, -1, -1, 1, -1, -1, -1, -1, -1, 3, 28, 7, -1, -1, -1, -1, -1, 8, -1, -1, 2, -1, 3, -1, 4, 0, -1, 13, 2, 19, 1, 0, -1, -1, -1, -1, 0, -1, -1, 0, -1, 31, 24, -1, -1, -1, 24, 4, 4, -1, -1, -1, -1, -1, -1, -1, -1, -1, 22, 10, 8, 39, -1, 1, -1, -1, 55, -1, 15, 24, -1, -1, 33, -1, 7, -1, 47, -1, -1, -1, 2, 26, 0, 0, -1, 1, 6, -1, 4, 2, 9, -1, 17, 3, 0, 6, -1, -1, -1, 36, 9, 39, -1, -1, -1, -1, -1, 0, -1, -1, 25, 36, -1, -1, -1, 38, 0, 31, -1, -1, -1, -1, 16, -1, -1, 9, -1, 0, 7, 2, 40, 7, 0, 8, -1, -1, -1, -1, -1, -1, 0, -1, 10, -1, -1, -1, -1, -1, -1, 4, 23, -1, -1, 24, -1, 6, -1, -1, 3, -1, 56, 42, -1, -1, 53, -1, -1, -1, 46, 2, -1, 15, -1, -1, 6, 31, -1, -1, -1, -1, 0, 5, 0, -1, 2, -1, 12, 13, -1, -1, 14, 7, -1, 0, 35, -1, 0, -1, -1, -1, 28, 10, -1, -1, -1, 1, 22, -1, -1, -1, -1, -1, -1, -1, -1, 3, 9, -1, -1, -1, -1, 0, 6, 0, -1, -1, -1, -1, -1, 4, 0, 4, -1, -1, -1, 8, -1, 0, 30, 6, 0, 3, -1, 0, -1, 6, 0, -1, -1, 0, 0, 19, 0, 6, 19, 9, -1, 2, 10, -1, -1, 58, -1, 40, -1, -1, -1, 6, 4, 0, -1, -1, 32, 18, -1, -1, -1, -1, -1, 17, 28, 21, 12, -1, -1, 56, -1, 9, -1, -1, -1, -1, 3, -1, 0, -1, 47, 2, 43, 10, 0, -1, 4, -1, -1, 26, -1, 0, -1, 57, 24, -1, 54, -1, -1, -1, -1, 7, 4, -1, 12, -1, 23, -1, -1, -1, -1, 23, 54, -1, -1, -1, -1, -1, -1, -1, -1, -1, -1, -1, 15, 22, -1, 12, 0, 7, 21, 25, -1, -1, -1, -1, -1, 0, 25, 12, 43, -1, 0, -1, -1, 1, 12, -1, -1, -1, 1, -1, 33, -1, 7, 0, -1, 0, -1, -1, 6, 0, -1, 8, 12, -1, -1, 2, -1, 43, -1, 0, -1, 1, 17, -1, 36, 42, 37, -1, -1, -1, 5, 16, -1, -1, 38, -1, -1, -1, -1, 56, 0, 0, -1, -1, -1, -1, 2, -1, 12, 44, -1, 1, -1, -1, -1, 28, -1, 9, 33, -1, 14, -1, -1, -1, 25, 9, -1, 18, 5, 0, 2, 12, 18, 0, 17, -1, 3, -1, 22, -1, -1, -1, -1, -1, -1, -1, -1, -1, -1, -1, -1, -1, -1, 36, 21, -1, 51, -1, -1, -1, -1, -1, 35, 5, 1, 0, -1, 0, 4, -1, -1, -1, -1, -1, -1, 1, -1, -1, 2, -1, -1, -1, 0, -1, 19, -1, 25, -1, 6, 8, 0, -1, -1, -1, 0, -1, 43, 32, -1, -1, -1, 11, 1, -1, 20, 3, -1, -1, -1, 41, -1, -1, 37, -1, 1, -1, -1, 46, 16, 18, 17, -1, -1, 0, -1, 0, 24, 13, -1, 33, -1, -1, 0, -1, -1, -1, 5, 3, 1, 2, 0, 2, -1, -1, -1, 8, 10, -1, -1, 56, -1, -1, 0, 56, 25, -1, -1, -1, 27, -1, -1, -1, -1, -1, 1, 2, -1, -1, -1, 50, -1, -1, 5, -1, 20, -1, 2, 0, 14, -1, -1, 22, -1, -1, -1, 14, -1, -1, -1, 0, -1, -1, -1, 16, 17, -1, 1, 3, 18, -1, 37, -1, 23, -1, 0, 18, -1, -1, -1, 15, -1, -1, -1, 41, -1, -1, -1, 22, -1, -1, -1, -1, 8, -1, -1, 52, -1, -1, 0, -1, 0, -1, 10, 0, -1, 4, -1, -1, 29, -1, -1, 42, -1, 52, -1, -1, 0, 1, 0, -1, -1, -1, -1, -1, -1, -1, -1, 22, 9, -1, 55, 0, 10, 19, -1, 12, 26, 44, 11, 1, -1, 7, 6, 0, 4, 0, 6, -1, 9, 0, -1, -1, -1, 0, 46, -1, -1, -1, -1, 20, -1, -1, 26, 14, 0, 15, 52, -1, 12, 1, -1, 37, -1, 20, 12, -1, -1, 9, -1, 4, 45, -1, 8, -1, -1, 0, -1, -1, 21, 4, -1, -1, -1, 1, -1, -1, -1, -1, -1, -1, -1, -1, -1, 35, -1, -1, 22, -1, 47, 9, -1, 9, -1, -1, 2, -1, 12, -1, -1, -1, -1, -1, -1, 1, -1, 2, -1, -1, -1, 7, -1, 9, 1, -1, -1, -1, -1, 42, -1, -1, 1, -1, 54, 13, -1, 6, 12, 4, 18, 16, -1, -1, -1, 1, 38, 15, 3, 1, -1, -1, -1, 37, 0, 43, -1, 51, -1, -1, 2, -1, 2, -1, 2, 0, 0, -1, 2, 20, -1, 16, -1, 25, -1, -1, -1, -1, 4, 39, 1, 0, -1, 1, 6, -1, -1, 0, -1, 7, 10, 4, 46, 33, 0, -1, 3, 0, 4, -1, -1, 52, -1, -1, -1, -1, -1, -1, -1, 0, -1, 50, 0, 7, 4, 1, 9, -1, 0, 3, 0, -1, -1, 2, 0, 3, -1, -1, -1, -1, 40, 17, 1, -1, 0, -1, -1, 0, 2, 22, 0, -1, 0, -1, 48, 0, 15, -1, 12, 26, -1, -1, -1, 0, 0, -1, -1, 3, 0, -1, -1, 20, -1, -1, 11, 0, 6, -1, 30, -1, 1, 19, 24, 1, -1, -1, 24, -1, -1, -1, -1, 0, -1, -1, -1, 0, -1, 3, 0, -1, -1, 0, -1, -1, 2, 59, -1, -1, -1, -1, 0, -1, 0, -1, 11, -1, 42, -1, -1, -1, -1, 24, 49, -1, -1, 47, -1, -1, 0, 0, 2, -1, 2, -1, -1, 0, -1, 56, -1, 13, 17, 27, -1, 6, 20, -1, 25, 45, 43, 10, 10, 0, -1, -1, -1, 23, 1, 27, 15, 38, -1, 29, -1, 28, 26, 1, 3, -1, -1, 52, -1, 9, -1, -1, 23, -1, -1, 0, 59, -1, -1, 49, 41, 12, -1, 7, 5, 22, -1, 12, -1, -1, 9, -1, 9, 0, -1, -1, 1, 0, 38, 1, -1, -1, -1, 42, 3, 14, 0, -1, -1, 26, -1, 10, 17, 1, -1, -1, 1, 5, -1, 3, -1, 9, 0, 32, 49, 1, -1, 7, 17, -1, -1, -1, 30, -1, 17, 0, 35, 29, -1, -1, -1, -1, 4, -1, 0, 35, 2, 14, 3, 7, -1, 0, 4, 0, 6, 17, -1, -1, 0, -1, -1, 24, 0, 29, -1, -1, -1, 4, 42, 5, -1, -1, -1, 11, 19, 53, 0, 10, -1, 28, 5, -1, -1, 6, -1, -1, -1, -1, -1, -1, 21, 4, -1, 15, 0, 17, 6, 0, -1, -1, 4, 0, -1, -1, 31, 10, -1, 10, -1, -1, -1, 0, 47, 12, -1, -1, 0, -1, 29, -1, 0, 10, 0, -1, 17, -1, 3, -1, 8, -1, 26, -1, 19, -1, 15, 45, -1, 11, 15, -1, -1, 47, -1, 1, 1, -1, -1, -1, 0, -1, 2, 6, 40, -1, -1, -1, -1, -1, 0, 56, -1, 53, -1, 33, 43, 54, 6, -1, 24, 56, 12, 44, 0, 8, -1, -1, 3, 1, -1, -1, 25, 1, 24, -1, 2, -1, -1, -1, 0, 2, 5, -1, -1, 4, -1, 0, -1, 1, 36, 49, -1, 0, -1, 7, -1, 0, -1, 1, 53, 39, -1, 33, -1, -1, 32, -1, -1, -1, -1, 6, 51, 26, -1, -1, -1, -1, -1, 1, -1, 3, -1, -1, 7, -1, 4, 0, 1, 3, -1, -1, -1, -1, -1, 0, -1, 6, -1, -1, 17, 39, 0, -1, 1, 18, -1, 10, -1, 18, 0, -1, 18, -1, -1, 31, 0, 11, -1, -1, -1, -1, -1, 26, 6, -1, 17, 3, -1, 21, -1, 19, -1, 32, -1, -1, 4, -1, 6, -1, -1, 5, -1, 44, -1, -1, 4, 9, -1, -1, -1, 1, 0, -1, 9, -1, 19, -1, -1, 6, -1, -1, 16, -1, -1, 1, -1, 0, -1, 0, -1, 0, -1, 2, -1, 5, -1, 47, 15, -1, 0, 1, -1, -1, -1, -1, 26, -1, -1, 10, -1, 0, -1, -1, 6, -1, -1, 0, -1, -1, 1, 47, 9, -1, 18, -1, 25, 52, -1, 30, 32, -1, 16, 0, 4, 0, 7, 0, -1, -1, -1, -1, -1, -1, 24, 1, 2, -1, 0, 38, -1, 32, 0, 0, -1, -1, 20, 2, -1, -1, -1, -1, 50, -1, -1, 17, 0, 2, -1, -1, -1, -1, -1, 1, -1, 40, -1, 2, -1, -1, -1, 52, 12, -1, -1, 52, 18, -1, -1, 27, -1, -1, -1, 13, -1, -1, -1, 7, 0, 0, -1, 1, 14, 4, -1, -1, 0, 20, 12, -1, -1, -1, 48, -1, -1, 9, 16, 48, -1, 0, 10, 0, -1, -1, -1, -1, 1, 1, -1, 17, -1, -1, -1, 21, -1, 1, 4, 3, -1, -1, -1, 0, -1, -1, -1, -1, -1, -1, 0, 1, -1, 10, -1, -1, -1, 5, 35, -1, 57, -1, 18, -1, -1, 22, 9, 0, -1, -1, -1, 2, 12, 15, 38, -1, -1, 0, -1, -1, 55, -1, -1, 1, 0, -1, -1, -1, -1, 1, 3, -1, 0, 24, 2, 15, 4, 0, -1, 8, -1, 7, -1, 0, -1, 29, 8, -1, 54, 57, -1, 7, -1, -1, 19, -1, -1, 4, 5, 16, -1, 2, 2, -1, 16, -1, 25, 6, 27, -1, 27, -1, -1, -1, -1, 2, 2, 59, -1, 8, 2, -1, 47, -1, 29, 6, 0, -1, 18, 0, 15, 1, -1, 37, -1, 32, -1, 1, 1, -1, 35, -1, 0, -1, 9, -1, -1, 2, 0, -1, 0, -1, 4, -1, 0, -1, 1, -1, -1, 3, 0, 30, 23, 4, 2, 17, 1, 10, -1, 0, 6, -1, -1, 21, 25, 13, 3, -1, -1, -1, 2, -1, 5, 8, -1, -1, 34, -1, 46, 53, -1, -1, 55, -1, 2, 18, -1, -1, -1, 49, -1, -1, -1, 20, -1, -1, -1, -1, -1, 23, -1, -1, -1, -1, -1, -1, 5, -1, 15, 0, 1, 4, -1, -1, 2, -1, 5, 20, -1, 35, -1, 10, 46, -1, 9, -1, -1, -1, 46, -1, -1, -1, -1, -1, -1, -1, -1, -1, -1, -1, -1, 5, -1, -1, 16, 2, -1, -1, -1, 10, -1, 2, 36, -1, 2, 0, 6, 20, 44, -1, -1, 0, 5, 3, -1, -1, -1, 39, -1, 1, 6, 46, -1, 57, -1, 39, 27, -1, -1, -1, -1, 3, -1, -1, 47, -1, -1, 0, -1, 0, -1, 38, -1, 3, 0, 59, -1, 0, -1, -1, -1, -1, 0, 3, 3, -1, -1, -1, 10, -1, -1, -1, 0, -1, -1, 47, -1, 0, 29, 23, -1, -1, 5, -1, 12, -1, 16, 27, -1, -1, 14, -1, 2, 12, -1, -1, -1, -1, 38, -1, -1, 0, -1, -1, 5, -1, -1, 0, 14, 0, -1, 5, -1, -1, -1, 55, -1, -1, -1, 41, -1, 4, 6, 8, 47, -1, -1, -1, -1, 2, -1, 27, -1, -1, 8, 32, 16, -1, -1, -1, -1, 38, -1, 2, 0, 40, -1, -1, 0, -1, -1, 0, 45, -1, -1, -1, 0, 7, 1, -1, -1, 26, -1, -1, -1, -1, 1, 49, 3, 3, 50, -1, -1, 0, -1, 5, -1, 0, 16, -1, 58, -1, 2, 11, -1, 25, -1, 4, -1, -1, 23, -1, 0, 42, 9, -1, -1, 3, -1, 0, 17, -1, -1, 16, -1, 9, 0, -1, -1, -1, 0, 14, 2, 0, -1, 53, -1, 3, -1, -1, -1, -1, -1, 14, -1, 30, 20, -1, -1, -1, -1, -1, -1, 5, 26, 8, -1, -1, 8, -1, -1, 1, 0, -1, 56, 0, 2, -1, 28, 3, -1, -1, -1, 23, 0, 38, 10, -1, -1, -1, 26, -1, -1, 27, 3, 0, 7, 56, 30, 18, -1, -1, -1, -1, 3, -1, -1, -1, -1, -1, -1, 47, 10, -1, -1, -1, 28, 50, -1, 9, -1, 4, 4, 0, -1, 5, -1, -1, -1, 2, -1, -1, 0, 17, -1, -1, 18, -1, -1, 2, 1, -1, 0, 48, 9, -1, 5, 0, -1, 8, 21, -1, 16, -1, -1, 1, -1, -1, -1, -1, -1, -1, -1, 12, -1, -1, 0, 59, -1, -1, 15, -1, 3, 1, -1, -1, 3, -1, -1, 20, -1, 4, 41, 1, 3, -1, -1, -1, -1, 23, -1, -1, -1, -1, -1, -1, 8, -1, 46, 18, 2, -1, -1, 9, -1, 8, 8, -1, -1, 0, 27, 0, 0, -1, 9, 2, 47, 9, 53, 58, 24, 3, 38, 0, 0, 28, 2, -1, 10, 0, -1, 31, 1, 45, -1, 12, 0, 15, 1, 0, 1, -1, 0, -1, 0, 0, 0, 51, -1, 1, 0, -1, -1, 20, -1, -1, 5, 2, 39, 9, 3, 3, 6, 0, -1, 4, -1, 3, 20, 28, -1, -1, -1, 2, 0, -1, 15, -1, 37, -1, 5, -1, 6, -1, -1, 0, 29, -1, -1, -1, 0, 0, -1, 43, -1, 2, 38, 41, 1, 15, 36, -1, -1, 9, 5, 29, -1, -1, 58, 0, 33, -1, 7, -1, -1, 42, 3, -1, 25, -1, -1, 0, -1, 6, -1, 54, -1, 5, 33, 0, 33, -1, 8, -1, 5, -1, -1, -1, 32, -1, 34, 40, -1, -1, -1, -1, 3, 10, 6, 2, -1, -1, -1, -1, -1, -1, 21, 27, -1, -1, -1, 0, 4, -1, -1, 11, -1, 0, -1, -1, -1, -1, -1, -1, 14, 44, -1, 0, -1, 0, 23, -1, 38, 0, 7, 42, 14, -1, -1, 38, 2, 7, 1, -1, -1, 4, 9, 1, 0, -1, 0, -1, -1, -1, 16, 0, 1, -1, 18, -1, -1, 5, -1, 19, -1, -1, 23, -1, -1, 0, 6, -1, 1, -1, -1, 7, -1, 33, -1, -1, 7, -1, -1, -1, -1, -1, -1, -1, 6, 0, -1, 16, -1, -1, -1, -1, 27, 8, 0, -1, 3, -1, 22, -1, 0, -1, -1, 29, -1, 1, -1, 2, 1, -1, -1, 2, 9, -1, -1, -1, -1, -1, 4, 15, -1, 0, 41, -1, 0, 40, 4, -1, 54, -1, -1, 1, 1, -1, 9, -1, 37, 18, 48, -1, -1, -1, 1, 14, 35, -1, 2, 0, 0, 0, -1, -1, 13, -1, 0, -1, -1, -1, -1, 17, -1, 23, 15, 43, -1, 31, 44, 8, -1, -1, -1, 17, 23, -1, 3, 8, 4, 12, 1, -1, -1, -1, 1, 37, 5, -1, -1, 41, -1, 29, 1, 6, -1, 4, -1, -1, -1, -1, 0, -1, 0, -1, -1, 37, -1, 35, -1, -1, 38, 11, -1, 15, -1, -1, 22, -1, -1, 0, -1, 2, 0, -1, 43, 0, 0, -1, 0, -1, -1, 0, 31, -1, 0, -1, -1, 1, 0, -1, 24, -1, 7, -1, -1, -1, 35, 0, -1, 1, 34, -1, -1, 0, -1, 1, 0, 11, 36, 0, -1, 39, -1, -1, -1, -1, 1, 18, -1, 6, -1, 6, -1, -1, 19, -1, -1, 29, -1, -1, -1, 23, -1, 8, -1, -1, 2, 54, -1, 14, 15, 0, 52, 29, 1, -1, -1, -1, 56, 43, 2, -1, -1, -1, 0, 0, 3, -1, 24, -1, 0, 19, 0, 59, 59, 0, 0, 33, -1, -1, 1, 22, 1, 26, 9, -1, 31, -1, -1, -1, 0, 9, -1, 2, -1, 2, -1, -1, -1, -1, 3, -1, 12, -1, 3, -1, 8, -1, -1, -1, 0, -1, -1, 10, -1, 3, -1, 12, 3, -1, 4, 1, -1, -1, 4, -1, -1, 10, 46, 2, 2, -1, 0, -1, -1, -1, -1, 8, 1, -1, 12, 1, 2, 3, -1, -1, -1, 0, -1, -1, -1, 9, -1, -1, 56, -1, 36, -1, 6, -1, 7, 3, -1, 12, -1, -1, -1, -1, 2, 10, 1, -1, 36, 44, -1, 1, -1, -1, -1, -1, 42, 3, 1, -1, 50, -1, 1, -1, 13, 4, -1, -1, 0, -1, -1, 16, -1, -1, 6, -1, -1, 3, 50, -1, 35, -1, 14, 14, -1, 12, 15, 34, -1, 1, -1, -1, -1, 48, -1, -1, -1, -1, 20, -1, -1, -1, 1, -1, 6, -1, -1, 45, -1, 51, 5, -1, -1, -1, -1, 4, 3, -1, -1, 18, 56, -1, 55, -1, 10, 26, -1, 4, -1, 5, -1, -1, 3, 5, 10, 5, 9, 0, -1, 3, -1, -1, -1, 13, -1, -1, -1, -1, 0, 16, -1, -1, -1, -1, -1, 22, -1, 0, -1, 2, -1, -1, 41, -1, 55, 0, -1, 19, 42, 10, -1, -1, 3, 12, 54, -1, -1, -1, -1, -1, -1, 17, 49, 2, 40, 1, -1, -1, 0, -1, 2, -1, -1, -1, -1, 0, 0, 6, 22, -1, 22, -1, 48, -1, 43, 3, 4, 20, 3, 21, -1, 49, 7, -1, 0, 0, 51, -1, -1, -1, -1, 14, 26, 1, -1, -1, -1, -1, -1, 1, 47, -1, -1, -1, -1, 3, -1, -1, -1, -1, -1, 5, -1, -1, -1, -1, 0, 0, -1, 18, -1, -1, 33, 3, -1, -1, 48, 1, -1, -1, -1, 4, -1, 54, -1, 53, 0, 0, 1, 0, -1, -1, -1, 11, 14, -1, 7, 25, -1, 2, -1, 39, -1, -1, -1, 2, 0, 0, -1, 4, 9, -1, -1, -1, 12, -1, 3, -1, 6, -1, 21, -1, -1, -1, 0, -1, -1, 10, -1, 0, 32, -1, -1, -1, -1, 5, -1, 10, 0, 0, 25, 0, 18, 17, 12, 44, -1, 51, -1, 50, 1, -1, -1, -1, 18, 36, -1, -1, -1, 28, -1, -1, -1, 31, -1, -1, -1, 7, -1, -1, 27, -1, -1, 0, -1, 11, -1, 2, -1, -1, -1, -1, 35, 0, -1, 20, -1, -1, 6, -1, -1, 28, 46, -1, 41, 0, -1, -1, -1, 1, 0, -1, -1, 0, 1, -1, -1, 0, -1, 0, 41, -1, -1, -1, 6, 0, 10, -1, -1, -1, 24, 53, 0, -1, -1, -1, -1, 45, 0, 0, 0, 41, -1, 31, -1, -1, -1, 43, -1, -1, -1, -1, -1, 0, 0, 0, -1, 4, 0, 9, 11, -1, -1, -1, -1, -1, 12, -1, 1, -1, -1, 39, 0, 3, 21, -1, 0, 0, -1, -1, -1, -1, -1, 29, 0, 3, 25, 39, 2, -1, -1, -1, 1, -1, -1, 4, 1, 14, -1, -1, 47, -1, 4, 2, 1, -1, 0, -1, 3, 0, -1, -1, -1, 0, 11, 6, 0, 39, 11, 29, 13, -1, -1, -1, 5, -1, -1, -1, 1, 1, 41, -1, -1, 23, -1, -1, -1, -1, 14, 26, -1, -1, 4, -1, -1, 34, -1, -1, -1, -1, -1, -1, -1, -1, -1, -1, 1, -1, 0, 21, 0, 3, -1, -1, -1, -1, -1, 0, 12, 2, 49, 19, -1, -1, -1, -1, 1, -1, 1, -1, 7, 1, -1, -1, 56, 2, -1, 0, -1, -1, -1, -1, 32, -1, -1, 8, -1, -1, -1, -1, -1, -1, -1, -1, 8, -1, 6, 31, -1, 29, -1, 32, 1, -1, 0, -1, 1, -1, -1, 12, 47, -1, 19, 3, -1, 2, -1, 1, -1, -1, 2, -1, -1, 30, 50, -1, 13, -1, 21, -1, 50, 3, 11, -1, -1, 0, -1, 34, 2, 28, -1, -1, -1, -1, 24, 2, -1, 6, 24, 6, -1, -1, 36, -1, 19, -1, 0, -1, -1, -1, 2, 2, -1, -1, -1, -1, -1, -1, 3, 0, -1, 57, -1, -1, -1, -1, 57, 35, 7, 3, 0, 1, 1, 0, -1, 0, -1, -1, 14, 0, -1, -1, 0, -1, 1, -1, -1, 3, -1, -1, -1, -1, -1, -1, -1, -1, -1, -1, -1, 49, -1, 0, -1, 47, 13, 7, 27, 25, 2, 0, -1, -1, 7, -1, -1, -1, -1, -1, 35, -1, -1, -1, -1, 3, 55, -1, -1, 0, 0, -1, 1, 12, -1, -1, -1, 7, -1, -1, -1, -1, -1, 6, 2, 6, -1, -1, -1, -1, -1, 14, 1, -1, 16, 0, -1, -1, -1, -1, 1, -1, 1, -1, 0, 4, 0, -1, -1, -1, -1, 8, 2, -1, -1, 0, -1, 4, -1, 59, 30, -1, 52, -1, 22, 0, 1, 28, -1, 32, -1, 28, -1, -1, 0, -1, 19, -1, -1, 4, -1, -1, -1, -1, -1, -1, 8, 2, -1, 23, 3, -1, -1, 7, -1, -1, -1, -1, -1, 49, 16, -1, -1, -1, -1, -1, -1, 12, 27, -1, 0, -1, 1, 4, 0, -1, -1, -1, -1, -1, 27, 4, -1, 37, -1, -1, 33, -1, -1, -1, -1, -1, 3, -1, -1, 42, 0, -1, 4, -1, -1, 21, 2, -1, -1, -1, 0, -1, 0, 35, -1, 45, -1, 11, -1, -1, -1, 1, 0, 2, 8, 4, 2, -1, -1, -1, -1, 9, 18, 20, -1, -1, -1, 4, 15, -1, 2, 1, -1, -1, -1, -1, 0, 54, 3, 34, -1, -1, -1, 1, -1, -1, -1, -1, 1, -1, 1, -1, 2, -1, 32, 13, -1, 5, 39, -1, -1, -1, -1, 0, 21, -1, 59, -1, 22, -1, -1, -1, 2, 18, 23, -1, -1, -1, -1, 2, -1, -1, -1, -1, 15, 5, -1, -1, -1, 0, 2, 40, -1, 13, -1, -1, 32, 2, -1, -1, 51, 2, -1, 10, -1, 20, -1, 56, 3, 0, 1, -1, 51, -1, 35, 51, 10, -1, 35, 3, 1, 56, 14, -1, -1, -1, 16, 0, 23, 1, 1, -1, -1, -1, 26, 3, -1, 40, -1, 31, -1, 5, -1, -1, -1, 2, -1, 37, 59, -1, -1, 59, -1, -1, -1, 1, -1, -1, 4, -1, 1, -1, -1, 4, -1, 20, 23, -1, -1, 2, 22, 13, -1, -1, -1, 0, -1, 53, -1, -1, 0, -1, 10, -1, -1, 0, 33, -1, 4, -1, -1, 2, 3, -1, -1, -1, 23, -1, -1, -1, -1, 34, 29, -1, 6, 42, -1, 0, 0, -1, 10, -1, 15, -1, -1, -1, -1, 45, 11, 0, 0, -1, 2, -1, 2, 36, -1, 6, 28, 17, -1, 0, 0, 3, -1, -1, -1, 14, -1, 4, -1, 0, 49, 7, -1, -1, 17, 4, -1, -1, 4, 8, -1, 40, -1, -1, 1, 16, 33, 28, 0, -1, 30, 5, 0, -1, 7, -1, -1, -1, 13, 18, -1, 2, 28, -1, -1, -1, 3, 44, 53, -1, 0, -1, -1, -1, -1, -1, 0, 0, -1, 36, -1, 0, -1, 4, 11, 30, 8, 4, -1, -1, -1, 7, 2, -1, -1, 8, -1, 3, 2, -1, 1, -1, 47, 15, 17, -1, -1, 51, 32, 44, -1, -1, 50, 0, -1, 6, 8, 0, 0, -1, -1, -1, 21, 5, -1, 13, -1, 21, 0, -1, 0, 4, 0, -1, 54, -1, -1, -1, -1, -1, -1, 5, -1, 4, -1, 41, 0, 11, -1, -1, 23, -1, 3, 46, -1, -1, -1, -1, -1, 0, 28, -1, -1, 0, 22, -1, -1, -1, 47, -1, -1, -1, 6, 0, 0, 0, 17, -1, -1, 4, -1, 19, -1, -1, 18, 0, 0, 48, 23, 3, 3, 0, -1, 6, 53, -1, 2, -1, 3, -1, -1, 1, -1, 0, 19, 1, -1, 26, -1, -1, 37, 2, 27, 3, 6, -1, 0, 20, 30, 49, 4, 0, -1, 15, 6, -1, 32, -1, 0, 23, 0, -1, -1, -1, -1, -1, -1, -1, -1, -1, -1, 0, -1, 29, -1, 4, -1, 21, -1, 0, -1, -1, 5, -1, -1, -1, -1, -1, -1, -1, -1, 0, 0, -1, -1, 3, -1, -1, 38, -1, 54, 1, 4, 3, -1, -1, -1, -1, -1, 44, -1, -1, 7, -1, -1, -1, -1, -1, -1, -1, -1, 17, 1, -1, 5, -1, 8, -1, 21, -1, -1, 50, -1, 16, -1, -1, -1, -1, -1, 0, -1, 31, 0, 1, 6, 1, 57, 0, -1, 27, -1, -1, -1, -1, 8, 39, 1, 0, -1, -1, 42, -1, 2, -1, -1, 8, -1, -1, 14, 23, 9, 0, -1, -1, 5, 11, 3, 2, 2, -1, -1, 1, -1, 19, 56, -1, 5, 0, -1, -1, -1, 3, 18, 46, 21, -1, 0, 0, -1, -1, -1, -1, -1, -1, 3, 0, -1, 0, 0, 3, -1, 1, 16, 5, -1, 0, -1, 3, -1, 18, -1, -1, 0, -1, 48, -1, 12, 0, 4, 20, 21, 25, 3, -1, 0, -1, -1, 38, 0, -1, 5, 37, -1, -1, -1, 22, 3, 0, -1, 53, 3, -1, 1, 3, 1, -1, -1, 4, -1, -1, -1, -1, -1, -1, -1, -1, 20, -1, 5, 2, -1, 21, -1, 0, 0, 0, 1, -1, -1, -1, -1, -1, -1, 11, -1, 46, -1, 0, -1, 9, -1, 1, -1, 2, -1, -1, -1, -1, -1, -1, -1, 42, 3, -1, -1, -1, -1, -1, 38, 0, -1, 2, 13, 19, -1, -1, -1, -1, 37, -1, -1, -1, -1, -1, -1, -1, 0, -1, 30, 0, -1, -1, 3, 10, -1, 8, -1, -1, -1, 5, -1, -1, -1, 27, -1, -1, 12, 29, -1, -1, 31, -1, -1, -1, 1, 0, -1, -1, -1, 5, -1, -1, -1, -1, -1, -1, -1, 1, 33, -1, 4, 47, -1, -1, -1, -1, -1, -1, 44, -1, -1, 16, 17, -1, 2, 23, 8, 17, 14, 49, -1, -1, -1, 0, 1, 0, 2, 3, -1, 43, -1, 8, -1, 14, -1, -1, 9, 1, 28, -1, -1, 11, 23, -1, -1, 20, -1, -1, -1, -1, -1, 0, -1, -1, -1, -1, 9, 1, 0, 4, 41, -1, -1, -1, 0, -1, -1, -1, -1, 15, 10, 35, -1, 28, -1, -1, 0, -1, 7, -1, 0, -1, -1, 0, -1, 2, -1, -1, 0, -1, 4, -1, -1, 1, -1, -1, -1, 33, -1, 12, 57, -1, 1, 28, -1, -1, 0, 0, -1, 28, 1, -1, 0, -1, 7, 14, -1, -1, 14, 48, -1, 2, -1, -1, 0, 38, -1, 29, 12, -1, 4, 41, -1, 2, -1, -1, -1, -1, -1, -1, -1, 0, 0, -1, -1, -1, -1, 2, 0, 51, 0, -1, -1, -1, 11, -1, -1, -1, -1, 0, 3, 3, -1, -1, 0, 40, 10, 0, 35, -1, 13, -1, 21, -1, -1, 2, 9, -1, 0, 23, 2, -1, -1, 11, 1, 2, 0, -1, 11, 26, -1, 22, -1, 1, -1, -1, -1, 4, -1, -1, -1, -1, -1, 0, 0, -1, -1, -1, -1, 0, -1, 1, -1, 15, 40, -1, -1, 9, 0, 4, 0, -1, -1, 1, -1, -1, -1, -1, 2, -1, 19, 4, 56, -1, 0, 31, 0, 0, 4, -1, 2, -1, -1, 1, 23, 0, -1, -1, 12, 47, 12, -1, 4, 10, -1, 0, 53, 0, -1, 3, 3, -1, -1, -1, 0, 1, -1, -1, 13, 27, 5, -1, -1, 0, 37, -1, -1, 0, -1, 5, -1, -1, -1, -1, 5, -1, 56, -1, -1, 0, -1, -1, -1, -1, 4, -1, 1, 6, 49, -1, -1, -1, 10, -1, 8, 0, 26, 2, 34, -1, 0, -1, 17, -1, 5, -1, -1, -1, -1, -1, -1, 1, 57, 28, -1, -1, -1, -1, -1, 6, 46, -1, -1, -1, 3, -1, -1, 0, 2, -1, 0, 5, -1, 0, -1, 0, 44, -1, 14, -1, -1, -1, -1, -1, 24, 0, 43, 30, -1, 43, 0, -1, -1, 3, -1, 6, 11, -1, 0, 7, -1, 1, 24, 2, -1, 4, 11, 28, 17, 0, 18, 4, -1, -1, -1, -1, -1, -1, -1, 51, -1, -1, 2, 0, -1, 34, -1, -1, 52, -1, -1, 2, 1, 20, 45, -1, -1, 17, 25, -1, 13, -1, -1, -1, 1, 30, 2, -1, 2, 0, -1, 55, 6, -1, 10, 3, -1, 20, 0, -1, 1, -1, 44, 23, 3, -1, -1, 4, -1, 5, -1, -1, 43, -1, 44, 26, -1, 27, -1, -1, -1, -1, 24, -1, -1, -1, -1, 23, 0, 30, 0, -1, -1, -1, -1, 16, 0, 28, 4, 43, -1, 1, 0, -1, -1, 45, -1, -1, -1, 18, 40, 33, 45, 47, 0, 0, -1, 13, -1, -1, 0, 31, -1, -1, -1, -1, -1, 0, -1, 18, -1, -1, 13, -1, -1, -1, 0, 27, -1, -1, 20, -1, -1, -1, -1, 0, -1, 10, -1, 37, -1, -1, -1, -1, -1, 10, 22, 20, -1, 0, 3, -1, -1, 9, 52, -1, -1, 44, 16, -1, 16, -1, -1, -1, -1, 15, 12, 0, 0, 0, -1, 57, 1, -1, -1, 3, 0, 0, -1, -1, -1, -1, 4, -1, 36, -1, 0, 28, -1, 0, 36, -1, -1, -1, 7, -1, -1, 34, -1, -1, -1, -1, -1, -1, 32, -1, -1, -1, -1, 3, -1, 5, -1, -1, -1, -1, -1, 18, -1, -1, 0, -1, -1, -1, 0, -1, -1, -1, -1, -1, -1, -1, -1, 0, -1, 39, -1, 6, -1, 5, 26, 0, -1, 53, -1, 0, -1, -1, 44, 9, 1, -1, 30, 0, 16, 44, -1, -1, 54, -1, -1, 0, 6, -1, -1, -1, -1, 41, 14, 43, 28, -1, -1, -1, 35, -1, -1, -1, -1, -1, 1, -1, -1, -1, -1, 0, 2, 8, -1, 3, -1, -1, 0, 16, -1, -1, -1, 34, 30, 18, 1, 2, -1, 3, 1, -1, 16, -1, -1, -1, -1, -1, 52, 15, -1, 0, -1, -1, 8, 24, -1, -1, -1, -1, 28, 17, -1, 1, 0, -1, -1, -1, 22, 0, 1, 15, 0, -1, -1, 0, 16, -1, 11, 14, -1, 11, -1, 32, -1, 0, 4, -1, 3, -1, 7, 9, 17, -1, 3, -1, -1, -1, 0, -1, 23, -1, 18, 1, -1, -1, 2, -1, -1, 2, 5, -1, 1, -1, -1, 55, -1, 22, 23, -1, -1, 16, 2, 7, 14, 15, 0, -1, -1, 13, -1, -1, 0, -1, 5, 11, -1, 49, 6, -1, 2, 2, -1, 0, -1, 40, -1, -1, -1, 6, -1, -1, -1, -1, -1, -1, -1, -1, 6, 5, 1, 19, -1, 0, -1, 21, -1, -1, 22, -1, 8, -1, 4, -1, -1, 19, 44, -1, -1, -1, 34, 12, -1, 34, -1, 13, -1, -1, -1, -1, 1, 27, 29, 0, 11, -1, -1, 1, 7, -1, 28, -1, -1, 14, 22, -1, -1, 2, -1, 56, -1, 0, -1, -1, 0, -1, -1, 10, 39, 28, 47, 2, -1, -1, 4, -1, 20, -1, -1, -1, -1, 2, -1, 0, -1, -1, 29, 33, 19, -1, 0, -1, -1, 0, 11, -1, -1, -1, -1, -1, 52, 7, 28, 15, 32, -1, 0, -1, -1, -1, 12, 30, -1, 39, 1, -1, 6, 16, -1, 0, 39, -1, 6, -1, -1, 42, 7, -1, 51, -1, 3, 3, 0, -1, -1, 4, 4, -1, -1, -1, -1, 1, -1, 2, -1, 4, -1, 1, 58, -1, -1, 21, 14, 27, -1, -1, -1, 44, -1, -1, 14, 19, -1, -1, -1, 0, 18, -1, 13, 23, -1, 26, 9, -1, -1, -1, -1, 41, -1, 1, -1, 12, 36, -1, -1, -1, -1, 2, 10, -1, 9, -1, -1, -1, 59, -1, -1, 14, 11, -1, 0, -1, 36, 43, -1, -1, -1, 3, -1, 42, -1, -1, -1, -1, -1, -1, -1, 9, 13, -1, 43, 19, -1, 1, 0, 1, -1, 8, 0, -1, 0, 46, -1, 55, 53, -1, -1, 0, -1, 1, -1, -1, 2, 49, -1, -1, 1, -1, 30, 27, 1, -1, -1, -1, 24, -1, 6, 1, -1, 7, -1, -1, 2, 2, -1, 0, -1, 28, 6, 0, -1, -1, -1, 14, 23, 0, -1, -1, -1, 41, 0, 5, 44, 2, -1, -1, 22, -1, -1, -1, -1, -1, -1, -1, 22, -1, -1, 2, 31, -1, -1, 22, -1, 3, -1, 19, -1, 17, -1, 40, -1, 19, -1, -1, -1, -1, -1, -1, 6, 10, 0, 53, 1, 12, 5, -1, -1, 44, 13, 2, 56, -1, 1, 56, -1, -1, 0, -1, 0, -1, -1, 0, 2, 56, 3, -1, -1, -1, 12, 3, -1, -1, 0, 36, 3, -1, -1, 3, 4, 2, -1, 5, 13, 15, -1, -1, -1, -1, -1, -1, 10, -1, 20, -1, -1, -1, -1, 1, -1, -1, 58, 1, -1, 1, 37, -1, 1, 9, -1, -1, 9, 1, -1, 53, 59, 0, 0, -1, -1, 14, -1, -1, 21, 34, -1, -1, 20, 4, 3, 59, 52, 0, 16, 28, 26, 6, 10, 0, -1, 2, 33, -1, -1, 0, -1, -1, -1, -1, 0, 2, -1, 1, -1, -1, -1, 4, 12, 34, -1, 3, 9, -1, 56, -1, -1, 12, -1, 33, -1, -1, -1, 20, 22, 3, -1, -1, -1, -1, -1, 9, 1, -1, -1, -1, 0, 3, -1, -1, 32, -1, -1, 13, 0, -1, 30, 27, 0, -1, -1, -1, -1, 3, 19, 4, 2, -1, -1, 39, 4, -1, 0, -1, -1, -1, 0, -1, 8, 0, 5, -1, 3, 0, -1, -1, -1, 11, -1, 47, -1, 2, -1, 26, 24, -1, -1, -1, 2, 6, -1, -1, 2, -1, 1, -1, 28, 31, -1, 0, -1, 59, -1, -1, 56, 0, 0, -1, 35, 13, 43, 0, 48, -1, -1, 6, 27, -1, 58, 4, -1, -1, -1, 6, 46, -1, -1, -1, -1, -1, 57, -1, -1, -1, -1, 0, 57, -1, 0, -1, 2, 0, -1, -1, 52, 18, -1, -1, 14, -1, 3, -1, 0, -1, -1, 7, -1, -1, 10, 7, -1, 47, -1, -1, 4, -1, -1, 1, -1, 0, -1, -1, -1, 37, 39, -1, -1, -1, 0, 11, 41, 0, 16, 52, 3, 0, -1, 47, -1, 0, 38, -1, -1, -1, 25, 2, 24, -1, 11, 19, -1, 0, -1, -1, -1, -1, 55, 40, -1, -1, 18, 46, -1, 7, 25, -1, 38, 42, -1, 0, -1, 38, -1, 6, 6, 11, 5, -1, 0, -1, -1, -1, -1, -1, -1, 0, -1, -1, 3, -1, -1, 0, -1, -1, 30, -1, -1, -1, -1, -1, -1, -1, 1, -1, -1, 29, 33, -1, -1, -1, 4, 56, 0, -1, -1, -1, 0, 7, -1, -1, 33, -1, 0, 3, 31, -1, -1, 7, 24, -1, -1, 30, -1, 0, -1, -1, -1, 8, -1, 4, 0, 59, -1, -1, -1, 9, 0, 17, -1, -1, 0, -1, 31, 3, -1, -1, 45, 0, -1, 4, -1, -1, 10, 17, 6, 7, -1, -1, -1, 15, 46, -1, 33, 5, -1, -1, 0, -1, 55, -1, -1, 0, -1, -1, -1, -1, -1, -1, -1, -1, -1, -1, -1, 15, -1, -1, -1, -1, 26, -1, 39, 56, -1, 6, -1, -1, -1, 10, -1, 50, 0, 46, 4, 36, 0, 50, 55, -1, -1, -1, -1, -1, -1, -1, 5, -1, 46, -1, -1, -1, 1, 44, -1, 5, -1, 2, 14, 12, -1, 0, -1, -1, 0, 0, 2, 13, 6, -1, -1, 9, -1, 6, -1, -1, -1, 5, -1, 4, 0, 23, -1, 59, -1, 2, -1, -1, 0, 2, 56, 3, 0, -1, -1, -1, -1, 23, 2, 0, 21, -1, -1, 40, -1, 8, 54, -1, -1, 42, -1, -1, -1, -1, -1, 21, 51, 4, 0, 0, -1, -1, -1, 3, -1, -1, -1, 15, 6, 0, -1, -1, 30, -1, 54, 38, -1, -1, -1, -1, -1, 13, -1, -1, -1, -1, -1, 11, -1, -1, 48, -1, 46, -1, 9, -1, -1, 33, -1, -1, -1, 0, -1, 0, 0, -1, 32, 0, -1, 45, 3, 3, 3, 1, -1, -1, 53, 32, -1, 11, -1, 35, -1, 33, -1, -1, -1, 1, -1, 1, 0, -1, 0, -1, 3, 0, 1, 11, -1, -1, 10, 15, -1, -1, 2, 8, 0, -1, 10, -1, 3, 1, -1, -1, -1, 4, -1, -1, 15, 7, 27, 1, -1, 51, -1, -1, 0, -1, -1, -1, -1, -1, 1, -1, -1, -1, -1, 48, 7, -1, 10, -1, -1, 1, 45, 0, -1, 49, -1, -1, -1, -1, -1, -1, 0, 1, -1, -1, -1, -1, -1, -1, -1, -1, 52, -1, 34, -1, -1, -1, -1, -1, -1, -1, 22, -1, 29, 2, -1, 43, 2, 17, 8, 54, -1, -1, 0, -1, 5, 36, -1, -1, -1, 16, 8, -1, 29, -1, 4, -1, -1, -1, -1, 21, 0, -1, 51, 39, -1, -1, 26, 15, 53, -1, 4, -1, -1, -1, 0, 26, 38, -1, -1, -1, -1, -1, -1, -1, -1, -1, 0, -1, 6, 1, 19, 5, 8, 4, -1, 4, 35, 3, 1, 0, -1, 1, -1, 0, 14, 1, 28, -1, 58, -1, -1, -1, 3, -1, 13, -1, -1, -1, 58, -1, -1, -1, -1, -1, 4, 1, -1, 1, 51, -1, 23, 27, 28, 10, -1, 2, -1, -1, -1, -1, -1, 3, 24, -1, -1, 1, -1, 6, 0, -1, -1, -1, 3, -1, 40, -1, 0, -1, -1, -1, 25, -1, 2, -1, -1, 2, -1, 49, -1, 4, 47, -1, 0, 4, 0, -1, -1, -1, -1, -1, -1, 5, -1, -1, -1, -1, -1, -1, 0, -1, -1, 0, -1, -1, -1, 10, -1, -1, 14, -1, -1, 23, 58, -1, -1, 5, 20, -1, -1, -1, -1, -1, -1, 0, 20, 21, -1, -1, 50, 0, 57, 58, 3, -1, -1, 39, -1, -1, -1, 56, 25, 6, 32, -1, 0, -1, -1, 0, 2, -1, 1, 4, 40, -1, -1, 0, -1, -1, 2, -1, -1, -1, -1, -1, -1, -1, -1, -1, -1, -1, 2, 23, 41, -1, -1, 0, 5, -1, -1, -1, -1, -1, 29, -1, -1, -1, -1, 26, 38, 25, -1, 0, 1, 37, -1, 6, 12, 0, 16, 15, 0, 47, 21, -1, -1, -1, 31, 1, 0, -1, -1, 13, 6, 2, 1, 0, 2, 3, -1, 47, -1, -1, 58, 0, 5, 5, -1, 28, -1, -1, -1, -1, 5, -1, -1, 36, -1, 6, -1, 14, -1, -1, -1, 18, -1, -1, 1, 14, -1, 45, -1, 19, 1, -1, 15, -1, 4, 0, 3, 2, -1, -1, -1, -1, -1, 20, -1, -1, 17, 0, -1, -1, -1, 53, 4, -1, 51, -1, 0, -1, -1, 0, -1, 45, 3, 5, -1, 9, -1, 12, -1, 1, 1, 24, 14, 57, -1, -1, 7, 0, 1, -1, -1, 0, -1, 39, -1, 20, 7, -1, -1, 30, 8, -1, 16, 0, -1, -1, -1, -1, 5, -1, 0, -1, -1, 23, 2, 4, -1, -1, -1, 0, 6, -1, -1, -1, -1, -1, -1, 13, 2, -1, -1, -1, -1, 2, 13, -1, 42, -1, -1, -1, 57, -1, 26, -1, 3, 4, -1, -1, 6, 36, 1, -1, -1, -1, -1, -1, -1, -1, -1, 6, -1, -1, -1, 4, 13, 34, 0, 41, -1, 0, 50, -1, -1, -1, -1, -1, 0, 1, 34, -1, 27, 0, 0, -1, -1, 1, -1, 14, 1, 48, 0, -1, 2, -1, -1, 31, -1, -1, -1, -1, -1, 0, -1, -1, -1, 19, -1, -1, 0, -1, -1, 0, 16, 0, -1, -1, -1, -1, -1, -1, -1, -1, 0, 0, 16, 6, -1, 0, 3, -1, 10, -1, -1, 31, -1, -1, 29, -1, 2, -1, -1, -1, 17, 3, 0, -1, -1, -1, 1, 25, 44, 4, -1, -1, -1, -1, 4, 0, 0, 0, 0, 27, 43, -1, -1, -1, -1, -1, 5, -1, -1, -1, 31, -1, -1, 0, -1, -1, -1, -1, 8, -1, -1, 1, -1, 5, -1, -1, -1, 1, -1, -1, -1, 9, 0, -1, 50, -1, -1, 12, 2, -1, -1, -1, -1, 1, -1, 11, 9, 5, -1, -1, -1, -1, -1, -1, 16, -1, -1, 5, 0, -1, 0, -1, -1, 7, 0, 19, -1, 0, 12, -1, 4, -1, -1, -1, -1, -1, -1, -1, -1, 7, 0, -1, -1, 0, 30, 6, 13, 22, 0, 6, -1, -1, 32, 0, 0, -1, -1, -1, -1, -1, -1, -1, 38, -1, 1, 45, 11, -1, 44, 1, -1, 0, -1, -1, -1, 54, 0, 16, 0, 0, -1, -1, -1, -1, 0, -1, -1, 10, -1, -1, -1, -1, 0, 35, 4, -1, 0, 0, -1, 9, -1, 3, -1, 3, -1, 16, 0, 6, -1, -1, -1, -1, -1, -1, 46, -1, 29, -1, -1, 1, -1, 9, -1, -1, 0, -1, 0, 0, 23, 0, 12, -1, -1, -1, -1, -1, 2, 46, -1, 6, -1, 0, 17, 2, -1, -1, -1, 24, 4, -1, 54, 33, -1, 8, 4, -1, 0, -1, -1, 0, -1, -1, -1, -1, -1, -1, -1, -1, 0, -1, -1, 0, -1, -1, 1, 1, 59, 13, 0, -1, 43, -1, -1, 6, -1, 32, 37, 22, -1, -1, 0, -1, -1, 24, 14, -1, 2, -1, 50, -1, -1, 2, -1, 1, 0, -1, 4, -1, -1, -1, 18, -1, -1, 0, 4, -1, 25, -1, 5, 53, -1, 48, -1, -1, 0, 0, -1, -1, 0, 0, 5, 10, -1, -1, -1, -1, 0, -1, 0, 11, -1, -1, -1, -1, -1, -1, 29, -1, 0, -1, 38, 3, 3, -1, 9, -1, -1, -1, 29, -1, -1, -1, -1, 1, 8, 15, -1, -1, -1, -1, 14, 33, 2, -1, -1, -1, -1, 46, 16, -1, -1, 2, -1, 4, -1, -1, 45, 4, -1, 6, 0, -1, 0, -1, 25, -1, 0, -1, -1, 33, -1, -1, 42, -1, -1, -1, 27, 1, 9, -1, -1, 0, -1, -1, -1, -1, 0, -1, -1, -1, -1, 3, 11, -1, 5, 0, 0, 1, 4, -1, -1, -1, -1, 13, -1, 11, -1, 18, -1, 48, 8, -1, -1, -1, 0, -1, 53, 45, -1, -1, -1, -1, 22, -1, -1, 0, 25, -1, -1, 11, -1, 0, 9, 15, 9, -1, 7, 5, -1, 1, 2, 27, -1, 13, -1, -1, 8, 3, -1, 27, -1, -1, -1, 12, -1, -1, 28, 30, -1, -1, 9, -1, -1, -1, 14, -1, -1, 46, 4, 31, -1, -1, 2, -1, 1, 48, -1, 11, -1, 0, 26, -1, 30, 15, 5, -1, -1, 1, 22, -1, 0, 50, 14, -1, 37, 18, -1, 6, 2, -1, 53, 48, -1, -1, 0, -1, -1, 19, -1, -1, -1, 24, -1, -1, 0, -1, -1, -1, -1, -1, 5, 20, 11, 15, -1, -1, -1, 0, 1, 16, 37, 0, 0, -1, -1, -1, -1, 14, 8, 0, 56, 1, -1, -1, 27, 0, 0, 1, 5, -1, -1, -1, 30, -1, -1, 15, -1, -1, -1, 38, -1, 1, -1, -1, 57, -1, -1, -1, -1, -1, -1, 1, -1, 0, 2, -1, 22, 22, -1, -1, 4, -1, -1, 23, 53, -1, 44, -1, -1, -1, -1, 20, -1, -1, 20, -1, 0, 1, 19, -1, -1, -1, 3, 2, -1, -1, -1, 0, -1, -1, -1, -1, -1, 35, -1, 20, -1, -1, 17, -1, -1, -1, 16, -1, 0, -1, 0, -1, 41, -1, -1, 23, -1, 2, 51, -1, -1, -1, -1, -1, 21, 1, -1, 1, 28, 12, -1, -1, 37, 20, 0, -1, -1, 0, -1, -1, 0, 1, 12, -1, -1, -1, -1, -1, -1, -1, -1, 56, -1, 0, 10, 20, 34, 8, 8, -1, 33, 13, -1, 20, -1, -1, -1, -1, -1, 8, 34, -1, -1, -1, 18, -1, -1, 15, -1, 2, -1, -1, 3, 4, 17, -1, 38, 35, -1, -1, -1, -1, 16, -1, -1, 0, 11, 0, -1, 38, 0, 3, -1, 1, 0, -1, 13, -1, -1, -1, 2, 26, -1, -1, -1, 13, -1, 5, 52, -1, -1, -1, -1, -1, 9, 9, 51, -1, 0, 21, -1, 0, -1, -1, -1, 4, -1, -1, -1, -1, 7, -1, -1, -1, -1, -1, 25, -1, -1, 17, -1, -1, 40, 0, -1, -1, -1, 1, -1, 4, -1, -1, -1, -1, -1, -1, 48, -1, -1, 4, 8, -1, -1, 3, -1, 25, -1, 0, 1, -1, -1, -1, -1, 0, -1, -1, 39, 0, 8, 33, -1, -1, -1, 2, -1, 5, -1, 0, -1, 17, 43, -1, -1, -1, 5, -1, 39, -1, -1, 0, -1, 57, -1, 0, -1, -1, 31, 4, -1, -1, -1, -1, -1, -1, -1, -1, 3, 0, -1, -1, -1, -1, -1, 55, -1, 0, 8, 17, -1, 0, 3, -1, 0, 25, -1, 2, 17, -1, 5, 9, -1, -1, 19, 8, 0, -1, 1, 4, -1, 4, -1, 0, -1, -1, -1, 5, 15, -1, 32, -1, 48, 45, -1, 29, 2, 13, -1, -1, -1, 0, 2, -1, -1, -1, -1, 6, -1, -1, -1, 0, -1, -1, -1, -1, 0, -1, -1, -1, -1, -1, -1, -1, -1, -1, 0, -1, 6, -1, 1, 15, 52, 0, -1, -1, -1, 4, 18, -1, -1, -1, 0, -1, 4, 22, -1, 57, 2, -1, 14, -1, -1, -1, 16, -1, -1, -1, 0, 10, 9, 49, -1, 31, -1, 39, -1, -1, -1, -1, 4, 0, -1, 49, -1, -1, 10, 22, -1, -1, -1, 5, 0, 0, -1, 23, -1, -1, -1, -1, -1, -1, 10, -1, 0, -1, 1, -1, 58, -1, 27, -1, 0, 15, -1, -1, 0, -1, -1, 11, 6, 3, 0, -1, 55, 1, -1, 14, -1, 5, 0, 0, -1, 3, -1, 0, -1, 0, -1, 3, -1, -1, -1, -1, 9, -1, -1, -1, 6, -1, -1, -1, -1, 26, 8, 0, -1, -1, 3, 34, 0, -1, -1, 6, 43, 48, -1, 2, -1, -1, 25, 4, -1, -1, -1, -1, 44, 1, -1, 0, -1, 1, -1, -1, -1, -1, -1, -1, 3, 4, -1, -1, 15, 0, 22, -1, -1, -1, 57, -1, -1, 17, 18, -1, 42, -1, 31, -1, -1, 22, 4, -1, 17, 28, 0, -1, -1, -1, 3, 16, -1, -1, -1, -1, -1, 35, -1, -1, 31, 21, 11, -1, 2, 10, 6, 10, -1, 28, 0, -1, -1, -1, 0, 0, 2, -1, -1, 0, -1, 2, -1, 53, 5, -1, -1, -1, -1, -1, 11, 2, -1, 0, -1, -1, -1, 0, -1, -1, -1, 16, 58, 4, 17, -1, 12, 3, -1, -1, 20, 28, -1, 35, 7, 24, 2, 0, -1, 0, 31, -1, -1, -1, 2, 4, 0, 0, 18, -1, 0, -1, 22, 8, -1, 22, -1, -1, -1, 0, 2, -1, -1, -1, 2, 55, -1, -1, -1, -1, 3, -1, -1, 1, -1, 43, 3, 8, 40, -1, 20, -1, 0, -1, -1, -1, 0, -1, -1, 0, -1, -1, -1, 14, -1, -1, 18, -1, -1, 2, -1, -1, -1, -1, -1, -1, 0, 5, 5, -1, 41, 8, 0, 21, -1, 41, -1, 5, -1, -1, -1, 8, -1, -1, -1, -1, 11, 23, 0, -1, 3, 21, -1, 7, -1, -1, -1, -1, 3, -1, -1, 2, 9, -1, -1, 35, 21, 58, -1, -1, -1, 3, 1, -1, 45, -1, 24, -1, 0, -1, 11, -1, -1, -1, 9, 37, -1, 3, -1, 2, 31, -1, -1, -1, -1, -1, -1, 9, -1, 6, 10, -1, 21, -1, 34, 18, 0, -1, -1, -1, 8, -1, -1, 3, -1, -1, -1, -1, -1, -1, -1, -1, -1, -1, 0, -1, 26, 2, 0, -1, -1, 36, 3, -1, 12, -1, -1, -1, -1, -1, -1, -1, 0, -1, -1, 2, -1, -1, -1, -1, -1, 19, -1, 30, 0, 5, -1, 15, 27, -1, -1, 0, -1, 14, -1, -1, 57, -1, 4, 1, -1, 1, 0, 0, 5, 0, -1, -1, -1, 9, -1, -1, -1, -1, 17, 22, -1, -1, 12, -1, -1, -1, 12, 9, 46, -1, -1, -1, 1, 34, -1, 10, 19, -1, 0, 39, 8, -1, 11, -1, 1, -1, -1, -1, -1, -1, 0, 3, 4, -1, -1, 24, -1, -1, -1, 0, 1, -1, 0, -1, -1, 1, -1, 10, 2, -1, -1, -1, 8, 21, -1, -1, -1, -1, 0, 10, -1, -1, 1, 19, -1, -1, 24, -1, -1, 49, 3, -1, -1, -1, 16, -1, -1, 0, -1, 0, 24, -1, -1, -1, 2, 0, 0, -1, 11, -1, -1, -1, -1, 3, -1, 24, 0, 3, -1, -1, 0, 9, -1, 0, 0, -1, -1, -1, -1, -1, -1, -1, -1, 10, -1, 1, 0, 0, -1, 0, 41, 0, 12, -1, -1, 2, -1, -1, -1, 1, -1, 34, -1, -1, -1, -1, 14, -1, 14, -1, -1, -1, -1, -1, 20, 4, 0, -1, -1, -1, -1, -1, -1, -1, 5, -1, 2, 0, -1, -1, 27, 0, 2, 8, -1, 38, -1, -1, 0, 2, 0, 8, 8, 4, -1, -1, 43, 2, -1, 27, -1, 0, -1, -1, -1, -1, 0, -1, 52, 21, 0, -1, -1, 1, 0, 7, -1, -1, -1, 0, 3, 21, -1, -1, -1, -1, -1, -1, -1, -1, 16, 0, 22, -1, 14, -1, -1, 36, -1, -1, 3, -1, -1, -1, -1, -1, -1, 0, 1, 15, 5, 0, 53, 32, 18, 49, -1, 13, -1, 49, 25, -1, 11, -1, -1, 3, 39, -1, -1, 20, 19, 6, 3, 2, 11, -1, -1, -1, 24, 34, 24, -1, 0, -1, -1, 13, 45, 1, -1, 1, 0, -1, 0, 0, 22, -1, -1, -1, 6, 11, -1, -1, -1, -1, 0, 4, 35, -1, 28, -1, -1, 2, -1, 14, -1, -1, 26, -1, 38, -1, -1, 6, -1, 27, -1, -1, -1, -1, -1, 3, 27, 19, 1, -1, 1, 3, -1, -1, 0, -1, -1, 1, -1, 0, -1, -1, -1, 57, -1, -1, -1, 3, 2, 29, 0, -1, -1, -1, -1, -1, 2, -1, 0, 3, 30, 0, -1, -1, 0, -1, 21, 2, -1, -1, 0, 43, 3, 20, -1, 4, 3, -1, -1, 37, -1, -1, -1, -1, 0, 1, 23, 11, -1, 26, -1, 13, -1, 5, -1, -1, -1, 43, 1, 11, -1, 0, -1, -1, -1, 34, 11, 26, 0, -1, 29, 29, -1, -1, -1, -1, -1, -1, -1, 14, -1, 10, -1, -1, 30, -1, -1, -1, 27, 4, -1, -1, 28, 0, 0, -1, 9, -1, 40, -1, -1, 44, 1, -1, -1, -1, 0, -1, 0, -1, -1, -1, -1, -1, -1, 17, -1, 0, 2, -1, 23, 15, -1, 34, -1, -1, 0, 0, -1, 5, -1, -1, 25, 2, 5, 16, 0, 4, 2, -1, 23, 0, -1, -1, 0, 56, -1, 1, -1, 4, 11, -1, -1, 0, -1, 52, -1, -1, -1, -1, -1, -1, 0, 5, -1, 2, -1, 0, -1, 1, -1, -1, 0, -1, 4, 8, 0, 36, 0, -1, -1, -1, 24, -1, -1, -1, -1, 0, -1, 20, -1, -1, 0, 27, -1, 14, 18, -1, -1, -1, 45, -1, 2, 0, -1, 23, -1, 3, -1, -1, 0, -1, 2, 0, -1, 12, -1, -1, 36, 34, 35, 1, 3, -1, -1, 3, 0, -1, 30, -1, 0, -1, -1, 2, -1, 0, 38, 41, -1, 0, 29, 37, -1, -1, 13, -1, -1, 1, 14, -1, -1, -1, -1, 1, -1, -1, 37, -1, 12, -1, -1, -1, -1, 58, 4, 11, -1, -1, -1, -1, -1, 3, 0, -1, 0, 44, -1, -1, -1, -1, 26, 1, -1, 1, 3, -1, 2, -1, -1, -1, 2, -1, 1, -1, 17, -1, -1, -1, 3, -1, 51, -1, -1, 25, 49, 3, 35, 15, -1, 36, -1, 17, 2, -1, -1, -1, -1, -1, 0, -1, 11, -1, 46, -1, 0, -1, 15, 0, -1, 10, 5, 0, -1, -1, 7, -1, 13, 3, -1, 2, -1, 8, -1, 5, 12, -1, 15, 0, 20, 0, 13, -1, -1, -1, 1, -1, 0, -1, -1, 27, 38, 0, -1, -1, -1, -1, 0, -1, -1, -1, -1, -1, 29, -1, -1, 18, 27, -1, -1, 2, -1, 27, 0, -1, -1, 0, 3, 3, -1, 20, 2, -1, -1, 19, -1, -1, -1, 0, 40, -1, 0, -1, -1, -1, -1, -1, 0, -1, -1, -1, 0, -1, 0, -1, 5, -1, -1, 0, -1, 5, -1, -1, 7, -1, -1, 0, -1, 7, -1, 17, 26, -1, 1, 0, -1, -1, -1, -1, -1, -1, 0, -1, -1, 3, 0, 0, 19, -1, 0, 0, -1, -1, -1, 1, -1, -1, 20, 3, -1, -1, -1, -1, 5, 32, 2, -1, -1, -1, -1, -1, 4, 8, -1, 1, -1, -1, -1, 40, -1, 29, 42, 33, 0, -1, -1, 0, 30, -1, 0, -1, 15, -1, -1, -1, -1, 5, -1, -1, -1, -1, 1, -1, -1, 1, -1, 20, 0, 15, -1, -1, 25, -1, -1, -1, -1, -1, 0, 6, -1, 1, -1, -1, -1, 0, 40, 5, 14, -1, -1, 16, -1, 6, -1, -1, 0, -1, 50, -1, 6, 16, 0, -1, 24, 0, -1, -1, 53, 14, -1, -1, -1, 33, -1, -1, -1, 30, 33, 6, -1, -1, -1, -1, -1, 26, -1, 2, 16, -1, -1, 14, -1, 25, 0, 11, 13, -1, 10, -1, -1, -1, -1, 39, 0, -1, -1, -1, -1, -1, 11, 5, 2, -1, 0, 0, -1, -1, -1, 11, 21, -1, 5, 3, 26, -1, -1, -1, -1, -1, 0, 7, 0, 4, 53, 3, -1, -1, -1, 5, -1, 0, 3, -1, -1, 0, 1, -1, -1, 4, 27, 34, 48, -1, 20, -1, -1, -1, -1, -1, -1, 1, -1, -1, -1, 27, 0, -1, -1, -1, -1, -1, -1, 6, -1, 17, -1, 45, -1, 12, -1, -1, -1, -1, -1, -1, -1, -1, -1, 20, 3, -1, 36, 23, -1, -1, 10, 1, 0, -1, 6, -1, 0, 0, -1, 5, 2, 0, 2, 13, 11, 42, -1, 0, -1, -1, 0, 10, 0, -1, -1, -1, 3, -1, -1, 9, 35, -1, 0, -1, 0, -1, -1, 38, -1, 6, -1, 3, 43, 1, 2, -1, 0, 5, -1, -1, 6, 1, 2, -1, -1, 2, 0, -1, -1, 10, -1, -1, -1, -1, 16, -1, -1, -1, 0, 0, 33, 0, 5, -1, 9, 0, -1, 1, 0, -1, -1, -1, 3, 7, -1, -1, -1, -1, -1, -1, 20, -1, 31, -1, -1, -1, 1, -1, -1, -1, -1, -1, -1, 49, -1, 1, 0, 27, -1, 2, 0, 2, -1, 9, 35, 58, -1, -1, 3, -1, -1, -1, 40, 9, -1, 1, -1, -1, -1, 2, -1, 26, 22, -1, 50, -1, 27, 4, -1, 1, -1, 22, 0, 10, -1, 4, 2, -1, 2, -1, 42, -1, 3, 33, -1, -1, 11, 6, 4, 2, 27, 19, -1, -1, -1, -1, -1, -1, 21, 50, -1, 14, -1, -1, -1, -1, -1, -1, -1, -1, 0, -1, -1, -1, 3, -1, 10, -1, -1, 0, 32, -1, -1, -1, -1, -1, -1, 3, 10, 3, 10, -1, -1, 0, -1, -1, -1, -1, 19, 0, -1, -1, -1, -1, 2, -1, -1, -1, -1, 13, -1, 56, 0, -1, 45, -1, -1, -1, -1, -1, -1, -1, -1, -1, -1, -1, -1, -1, 37, 21, -1, 10, 1, 20, -1, -1, -1, 4, -1, -1, 6, 0, 0, -1, 1, -1, -1, 0, 56, -1, -1, -1, 26, -1, 0, 2, -1, 3, -1, 1, 0, 9, 0, -1, -1, -1, -1, 16, 3, -1, 1, -1, -1, -1, -1, -1, -1, 16, 11, 1, 30, 0, 0, -1, 0, -1, 33, 12, -1, -1, 35, 14, -1, -1, -1, 5, -1, 0, -1, -1, 23, -1, 21, -1, -1, -1, -1, 54, 0, -1, -1, 5, -1, 27, 0, 55, -1, -1, -1, 0, 0, 39, -1, 1, 0, 27, -1, -1, 6, 6, 14, 3, 8, -1, 0, -1, 36, -1, 5, 0, -1, 1, -1, -1, 2, 11, -1, -1, 0, 0, 21, 27, -1, 1, -1, -1, -1, -1, 52, -1, 16, 1, 3, -1, 0, 0, 55, 5, -1, 0, 0, -1, -1, -1, -1, -1, -1, 10, -1, 0, 9, -1, 59, 0, -1, 4, -1, 36, -1, -1, -1, 50, 38, -1, -1, 0, 11, -1, -1, -1, 0, -1, -1, 1, -1, -1, 0, 7, 44, 8, 44, -1, -1, 0, -1, 7, -1, 7, 1, 0, 42, 47, 4, -1, -1, 5, -1, -1, -1, 0, 0, 16, -1, 3, 35, -1, 2, -1, -1, -1, 43, -1, -1, -1, 2, 7, 0, -1, -1, 16, -1, 42, -1, 6, -1, 48, -1, -1, -1, 41, -1, -1, -1, -1, 26, -1, 9, 6, -1, 3, -1, 12, 5, -1, 1, 35, -1, -1, 34, 3, 4, -1, 0, -1, -1, -1, 0, 1, 6, -1, 2, 37, 8, 57, -1, -1, -1, -1, -1, 50, 16, -1, -1, -1, 39, 15, -1, -1, 0, -1, 41, -1, -1, -1, 0, 0, -1, 10, 1, -1, 55, -1, -1, -1, -1, 0, 31, -1, 7, 15, -1, 31, -1, 46, -1, 2, 0, 3, 54, -1, -1, -1, -1, -1, 4, -1, 1, 6, 18, -1, -1, 36, 24, -1, -1, 8, 52, -1, 0, 27, -1, 14, 36, -1, -1, 0, -1, 2, 25, 41, 4, 16, 3, 2, -1, -1, 0, 0, 11, 0, 18, 51, -1, -1, 0, -1, 28, -1, 0, 59, 37, -1, -1, -1, -1, -1, -1, -1, -1, 0, 16, 21, -1, -1, 0, -1, 29, -1, -1, 51, -1, -1, -1, 0, -1, 4, 0, 33, -1, 1, -1, 0, 6, -1, -1, -1, -1, -1, -1, -1, 23, -1, -1, -1, -1, 4, -1, -1, 0, 0, 0, -1, 2, -1, -1, -1, -1, -1, -1, -1, 15, 10, 45, 2, -1, 22, 6, 8, 1, -1, -1, -1, -1, -1, -1, -1, -1, 0, -1, 19, -1, -1, -1, -1, 3, -1, 18, -1, 9, -1, -1, 20, 11, -1, -1, -1, -1, 6, -1, 4, -1, 28, 0, -1, -1, -1, -1, 1, 6, 31, 8, 0, -1, 0, -1, -1, 24, -1, -1, -1, 0, 25, 13, 15, -1, -1, 0, -1, 9, -1, 10, 2, 0, -1, -1, 0, -1, 0, 26, 0, -1, 57, -1, 14, 15, 47, -1, -1, -1, 3, -1, 9, 40, -1, -1, 35, 38, -1, 0, 57, -1, -1, -1, -1, -1, 5, 12, -1, 0, -1, 0, -1, 2, 0, -1, 0, -1, 0, -1, 0, 5, 32, 6, -1, 2, 15, -1, 12, 1, 33, -1, -1, 13, 12, -1, -1, -1, 28, -1, 1, 26, -1, -1, -1, 39, -1, -1, -1, 25, -1, -1, 0, 0, 0, 0, 3, 12, -1, -1, -1, -1, -1, -1, 6, 50, 1, 1, 29, -1, -1, -1, 6, -1, 18, 0, 45, -1, -1, -1, -1, -1, -1, 1, -1, 11, 12, 7, 0, 5, 1, -1, 11, 22, -1, -1, -1, 18, -1, -1, 11, -1, -1, -1, -1, -1, 2, -1, 0, 3, -1, 0, -1, -1, 5, -1, -1, -1, 0, -1, 2, -1, -1, -1, 5, -1, -1, -1, 13, 4, 0, 0, -1, -1, -1, 14, -1, 4, -1, -1, 0, -1, 22, 21, 3, -1, -1, 0, -1, 5, -1, -1, -1, -1, -1, 0, -1, -1, 0, 24, 0, -1, 13, -1, -1, 18, 2, 5, -1, -1, -1, -1, 0, 3, -1, -1, -1, 1, 15, -1, 58, -1, -1, -1, -1, -1, -1, 4, 11, 18, -1, -1, -1, 0, -1, -1, 0, -1, -1, 1, -1, 1, -1, -1, -1, -1, -1, -1, -1, -1, 58, 22, -1, 13, 37, -1, 6, 6, -1, 8, -1, 3, 47, 0, -1, 1, -1, -1, 5, -1, 31, 5, 1, 0, -1, -1, 3, -1, -1, -1, -1, 4, 0, 15, 48, 0, -1, 4, -1, -1, -1, 21, -1, 9, -1, -1, -1, -1, 4, -1, -1, -1, 0, 1, 35, 1, 4, -1, -1, -1, 0, -1, -1, 2, -1, -1, -1, 33, 17, -1, -1, -1, -1, 0, 0, 4, 0, -1, 0, 4, 5, -1, -1, -1, -1, -1, -1, -1, -1, -1, -1, -1, 41, 49, 24, 0, -1, -1, 0, 30, 17, -1, 33, -1, 0, -1, 14, -1, 57, -1, -1, 23, -1, -1, -1, -1, 12, -1, 13, 9, -1, 0, -1, 33, 2, -1, 55, -1, -1, 23, -1, -1, 1, -1, -1, -1, 0, 3, 11, 2, -1, 4, 3, 13, 2, -1, -1, 18, 6, 4, 0, -1, 40, 1, -1, -1, -1, -1, 2, -1, 11, 46, -1, -1, -1, 27, 0, 33, -1, 11, 16, 15, 0, -1, -1, 0, -1, 0, -1, 17, 45, -1, 59, -1, -1, -1, -1, -1, 0, -1, 0, 31, -1, -1, -1, -1, -1, 6, -1, 0, -1, -1, -1, 0, 2, 44, 50, 3, 1, 7, 6, -1, 52, -1, 33, -1, 26, 1, 2, 4, -1, 45, 24, -1, 6, 39, 11, 6, -1, -1, 4, 17, 2, 3, -1, -1, -1, -1, 0, 29, -1, 59, -1, 6, -1, -1, 2, 5, 33, -1, 1, -1, 30, -1, -1, 6, -1, -1, -1, -1, 24, 31, -1, -1, -1, 38, -1, 6, 0, -1, 4, -1, -1, -1, 25, 0, -1, -1, -1, 4, -1, -1, -1, -1, -1, -1, -1, -1, 58, -1, -1, -1, 0, -1, 31, -1, 3, -1, -1, -1, 10, -1, -1, 2, 13, -1, -1, 2, -1, 4, 46, 0, -1, 1, 53, 25, -1, 0, 2, -1, -1, 21, -1, -1, -1, 1, -1, 53, -1, -1, -1, -1, -1, -1, 0, -1, -1, -1, 21, 52, -1, -1, -1, -1, -1, -1, 48, -1, -1, 1, 45, 38, -1, -1, 0, 0, 28, 7, 52, -1, 0, 12, -1, 4, -1, -1, 5, 20, -1, -1, -1, 11, -1, 15, 29, -1, -1, 57, -1, -1, 54, -1, 3, -1, -1, -1, 12, 51, 1, 1, -1, -1, 1, 0, 0, -1, -1, 0, -1, 42, -1, -1, -1, 0, 3, -1, 2, -1, -1, -1, -1, -1, 27, -1, -1, -1, -1, 2, -1, 39, 40, 2, 13, 3, 0, 31, -1, 0, -1, -1, 0, -1, 3, -1, 5, -1, -1, -1, 0, 59, 4, 4, 10, -1, -1, -1, -1, -1, -1, -1, -1, -1, -1, 0, -1, 36, -1, 0, 3, 0, -1, -1, -1, -1, -1, -1, 48, 0, 17, 13, -1, 49, 15, -1, -1, -1, -1, 0, -1, 22, 15, 1, -1, -1, -1, -1, 6, -1, 47, 36, 8, -1, -1, -1, 11, 6, 25, 8, -1, -1, -1, 14, 0, 19, 46, -1, -1, 37, -1, 0, 9, 0, 5, 3, -1, 28, 55, 3, -1, 0, 0, 4, -1, 0, -1, 32, -1, -1, -1, -1, 0, 0, 4, 8, 3, -1, -1, -1, -1, -1, 1, 0, -1, -1, -1, 36, 6, -1, -1, -1, 1, 0, 36, -1, -1, -1, 34, -1, 58, 8, -1, -1, -1, 47, -1, -1, -1, -1, -1, -1, -1, 0, -1, -1, 38, 13, -1, 7, -1, -1, -1, -1, 26, 1, 10, -1, -1, -1, -1, -1, 13, 1, -1, -1, 8, 35, -1, -1, 10, -1, 26, 7, 7, -1, -1, -1, 36, 2, -1, 47, -1, -1, 8, 0, 59, 0, -1, -1, 0, 7, 1, 0, -1, -1, -1, 0, 0, -1, 0, 2, 7, 14, -1, 6, -1, -1, 4, 18, 32, -1, 20, -1, -1, -1, -1, -1, -1, -1, 1, 5, -1, 0, 10, -1, 0, -1, -1, -1, 51, 54, 0, -1, 45, 2, -1, -1, -1, 8, 2, 6, -1, -1, -1, 3, 42, -1, 2, -1, 2, 1, 0, -1, 12, 0, -1, -1, 0, 2, 14, -1, -1, -1, 5, 6, 3, -1, 22, -1, 3, 43, -1, -1, -1, 21, -1, 0, 0, 0, 3, -1, 52, -1, -1, -1, -1, 0, 27, 11, 37, 8, -1, 21, -1, 11, 4, -1, -1, -1, 26, 17, 25, -1, 58, 57, -1, -1, -1, -1, 16, -1, 5, -1, 4, 20, 1, -1, 21, 28, -1, -1, -1, -1, 0, 0, 0, -1, 0, -1, -1, -1, 0, 5, -1, 1, -1, -1, 0, -1, -1, 25, -1, 0, 33, -1, -1, 0, -1, -1, -1, -1, -1, -1, -1, -1, -1, 3, -1, -1, -1, 50, -1, 27, 2, -1, -1, -1, 13, -1, -1, 53, 27, 52, -1, 1, -1, -1, 16, -1, 6, 0, 17, -1, -1, -1, 0, 34, 19, 1, -1, -1, -1, -1, -1, 1, -1, -1, 5, -1, -1, 3, 15, 43, 42, 31, -1, -1, 7, -1, 0, -1, -1, -1, -1, -1, 25, 5, -1, 13, -1, -1, 35, 1, -1, 11, -1, -1, 0, 0, 0, -1, -1, -1, -1, 0, -1, 9, 40, -1, -1, -1, -1, -1, 0, 22, -1, 3, -1, 32, 36, 50, -1, 27, 6, -1, -1, 16, -1, -1, 13, 1, -1, 3, -1, -1, -1, -1, -1, 2, -1, -1, -1, -1, -1, -1, 0, 0, 7, -1, -1, 5, -1, -1, 19, -1, -1, -1, 13, 0, 42, 1, -1, 6, 55, -1, 1, -1, 0, -1, 5, -1, 20, 19, 0, -1, -1, -1, 6, -1, 20, -1, -1, 6, 51, -1, -1, -1, -1, -1, -1, 0, 45, -1, -1, -1, -1, 3, -1, 0, -1, -1, 4, -1, -1, 11, -1, 2, -1, -1, 52, -1, 59, -1, 33, -1, 23, -1, 5, 0, 16, -1, 1, 0, 8, 50, 41, 35, 0, -1, -1, -1, 0, 4, -1, -1, 43, -1, -1, -1, 0, 10, 43, -1, 49, -1, -1, 4, 24, 0, 43, 14, -1, -1, 7, 1, 9, -1, -1, -1, 22, 5, 0, 0, 30, -1, -1, 0, 43, 3, 2, -1, 1, -1, -1, -1, 55, 46, -1, -1, 3, 40, 28, -1, 1, 14, -1, 48, 45, 4, 38, 0, 5, 8, -1, -1, 16, 13, 15, 3, -1, -1, -1, -1, -1, 48, 3, 42, -1, 43, -1, -1, -1, 0, 34, 46, -1, -1, -1, 0, -1, -1, -1, 6, 1, 0, -1, -1, -1, 3, -1, -1, 3, -1, -1, 13, 31, -1, -1, -1, 25, -1, -1, -1, -1, -1, -1, 15, 0, 1, 18, -1, 0, -1, 0, 2, -1, -1, -1, 31, -1, -1, 6, -1, -1, -1, -1, -1, -1, -1, 38, -1, -1, -1, -1, -1, -1, -1, 5, -1, 0, 53, 7, -1, 0, -1, -1, 22, 3, -1, 6, 2, -1, 12, 2, 40, 0, 1, 0, 7, -1, -1, -1, 8, 22, -1, 3, -1, -1, -1, -1, 23, -1, 7, 12, 8, -1, 57, -1, 46, 27, -1, -1, -1, 15, -1, -1, -1, 11, -1, 10, 0, 27, 1, 1, -1, -1, -1, -1, -1, -1, 1, 0, 0, 1, 41, 12, 0, 0, -1, -1, 3, -1, 37, -1, -1, 59, -1, 26, 41, -1, 36, -1, 6, -1, 5, -1, 9, 14, 21, 9, -1, -1, -1, -1, 5, -1, 0, -1, -1, 0, 0, -1, -1, 52, 2, -1, -1, 0, -1, -1, 27, 2, -1, -1, 44, -1, 0, 33, -1, -1, -1, -1, 43, -1, -1, 7, 54, 49, -1, 48, -1, 7, 49, 16, -1, 28, 6, 4, -1, 29, -1, -1, -1, -1, 50, 2, 1, 0, 5, 1, -1, 18, 1, -1, -1, 29, -1, 0, 0, -1, 5, 2, -1, -1, -1, 23, -1, -1, 56, 0, -1, -1, -1, 1, 1, -1, -1, -1, 17, 0, -1, -1, 5, 31, -1, 13, -1, 11, 0, 0, 0, -1, -1, 53, 8, -1, 32, 27, 0, 4, 1, 14, 3, 20, -1, 4, -1, -1, -1, -1, 37, -1, -1, -1, 0, -1, 13, -1, -1, -1, -1, 3, -1, -1, -1, -1, -1, 58, 1, 15, -1, 4, 0, -1, -1, -1, 5, 39, 13, -1, -1, 6, 2, -1, 0, 3, -1, 2, -1, 9, 15, -1, 7, 38, 0, 14, -1, -1, -1, -1, -1, -1, 15, 0, -1, 0, -1, 13, 16, 1, -1, 29, -1, 21, -1, -1, 0, -1, -1, -1, 0, 2, 0, 39, -1, 2, 34, 15, -1, 44, -1, 1, 53, 4, 16, -1, -1, -1, -1, -1, 6, -1, 1, -1, -1, 0, 1, -1, 1, 44, 33, 18, 0, 4, 9, 2, -1, -1, 0, -1, 4, -1, 9, 8, -1, 52, -1, -1, 3, 2, -1, -1, -1, -1, 29, 55, -1, 6, -1, 58, -1, -1, -1, -1, 40, 25, -1, 25, -1, -1, 2, -1, -1, 24, 3, 37, -1, 0, 8, 6, 44, -1, 13, 9, -1, -1, -1, 4, 16, 23, 2, 1, -1, -1, -1, -1, -1, -1, 6, -1, -1, -1, -1, 5, -1, 2, -1, -1, -1, -1, 15, -1, 0, -1, 9, -1, -1, -1, -1, 4, 25, -1, 57, -1, 24, -1, -1, 17, -1, -1, -1, -1, 2, -1, -1, -1, -1, -1, 14, -1, -1, 10, 3, -1, -1, 5, 54, -1, 36, 7, -1, 19, 12, 7, 0, 39, 1, 7, 7, -1, 54, 19, 3, 2, 49, -1, 27, 40, 1, 46, -1, 10, -1, -1, 34, -1, -1, -1, 14, -1, 4, 0, -1, -1, -1, -1, 1, 6, 13, -1, -1, -1, -1, -1, 7, 42, 29, -1, -1, 3, -1, 54, 25, -1, -1, 13, 38, 11, -1, 6, 13, 0, -1, -1, -1, 4, 0, 0, 30, 3, 2, -1, 21, -1, -1, 0, -1, 18, -1, 1, -1, -1, -1, -1, -1, -1, 1, 0, -1, -1, 19, -1, -1, 25, 11, 30, 13, -1, 11, 11, -1, -1, 1, 1, -1, 0, -1, 4, 25, -1, 32, -1, 0, -1, 1, 4, -1, -1, 1, -1, -1, 10, -1, 34, -1, 29, 0, 0, -1, -1, -1, 28, 0, -1, 18, -1, -1, -1, -1, -1, -1, 26, 56, -1, -1, 54, -1, 2, -1, -1, 0, -1, 4, -1, -1, 0, -1, 2, -1, 2, 9, -1, 5, 23, -1, -1, 9, 14, 0, 48, 0, 0, -1, -1, -1, -1, -1, 7, 18, 10, -1, 11, -1, -1, 1, 2, -1, -1, 0, 23, -1, 0, -1, 0, 0, -1, -1, 30, -1, -1, -1, 4, 1, -1, -1, -1, 35, 32, 0, -1, 24, -1, -1, 5, -1, -1, -1, -1, -1, 0, 47, -1, -1, -1, 3, 53, -1, 57, -1, -1, -1, -1, 9, -1, -1, 27, -1, -1, 40, -1, -1, -1, 0, 0, -1, -1, -1, 0, -1, -1, -1, 59, 3, 8, -1, -1, -1, -1, 51, 36, 2, 39, -1, -1, -1, -1, -1, -1, -1, 5, -1, 4, -1, 1, -1, 3, -1, -1, 43, -1, 57, -1, -1, 13, 4, 9, 0, 26, -1, 35, -1, -1, -1, 14, 56, 3, 33, 7, -1, -1, 0, -1, 25, -1, -1, -1, 2, -1, -1, -1, 26, 13, -1, 4, -1, 12, -1, -1, -1, 11, -1, 18, -1, -1, 37, 29, 0, 14, 2, 8, -1, -1, -1, 36, 0, -1, -1, -1, -1, 5, -1, -1, -1, 12, -1, -1, 10, 0, -1, 0, -1, -1, -1, 26, 29, -1, -1, 20, -1, -1, 8, -1, -1, 3, 8, 53, 23, 7, 4, 29, -1, 4, 1, -1, -1, -1, -1, -1, -1, 9, -1, -1, -1, 6, -1, 0, -1, -1, 19, 5, -1, 11, -1, -1, -1, -1, 11, -1, 1, -1, -1, 18, -1, -1, -1, -1, 41, 1, -1, 1, 37, -1, 0, -1, 3, -1, -1, 6, -1, 59, -1, 3, -1, -1, 52, 5, -1, 2, 32, 27, 3, -1, 0, 1, -1, -1, -1, 29, 1, -1, -1, -1, -1, 7, -1, -1, -1, -1, -1, 13, 26, -1, 47, -1, -1, -1, -1, -1, -1, 30, -1, -1, 49, 3, -1, 0, -1, -1, -1, 3, -1, -1, -1, 6, -1, 6, 14, -1, 2, 5, 39, 7, 55, -1, 0, -1, 51, 19, 0, 6, 4, 7, -1, -1, -1, -1, -1, 12, -1, 1, 0, 0, 0, 0, -1, 34, -1, -1, -1, -1, -1, 10, 0, 0, 5, 1, -1, 13, 45, -1, -1, 47, 21, -1, 6, -1, 18, -1, -1, 8, -1, 1, -1, -1, 46, 0, -1, 41, -1, 49, 28, 8, -1, -1, -1, -1, 36, 5, -1, -1, -1, -1, -1, 1, -1, 4, -1, 1, 8, 29, -1, 19, -1, -1, 0, 0, 31, 0, 27, -1, -1, 7, 0, -1, -1, -1, -1, -1, 3, 24, -1, 16, -1, -1, 0, 6, -1, 17, 0, 0, 9, 2, 3, 0, 18, 5, -1, -1, 15, -1, -1, -1, 22, -1, -1, -1, -1, -1, 18, 3, -1, 0, -1, 34, -1, -1, -1, 0, -1, -1, 1, 0, 4, 4, 0, 57, -1, 0, -1, 1, 40, 0, 12, -1, 2, -1, 38, -1, -1, 1, -1, -1, 32, -1, -1, -1, -1, 49, 14, 1, 37, -1, -1, 5, -1, 9, -1, -1, 59, -1, 53, 58, 0, -1, 0, 34, 12, -1, -1, -1, 41, -1, -1, 1, 0, -1, -1, -1, -1, 1, -1, -1, 22, 0, -1, -1, 0, 39, 30, -1, -1, 41, -1, 3, -1, -1, -1, -1, 0, 0, -1, -1, -1, -1, -1, 4, 10, -1, -1, 1, -1, 39, 9, 29, 5, -1, 31, 2, 24, -1, 0, -1, -1, 0, -1, 4, -1, 11, 30, 23, 32, -1, -1, -1, 4, -1, -1, 38, 3, -1, -1, 0, 6, -1, -1, 4, -1, -1, -1, -1, -1, -1, 0, 5, -1, 0, -1, 8, 20, -1, -1, 5, 3, -1, -1, -1, -1, -1, -1, -1, 24, 2, 19, 0, -1, 6, 0, -1, 1, 58, 27, -1, -1, 46, 11, 2, 11, -1, -1, -1, 0, -1, -1, 0, 13, -1, 59, -1, -1, 5, -1, 36, -1, -1, 3, -1, -1, 6, 43, -1, 0, -1, 0, -1, -1, -1, -1, -1, 3, 0, 3, 34, -1, -1, -1, -1, 23, 6]\n"
          ]
        }
      ]
    },
    {
      "cell_type": "markdown",
      "source": [],
      "metadata": {
        "id": "ipzieuf2J4rr"
      }
    },
    {
      "cell_type": "markdown",
      "metadata": {
        "id": "LXYJ745O-03Z"
      },
      "source": [
        "# **Söka efter teman**\n",
        "Efter att modellen tränats kan funktionen `find_topics` användas för att söka efter teman som liknar ett specifikt sökord. I koden nedan söker funktionen efter teman som liknar söktermen \"psykisk\" och presenterar de teman som mest liknar ordet:"
      ]
    },
    {
      "cell_type": "code",
      "metadata": {
        "colab": {
          "base_uri": "https://localhost:8080/"
        },
        "id": "lAdiVYej-2i-",
        "outputId": "c107bd7d-1025-4d4d-b179-d007c7d16cd2"
      },
      "source": [
        "similar_topics, similarity = topic_model.find_topics(\"psykisk\", top_n=5); similar_topics"
      ],
      "execution_count": null,
      "outputs": [
        {
          "output_type": "execute_result",
          "data": {
            "text/plain": [
              "[71, 45, 77, 9, 56]"
            ]
          },
          "metadata": {
            "tags": []
          },
          "execution_count": 11
        }
      ]
    },
    {
      "cell_type": "code",
      "metadata": {
        "colab": {
          "base_uri": "https://localhost:8080/"
        },
        "id": "Q9paNa09d3Xy",
        "outputId": "545bbd07-8850-46d4-fdb7-28cb3d158b15"
      },
      "source": [
        "topic_model.get_topic(71)"
      ],
      "execution_count": null,
      "outputs": [
        {
          "output_type": "execute_result",
          "data": {
            "text/plain": [
              "[('car', 0.03740731827314482),\n",
              " ('the car', 0.027790363401304377),\n",
              " ('dealer', 0.013837911908704722),\n",
              " ('the dealer', 0.009515109324321468),\n",
              " ('owner', 0.008430722097917726),\n",
              " ('previous owner', 0.008157988442865012),\n",
              " ('cars', 0.005827046491488879),\n",
              " ('the odometer', 0.00514870077683653),\n",
              " ('bought car', 0.004667512506960727),\n",
              " ('car with', 0.004498685875558186)]"
            ]
          },
          "metadata": {
            "tags": []
          },
          "execution_count": 12
        }
      ]
    },
    {
      "cell_type": "markdown",
      "metadata": {
        "id": "wekNoQNuUVoU"
      },
      "source": [
        "# **Model serialization**\n",
        "Modellen med dess interna inställningar kan sparas enkelt. Däremot sparas inte de data som ingår i analysen och inte heller de inbäddningar som skapas av BERT och c-TF_IDF. UMAP och HDBSCAN sparas dock."
      ]
    },
    {
      "cell_type": "code",
      "metadata": {
        "id": "nWUF1uxiSb_a"
      },
      "source": [
        "# Save model\n",
        "topic_model.save(\"my_model\")"
      ],
      "execution_count": null,
      "outputs": []
    },
    {
      "cell_type": "code",
      "metadata": {
        "id": "y_eHBI1jSb6i"
      },
      "source": [
        "# Load model\n",
        "my_model = BERTopic.load(\"my_model\")"
      ],
      "execution_count": null,
      "outputs": []
    },
    {
      "cell_type": "markdown",
      "metadata": {
        "id": "8ZKyW7NZpnEk"
      },
      "source": [
        "## Sentence-Transformers\n",
        "Sokm nämts går det att välja vilken sentence-transformers modell som helst. Det görs genom att ange namnet på modellen i argumentet embedding_model.\n",
        "\n"
      ]
    },
    {
      "cell_type": "code",
      "metadata": {
        "id": "k7sPgNfzprbP"
      },
      "source": [
        "#Exempel på BERTTopic med en annan embedding som klarar 50+ språk\n",
        "topic_model = BERTopic(embedding_model=\"xlm-r-bert-base-nli-stsb-mean-tokens\")"
      ],
      "execution_count": null,
      "outputs": []
    },
    {
      "cell_type": "markdown",
      "metadata": {
        "id": "SoMc1W-x7-b5"
      },
      "source": [
        "[Här](https://www.sbert.net/docs/pretrained_models.html) finns en lista med supporterade sentence transformers modeller.  \n"
      ]
    }
  ]
}